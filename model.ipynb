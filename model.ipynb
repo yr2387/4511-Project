{
  "nbformat": 4,
  "nbformat_minor": 0,
  "metadata": {
    "accelerator": "GPU",
    "colab": {
      "name": "model.ipynb",
      "provenance": [],
      "collapsed_sections": [],
      "machine_shape": "hm",
      "include_colab_link": true
    },
    "kernelspec": {
      "display_name": "Python 3",
      "name": "python3"
    }
  },
  "cells": [
    {
      "cell_type": "markdown",
      "metadata": {
        "id": "view-in-github",
        "colab_type": "text"
      },
      "source": [
        "<a href=\"https://colab.research.google.com/github/yr2387/E4511-2021-Rong/blob/main/model.ipynb\" target=\"_parent\"><img src=\"https://colab.research.google.com/assets/colab-badge.svg\" alt=\"Open In Colab\"/></a>"
      ]
    },
    {
      "cell_type": "markdown",
      "metadata": {
        "id": "SZ70ierx3pq2"
      },
      "source": [
        "### Install AMPL packages"
      ]
    },
    {
      "cell_type": "code",
      "metadata": {
        "colab": {
          "base_uri": "https://localhost:8080/"
        },
        "id": "dYPEij6rwDmP",
        "outputId": "f681c13a-5d69-4130-c539-832660e9b545"
      },
      "source": [
        "%tensorflow_version 1.x"
      ],
      "execution_count": 1,
      "outputs": [
        {
          "output_type": "stream",
          "text": [
            "TensorFlow 1.x selected.\n"
          ],
          "name": "stdout"
        }
      ]
    },
    {
      "cell_type": "code",
      "metadata": {
        "colab": {
          "base_uri": "https://localhost:8080/"
        },
        "id": "nNuv4Q5KFABw",
        "outputId": "eb92507e-6517-4245-c97f-6fecab2156f0"
      },
      "source": [
        "! wget -c https://repo.anaconda.com/archive/Anaconda3-2019.10-Linux-x86_64.sh\n",
        "! chmod +x Anaconda3-2019.10-Linux-x86_64.sh\n",
        "! bash ./Anaconda3-2019.10-Linux-x86_64.sh -b -f -p /usr/local\n",
        "\n",
        "# ! wget -c https://repo.anaconda.com/miniconda/Miniconda3-py37_4.9.2-Linux-x86_64.sh \n",
        "# ! chmod +x Miniconda3-py37_4.9.2-Linux-x86_64.sh\n",
        "# ! time bash Miniconda3-py37_4.9.2-Linux-x86_64.sh -b -f -p /usr/local\n",
        "\n",
        "! time conda install -y -c deepchem -c rdkit -c conda-forge -c omnia deepchem-gpu=2.3.0\n",
        "import sys\n",
        "sys.path.append('/usr/local/lib/python3.7/site-packages/')"
      ],
      "execution_count": 2,
      "outputs": [
        {
          "output_type": "stream",
          "text": [
            "--2021-04-03 20:59:22--  https://repo.anaconda.com/archive/Anaconda3-2019.10-Linux-x86_64.sh\n",
            "Resolving repo.anaconda.com (repo.anaconda.com)... 104.16.131.3, 104.16.130.3, 2606:4700::6810:8203, ...\n",
            "Connecting to repo.anaconda.com (repo.anaconda.com)|104.16.131.3|:443... connected.\n",
            "HTTP request sent, awaiting response... 200 OK\n",
            "Length: 530308481 (506M) [application/x-sh]\n",
            "Saving to: ‘Anaconda3-2019.10-Linux-x86_64.sh’\n",
            "\n",
            "Anaconda3-2019.10-L 100%[===================>] 505.74M   182MB/s    in 2.8s    \n",
            "\n",
            "2021-04-03 20:59:25 (182 MB/s) - ‘Anaconda3-2019.10-Linux-x86_64.sh’ saved [530308481/530308481]\n",
            "\n",
            "PREFIX=/usr/local\n",
            "Unpacking payload ...\n",
            "Collecting package metadata (current_repodata.json): - \b\b\\ \b\b| \b\b/ \b\b- \b\b\\ \b\b| \b\bdone\n",
            "Solving environment: - \b\b\\ \b\b| \b\b/ \b\b- \b\b\\ \b\b| \b\b/ \b\b- \b\b\\ \b\b| \b\b/ \b\b- \b\b\\ \b\b| \b\bdone\n",
            "\n",
            "## Package Plan ##\n",
            "\n",
            "  environment location: /usr/local\n",
            "\n",
            "  added / updated specs:\n",
            "    - _ipyw_jlab_nb_ext_conf==0.1.0=py37_0\n",
            "    - _libgcc_mutex==0.1=main\n",
            "    - alabaster==0.7.12=py37_0\n",
            "    - anaconda-client==1.7.2=py37_0\n",
            "    - anaconda-navigator==1.9.7=py37_0\n",
            "    - anaconda-project==0.8.3=py_0\n",
            "    - anaconda==2019.10=py37_0\n",
            "    - asn1crypto==1.0.1=py37_0\n",
            "    - astroid==2.3.1=py37_0\n",
            "    - astropy==3.2.2=py37h7b6447c_0\n",
            "    - atomicwrites==1.3.0=py37_1\n",
            "    - attrs==19.2.0=py_0\n",
            "    - babel==2.7.0=py_0\n",
            "    - backcall==0.1.0=py37_0\n",
            "    - backports.functools_lru_cache==1.5=py_2\n",
            "    - backports.os==0.1.1=py37_0\n",
            "    - backports.shutil_get_terminal_size==1.0.0=py37_2\n",
            "    - backports.tempfile==1.0=py_1\n",
            "    - backports.weakref==1.0.post1=py_1\n",
            "    - backports==1.0=py_2\n",
            "    - beautifulsoup4==4.8.0=py37_0\n",
            "    - bitarray==1.0.1=py37h7b6447c_0\n",
            "    - bkcharts==0.2=py37_0\n",
            "    - blas==1.0=mkl\n",
            "    - bleach==3.1.0=py37_0\n",
            "    - blosc==1.16.3=hd408876_0\n",
            "    - bokeh==1.3.4=py37_0\n",
            "    - boto==2.49.0=py37_0\n",
            "    - bottleneck==1.2.1=py37h035aef0_1\n",
            "    - bzip2==1.0.8=h7b6447c_0\n",
            "    - ca-certificates==2019.8.28=0\n",
            "    - cairo==1.14.12=h8948797_3\n",
            "    - certifi==2019.9.11=py37_0\n",
            "    - cffi==1.12.3=py37h2e261b9_0\n",
            "    - chardet==3.0.4=py37_1003\n",
            "    - click==7.0=py37_0\n",
            "    - cloudpickle==1.2.2=py_0\n",
            "    - clyent==1.2.2=py37_1\n",
            "    - colorama==0.4.1=py37_0\n",
            "    - conda-build==3.18.9=py37_3\n",
            "    - conda-env==2.6.0=1\n",
            "    - conda-package-handling==1.6.0=py37h7b6447c_0\n",
            "    - conda-verify==3.4.2=py_1\n",
            "    - conda==4.7.12=py37_0\n",
            "    - contextlib2==0.6.0=py_0\n",
            "    - cryptography==2.7=py37h1ba5d50_0\n",
            "    - curl==7.65.3=hbc83047_0\n",
            "    - cycler==0.10.0=py37_0\n",
            "    - cython==0.29.13=py37he6710b0_0\n",
            "    - cytoolz==0.10.0=py37h7b6447c_0\n",
            "    - dask-core==2.5.2=py_0\n",
            "    - dask==2.5.2=py_0\n",
            "    - dbus==1.13.6=h746ee38_0\n",
            "    - decorator==4.4.0=py37_1\n",
            "    - defusedxml==0.6.0=py_0\n",
            "    - distributed==2.5.2=py_0\n",
            "    - docutils==0.15.2=py37_0\n",
            "    - entrypoints==0.3=py37_0\n",
            "    - et_xmlfile==1.0.1=py37_0\n",
            "    - expat==2.2.6=he6710b0_0\n",
            "    - fastcache==1.1.0=py37h7b6447c_0\n",
            "    - filelock==3.0.12=py_0\n",
            "    - flask==1.1.1=py_0\n",
            "    - fontconfig==2.13.0=h9420a91_0\n",
            "    - freetype==2.9.1=h8a8886c_1\n",
            "    - fribidi==1.0.5=h7b6447c_0\n",
            "    - fsspec==0.5.2=py_0\n",
            "    - future==0.17.1=py37_0\n",
            "    - get_terminal_size==1.0.0=haa9412d_0\n",
            "    - gevent==1.4.0=py37h7b6447c_0\n",
            "    - glib==2.56.2=hd408876_0\n",
            "    - glob2==0.7=py_0\n",
            "    - gmp==6.1.2=h6c8ec71_1\n",
            "    - gmpy2==2.0.8=py37h10f8cd9_2\n",
            "    - graphite2==1.3.13=h23475e2_0\n",
            "    - greenlet==0.4.15=py37h7b6447c_0\n",
            "    - gst-plugins-base==1.14.0=hbbd80ab_1\n",
            "    - gstreamer==1.14.0=hb453b48_1\n",
            "    - h5py==2.9.0=py37h7918eee_0\n",
            "    - harfbuzz==1.8.8=hffaf4a1_0\n",
            "    - hdf5==1.10.4=hb1b8bf9_0\n",
            "    - heapdict==1.0.1=py_0\n",
            "    - html5lib==1.0.1=py37_0\n",
            "    - icu==58.2=h9c2bf20_1\n",
            "    - idna==2.8=py37_0\n",
            "    - imageio==2.6.0=py37_0\n",
            "    - imagesize==1.1.0=py37_0\n",
            "    - importlib_metadata==0.23=py37_0\n",
            "    - intel-openmp==2019.4=243\n",
            "    - ipykernel==5.1.2=py37h39e3cac_0\n",
            "    - ipython==7.8.0=py37h39e3cac_0\n",
            "    - ipython_genutils==0.2.0=py37_0\n",
            "    - ipywidgets==7.5.1=py_0\n",
            "    - isort==4.3.21=py37_0\n",
            "    - itsdangerous==1.1.0=py37_0\n",
            "    - jbig==2.1=hdba287a_0\n",
            "    - jdcal==1.4.1=py_0\n",
            "    - jedi==0.15.1=py37_0\n",
            "    - jeepney==0.4.1=py_0\n",
            "    - jinja2==2.10.3=py_0\n",
            "    - joblib==0.13.2=py37_0\n",
            "    - jpeg==9b=h024ee3a_2\n",
            "    - json5==0.8.5=py_0\n",
            "    - jsonschema==3.0.2=py37_0\n",
            "    - jupyter==1.0.0=py37_7\n",
            "    - jupyter_client==5.3.3=py37_1\n",
            "    - jupyter_console==6.0.0=py37_0\n",
            "    - jupyter_core==4.5.0=py_0\n",
            "    - jupyterlab==1.1.4=pyhf63ae98_0\n",
            "    - jupyterlab_server==1.0.6=py_0\n",
            "    - keyring==18.0.0=py37_0\n",
            "    - kiwisolver==1.1.0=py37he6710b0_0\n",
            "    - krb5==1.16.1=h173b8e3_7\n",
            "    - lazy-object-proxy==1.4.2=py37h7b6447c_0\n",
            "    - libarchive==3.3.3=h5d8350f_5\n",
            "    - libcurl==7.65.3=h20c2e04_0\n",
            "    - libedit==3.1.20181209=hc058e9b_0\n",
            "    - libffi==3.2.1=hd88cf55_4\n",
            "    - libgcc-ng==9.1.0=hdf63c60_0\n",
            "    - libgfortran-ng==7.3.0=hdf63c60_0\n",
            "    - liblief==0.9.0=h7725739_2\n",
            "    - libpng==1.6.37=hbc83047_0\n",
            "    - libsodium==1.0.16=h1bed415_0\n",
            "    - libssh2==1.8.2=h1ba5d50_0\n",
            "    - libstdcxx-ng==9.1.0=hdf63c60_0\n",
            "    - libtiff==4.0.10=h2733197_2\n",
            "    - libtool==2.4.6=h7b6447c_5\n",
            "    - libuuid==1.0.3=h1bed415_2\n",
            "    - libxcb==1.13=h1bed415_1\n",
            "    - libxml2==2.9.9=hea5a465_1\n",
            "    - libxslt==1.1.33=h7d1a2b0_0\n",
            "    - llvmlite==0.29.0=py37hd408876_0\n",
            "    - locket==0.2.0=py37_1\n",
            "    - lxml==4.4.1=py37hefd8a0e_0\n",
            "    - lz4-c==1.8.1.2=h14c3975_0\n",
            "    - lzo==2.10=h49e0be7_2\n",
            "    - markupsafe==1.1.1=py37h7b6447c_0\n",
            "    - matplotlib==3.1.1=py37h5429711_0\n",
            "    - mccabe==0.6.1=py37_1\n",
            "    - mistune==0.8.4=py37h7b6447c_0\n",
            "    - mkl-service==2.3.0=py37he904b0f_0\n",
            "    - mkl==2019.4=243\n",
            "    - mkl_fft==1.0.14=py37ha843d7b_0\n",
            "    - mkl_random==1.1.0=py37hd6b4f25_0\n",
            "    - mock==3.0.5=py37_0\n",
            "    - more-itertools==7.2.0=py37_0\n",
            "    - mpc==1.1.0=h10f8cd9_1\n",
            "    - mpfr==4.0.1=hdf1c602_3\n",
            "    - mpmath==1.1.0=py37_0\n",
            "    - msgpack-python==0.6.1=py37hfd86e86_1\n",
            "    - multipledispatch==0.6.0=py37_0\n",
            "    - navigator-updater==0.2.1=py37_0\n",
            "    - nbconvert==5.6.0=py37_1\n",
            "    - nbformat==4.4.0=py37_0\n",
            "    - ncurses==6.1=he6710b0_1\n",
            "    - networkx==2.3=py_0\n",
            "    - nltk==3.4.5=py37_0\n",
            "    - nose==1.3.7=py37_2\n",
            "    - notebook==6.0.1=py37_0\n",
            "    - numba==0.45.1=py37h962f231_0\n",
            "    - numexpr==2.7.0=py37h9e4a6bb_0\n",
            "    - numpy-base==1.17.2=py37hde5b4d6_0\n",
            "    - numpy==1.17.2=py37haad9e8e_0\n",
            "    - numpydoc==0.9.1=py_0\n",
            "    - olefile==0.46=py37_0\n",
            "    - openpyxl==3.0.0=py_0\n",
            "    - openssl==1.1.1d=h7b6447c_2\n",
            "    - packaging==19.2=py_0\n",
            "    - pandas==0.25.1=py37he6710b0_0\n",
            "    - pandoc==2.2.3.2=0\n",
            "    - pandocfilters==1.4.2=py37_1\n",
            "    - pango==1.42.4=h049681c_0\n",
            "    - parso==0.5.1=py_0\n",
            "    - partd==1.0.0=py_0\n",
            "    - patchelf==0.9=he6710b0_3\n",
            "    - path.py==12.0.1=py_0\n",
            "    - pathlib2==2.3.5=py37_0\n",
            "    - patsy==0.5.1=py37_0\n",
            "    - pcre==8.43=he6710b0_0\n",
            "    - pep8==1.7.1=py37_0\n",
            "    - pexpect==4.7.0=py37_0\n",
            "    - pickleshare==0.7.5=py37_0\n",
            "    - pillow==6.2.0=py37h34e0f95_0\n",
            "    - pip==19.2.3=py37_0\n",
            "    - pixman==0.38.0=h7b6447c_0\n",
            "    - pkginfo==1.5.0.1=py37_0\n",
            "    - pluggy==0.13.0=py37_0\n",
            "    - ply==3.11=py37_0\n",
            "    - prometheus_client==0.7.1=py_0\n",
            "    - prompt_toolkit==2.0.10=py_0\n",
            "    - psutil==5.6.3=py37h7b6447c_0\n",
            "    - ptyprocess==0.6.0=py37_0\n",
            "    - py-lief==0.9.0=py37h7725739_2\n",
            "    - py==1.8.0=py37_0\n",
            "    - pycodestyle==2.5.0=py37_0\n",
            "    - pycosat==0.6.3=py37h14c3975_0\n",
            "    - pycparser==2.19=py37_0\n",
            "    - pycrypto==2.6.1=py37h14c3975_9\n",
            "    - pycurl==7.43.0.3=py37h1ba5d50_0\n",
            "    - pyflakes==2.1.1=py37_0\n",
            "    - pygments==2.4.2=py_0\n",
            "    - pylint==2.4.2=py37_0\n",
            "    - pyodbc==4.0.27=py37he6710b0_0\n",
            "    - pyopenssl==19.0.0=py37_0\n",
            "    - pyparsing==2.4.2=py_0\n",
            "    - pyqt==5.9.2=py37h05f1152_2\n",
            "    - pyrsistent==0.15.4=py37h7b6447c_0\n",
            "    - pysocks==1.7.1=py37_0\n",
            "    - pytables==3.5.2=py37h71ec239_1\n",
            "    - pytest-arraydiff==0.3=py37h39e3cac_0\n",
            "    - pytest-astropy==0.5.0=py37_0\n",
            "    - pytest-doctestplus==0.4.0=py_0\n",
            "    - pytest-openfiles==0.4.0=py_0\n",
            "    - pytest-remotedata==0.3.2=py37_0\n",
            "    - pytest==5.2.1=py37_0\n",
            "    - python-dateutil==2.8.0=py37_0\n",
            "    - python-libarchive-c==2.8=py37_13\n",
            "    - python==3.7.4=h265db76_1\n",
            "    - pytz==2019.3=py_0\n",
            "    - pywavelets==1.0.3=py37hdd07704_1\n",
            "    - pyyaml==5.1.2=py37h7b6447c_0\n",
            "    - pyzmq==18.1.0=py37he6710b0_0\n",
            "    - qt==5.9.7=h5867ecd_1\n",
            "    - qtawesome==0.6.0=py_0\n",
            "    - qtconsole==4.5.5=py_0\n",
            "    - qtpy==1.9.0=py_0\n",
            "    - readline==7.0=h7b6447c_5\n",
            "    - requests==2.22.0=py37_0\n",
            "    - ripgrep==0.10.0=hc07d326_0\n",
            "    - rope==0.14.0=py_0\n",
            "    - ruamel_yaml==0.15.46=py37h14c3975_0\n",
            "    - scikit-image==0.15.0=py37he6710b0_0\n",
            "    - scikit-learn==0.21.3=py37hd81dba3_0\n",
            "    - scipy==1.3.1=py37h7c811a0_0\n",
            "    - seaborn==0.9.0=py37_0\n",
            "    - secretstorage==3.1.1=py37_0\n",
            "    - send2trash==1.5.0=py37_0\n",
            "    - setuptools==41.4.0=py37_0\n",
            "    - simplegeneric==0.8.1=py37_2\n",
            "    - singledispatch==3.4.0.3=py37_0\n",
            "    - sip==4.19.8=py37hf484d3e_0\n",
            "    - six==1.12.0=py37_0\n",
            "    - snappy==1.1.7=hbae5bb6_3\n",
            "    - snowballstemmer==2.0.0=py_0\n",
            "    - sortedcollections==1.1.2=py37_0\n",
            "    - sortedcontainers==2.1.0=py37_0\n",
            "    - soupsieve==1.9.3=py37_0\n",
            "    - sphinx==2.2.0=py_0\n",
            "    - sphinxcontrib-applehelp==1.0.1=py_0\n",
            "    - sphinxcontrib-devhelp==1.0.1=py_0\n",
            "    - sphinxcontrib-htmlhelp==1.0.2=py_0\n",
            "    - sphinxcontrib-jsmath==1.0.1=py_0\n",
            "    - sphinxcontrib-qthelp==1.0.2=py_0\n",
            "    - sphinxcontrib-serializinghtml==1.1.3=py_0\n",
            "    - sphinxcontrib-websupport==1.1.2=py_0\n",
            "    - sphinxcontrib==1.0=py37_1\n",
            "    - spyder-kernels==0.5.2=py37_0\n",
            "    - spyder==3.3.6=py37_0\n",
            "    - sqlalchemy==1.3.9=py37h7b6447c_0\n",
            "    - sqlite==3.30.0=h7b6447c_0\n",
            "    - statsmodels==0.10.1=py37hdd07704_0\n",
            "    - sympy==1.4=py37_0\n",
            "    - tbb==2019.4=hfd86e86_0\n",
            "    - tblib==1.4.0=py_0\n",
            "    - terminado==0.8.2=py37_0\n",
            "    - testpath==0.4.2=py37_0\n",
            "    - tk==8.6.8=hbc83047_0\n",
            "    - toolz==0.10.0=py_0\n",
            "    - tornado==6.0.3=py37h7b6447c_0\n",
            "    - tqdm==4.36.1=py_0\n",
            "    - traitlets==4.3.3=py37_0\n",
            "    - unicodecsv==0.14.1=py37_0\n",
            "    - unixodbc==2.3.7=h14c3975_0\n",
            "    - urllib3==1.24.2=py37_0\n",
            "    - wcwidth==0.1.7=py37_0\n",
            "    - webencodings==0.5.1=py37_1\n",
            "    - werkzeug==0.16.0=py_0\n",
            "    - wheel==0.33.6=py37_0\n",
            "    - widgetsnbextension==3.5.1=py37_0\n",
            "    - wrapt==1.11.2=py37h7b6447c_0\n",
            "    - wurlitzer==1.0.3=py37_0\n",
            "    - xlrd==1.2.0=py37_0\n",
            "    - xlsxwriter==1.2.1=py_0\n",
            "    - xlwt==1.3.0=py37_0\n",
            "    - xz==5.2.4=h14c3975_4\n",
            "    - yaml==0.1.7=had09818_2\n",
            "    - zeromq==4.3.1=he6710b0_3\n",
            "    - zict==1.0.0=py_0\n",
            "    - zipp==0.6.0=py_0\n",
            "    - zlib==1.2.11=h7b6447c_3\n",
            "    - zstd==1.3.7=h0b5b093_0\n",
            "\n",
            "\n",
            "The following NEW packages will be INSTALLED:\n",
            "\n",
            "  _ipyw_jlab_nb_ext~ pkgs/main/linux-64::_ipyw_jlab_nb_ext_conf-0.1.0-py37_0\n",
            "  _libgcc_mutex      pkgs/main/linux-64::_libgcc_mutex-0.1-main\n",
            "  alabaster          pkgs/main/linux-64::alabaster-0.7.12-py37_0\n",
            "  anaconda           pkgs/main/linux-64::anaconda-2019.10-py37_0\n",
            "  anaconda-client    pkgs/main/linux-64::anaconda-client-1.7.2-py37_0\n",
            "  anaconda-navigator pkgs/main/linux-64::anaconda-navigator-1.9.7-py37_0\n",
            "  anaconda-project   pkgs/main/noarch::anaconda-project-0.8.3-py_0\n",
            "  asn1crypto         pkgs/main/linux-64::asn1crypto-1.0.1-py37_0\n",
            "  astroid            pkgs/main/linux-64::astroid-2.3.1-py37_0\n",
            "  astropy            pkgs/main/linux-64::astropy-3.2.2-py37h7b6447c_0\n",
            "  atomicwrites       pkgs/main/linux-64::atomicwrites-1.3.0-py37_1\n",
            "  attrs              pkgs/main/noarch::attrs-19.2.0-py_0\n",
            "  babel              pkgs/main/noarch::babel-2.7.0-py_0\n",
            "  backcall           pkgs/main/linux-64::backcall-0.1.0-py37_0\n",
            "  backports          pkgs/main/noarch::backports-1.0-py_2\n",
            "  backports.functoo~ pkgs/main/noarch::backports.functools_lru_cache-1.5-py_2\n",
            "  backports.os       pkgs/main/linux-64::backports.os-0.1.1-py37_0\n",
            "  backports.shutil_~ pkgs/main/linux-64::backports.shutil_get_terminal_size-1.0.0-py37_2\n",
            "  backports.tempfile pkgs/main/noarch::backports.tempfile-1.0-py_1\n",
            "  backports.weakref  pkgs/main/noarch::backports.weakref-1.0.post1-py_1\n",
            "  beautifulsoup4     pkgs/main/linux-64::beautifulsoup4-4.8.0-py37_0\n",
            "  bitarray           pkgs/main/linux-64::bitarray-1.0.1-py37h7b6447c_0\n",
            "  bkcharts           pkgs/main/linux-64::bkcharts-0.2-py37_0\n",
            "  blas               pkgs/main/linux-64::blas-1.0-mkl\n",
            "  bleach             pkgs/main/linux-64::bleach-3.1.0-py37_0\n",
            "  blosc              pkgs/main/linux-64::blosc-1.16.3-hd408876_0\n",
            "  bokeh              pkgs/main/linux-64::bokeh-1.3.4-py37_0\n",
            "  boto               pkgs/main/linux-64::boto-2.49.0-py37_0\n",
            "  bottleneck         pkgs/main/linux-64::bottleneck-1.2.1-py37h035aef0_1\n",
            "  bzip2              pkgs/main/linux-64::bzip2-1.0.8-h7b6447c_0\n",
            "  ca-certificates    pkgs/main/linux-64::ca-certificates-2019.8.28-0\n",
            "  cairo              pkgs/main/linux-64::cairo-1.14.12-h8948797_3\n",
            "  certifi            pkgs/main/linux-64::certifi-2019.9.11-py37_0\n",
            "  cffi               pkgs/main/linux-64::cffi-1.12.3-py37h2e261b9_0\n",
            "  chardet            pkgs/main/linux-64::chardet-3.0.4-py37_1003\n",
            "  click              pkgs/main/linux-64::click-7.0-py37_0\n",
            "  cloudpickle        pkgs/main/noarch::cloudpickle-1.2.2-py_0\n",
            "  clyent             pkgs/main/linux-64::clyent-1.2.2-py37_1\n",
            "  colorama           pkgs/main/linux-64::colorama-0.4.1-py37_0\n",
            "  conda              pkgs/main/linux-64::conda-4.7.12-py37_0\n",
            "  conda-build        pkgs/main/linux-64::conda-build-3.18.9-py37_3\n",
            "  conda-env          pkgs/main/linux-64::conda-env-2.6.0-1\n",
            "  conda-package-han~ pkgs/main/linux-64::conda-package-handling-1.6.0-py37h7b6447c_0\n",
            "  conda-verify       pkgs/main/noarch::conda-verify-3.4.2-py_1\n",
            "  contextlib2        pkgs/main/noarch::contextlib2-0.6.0-py_0\n",
            "  cryptography       pkgs/main/linux-64::cryptography-2.7-py37h1ba5d50_0\n",
            "  curl               pkgs/main/linux-64::curl-7.65.3-hbc83047_0\n",
            "  cycler             pkgs/main/linux-64::cycler-0.10.0-py37_0\n",
            "  cython             pkgs/main/linux-64::cython-0.29.13-py37he6710b0_0\n",
            "  cytoolz            pkgs/main/linux-64::cytoolz-0.10.0-py37h7b6447c_0\n",
            "  dask               pkgs/main/noarch::dask-2.5.2-py_0\n",
            "  dask-core          pkgs/main/noarch::dask-core-2.5.2-py_0\n",
            "  dbus               pkgs/main/linux-64::dbus-1.13.6-h746ee38_0\n",
            "  decorator          pkgs/main/linux-64::decorator-4.4.0-py37_1\n",
            "  defusedxml         pkgs/main/noarch::defusedxml-0.6.0-py_0\n",
            "  distributed        pkgs/main/noarch::distributed-2.5.2-py_0\n",
            "  docutils           pkgs/main/linux-64::docutils-0.15.2-py37_0\n",
            "  entrypoints        pkgs/main/linux-64::entrypoints-0.3-py37_0\n",
            "  et_xmlfile         pkgs/main/linux-64::et_xmlfile-1.0.1-py37_0\n",
            "  expat              pkgs/main/linux-64::expat-2.2.6-he6710b0_0\n",
            "  fastcache          pkgs/main/linux-64::fastcache-1.1.0-py37h7b6447c_0\n",
            "  filelock           pkgs/main/noarch::filelock-3.0.12-py_0\n",
            "  flask              pkgs/main/noarch::flask-1.1.1-py_0\n",
            "  fontconfig         pkgs/main/linux-64::fontconfig-2.13.0-h9420a91_0\n",
            "  freetype           pkgs/main/linux-64::freetype-2.9.1-h8a8886c_1\n",
            "  fribidi            pkgs/main/linux-64::fribidi-1.0.5-h7b6447c_0\n",
            "  fsspec             pkgs/main/noarch::fsspec-0.5.2-py_0\n",
            "  future             pkgs/main/linux-64::future-0.17.1-py37_0\n",
            "  get_terminal_size  pkgs/main/linux-64::get_terminal_size-1.0.0-haa9412d_0\n",
            "  gevent             pkgs/main/linux-64::gevent-1.4.0-py37h7b6447c_0\n",
            "  glib               pkgs/main/linux-64::glib-2.56.2-hd408876_0\n",
            "  glob2              pkgs/main/noarch::glob2-0.7-py_0\n",
            "  gmp                pkgs/main/linux-64::gmp-6.1.2-h6c8ec71_1\n",
            "  gmpy2              pkgs/main/linux-64::gmpy2-2.0.8-py37h10f8cd9_2\n",
            "  graphite2          pkgs/main/linux-64::graphite2-1.3.13-h23475e2_0\n",
            "  greenlet           pkgs/main/linux-64::greenlet-0.4.15-py37h7b6447c_0\n",
            "  gst-plugins-base   pkgs/main/linux-64::gst-plugins-base-1.14.0-hbbd80ab_1\n",
            "  gstreamer          pkgs/main/linux-64::gstreamer-1.14.0-hb453b48_1\n",
            "  h5py               pkgs/main/linux-64::h5py-2.9.0-py37h7918eee_0\n",
            "  harfbuzz           pkgs/main/linux-64::harfbuzz-1.8.8-hffaf4a1_0\n",
            "  hdf5               pkgs/main/linux-64::hdf5-1.10.4-hb1b8bf9_0\n",
            "  heapdict           pkgs/main/noarch::heapdict-1.0.1-py_0\n",
            "  html5lib           pkgs/main/linux-64::html5lib-1.0.1-py37_0\n",
            "  icu                pkgs/main/linux-64::icu-58.2-h9c2bf20_1\n",
            "  idna               pkgs/main/linux-64::idna-2.8-py37_0\n",
            "  imageio            pkgs/main/linux-64::imageio-2.6.0-py37_0\n",
            "  imagesize          pkgs/main/linux-64::imagesize-1.1.0-py37_0\n",
            "  importlib_metadata pkgs/main/linux-64::importlib_metadata-0.23-py37_0\n",
            "  intel-openmp       pkgs/main/linux-64::intel-openmp-2019.4-243\n",
            "  ipykernel          pkgs/main/linux-64::ipykernel-5.1.2-py37h39e3cac_0\n",
            "  ipython            pkgs/main/linux-64::ipython-7.8.0-py37h39e3cac_0\n",
            "  ipython_genutils   pkgs/main/linux-64::ipython_genutils-0.2.0-py37_0\n",
            "  ipywidgets         pkgs/main/noarch::ipywidgets-7.5.1-py_0\n",
            "  isort              pkgs/main/linux-64::isort-4.3.21-py37_0\n",
            "  itsdangerous       pkgs/main/linux-64::itsdangerous-1.1.0-py37_0\n",
            "  jbig               pkgs/main/linux-64::jbig-2.1-hdba287a_0\n",
            "  jdcal              pkgs/main/noarch::jdcal-1.4.1-py_0\n",
            "  jedi               pkgs/main/linux-64::jedi-0.15.1-py37_0\n",
            "  jeepney            pkgs/main/noarch::jeepney-0.4.1-py_0\n",
            "  jinja2             pkgs/main/noarch::jinja2-2.10.3-py_0\n",
            "  joblib             pkgs/main/linux-64::joblib-0.13.2-py37_0\n",
            "  jpeg               pkgs/main/linux-64::jpeg-9b-h024ee3a_2\n",
            "  json5              pkgs/main/noarch::json5-0.8.5-py_0\n",
            "  jsonschema         pkgs/main/linux-64::jsonschema-3.0.2-py37_0\n",
            "  jupyter            pkgs/main/linux-64::jupyter-1.0.0-py37_7\n",
            "  jupyter_client     pkgs/main/linux-64::jupyter_client-5.3.3-py37_1\n",
            "  jupyter_console    pkgs/main/linux-64::jupyter_console-6.0.0-py37_0\n",
            "  jupyter_core       pkgs/main/noarch::jupyter_core-4.5.0-py_0\n",
            "  jupyterlab         pkgs/main/noarch::jupyterlab-1.1.4-pyhf63ae98_0\n",
            "  jupyterlab_server  pkgs/main/noarch::jupyterlab_server-1.0.6-py_0\n",
            "  keyring            pkgs/main/linux-64::keyring-18.0.0-py37_0\n",
            "  kiwisolver         pkgs/main/linux-64::kiwisolver-1.1.0-py37he6710b0_0\n",
            "  krb5               pkgs/main/linux-64::krb5-1.16.1-h173b8e3_7\n",
            "  lazy-object-proxy  pkgs/main/linux-64::lazy-object-proxy-1.4.2-py37h7b6447c_0\n",
            "  libarchive         pkgs/main/linux-64::libarchive-3.3.3-h5d8350f_5\n",
            "  libcurl            pkgs/main/linux-64::libcurl-7.65.3-h20c2e04_0\n",
            "  libedit            pkgs/main/linux-64::libedit-3.1.20181209-hc058e9b_0\n",
            "  libffi             pkgs/main/linux-64::libffi-3.2.1-hd88cf55_4\n",
            "  libgcc-ng          pkgs/main/linux-64::libgcc-ng-9.1.0-hdf63c60_0\n",
            "  libgfortran-ng     pkgs/main/linux-64::libgfortran-ng-7.3.0-hdf63c60_0\n",
            "  liblief            pkgs/main/linux-64::liblief-0.9.0-h7725739_2\n",
            "  libpng             pkgs/main/linux-64::libpng-1.6.37-hbc83047_0\n",
            "  libsodium          pkgs/main/linux-64::libsodium-1.0.16-h1bed415_0\n",
            "  libssh2            pkgs/main/linux-64::libssh2-1.8.2-h1ba5d50_0\n",
            "  libstdcxx-ng       pkgs/main/linux-64::libstdcxx-ng-9.1.0-hdf63c60_0\n",
            "  libtiff            pkgs/main/linux-64::libtiff-4.0.10-h2733197_2\n",
            "  libtool            pkgs/main/linux-64::libtool-2.4.6-h7b6447c_5\n",
            "  libuuid            pkgs/main/linux-64::libuuid-1.0.3-h1bed415_2\n",
            "  libxcb             pkgs/main/linux-64::libxcb-1.13-h1bed415_1\n",
            "  libxml2            pkgs/main/linux-64::libxml2-2.9.9-hea5a465_1\n",
            "  libxslt            pkgs/main/linux-64::libxslt-1.1.33-h7d1a2b0_0\n",
            "  llvmlite           pkgs/main/linux-64::llvmlite-0.29.0-py37hd408876_0\n",
            "  locket             pkgs/main/linux-64::locket-0.2.0-py37_1\n",
            "  lxml               pkgs/main/linux-64::lxml-4.4.1-py37hefd8a0e_0\n",
            "  lz4-c              pkgs/main/linux-64::lz4-c-1.8.1.2-h14c3975_0\n",
            "  lzo                pkgs/main/linux-64::lzo-2.10-h49e0be7_2\n",
            "  markupsafe         pkgs/main/linux-64::markupsafe-1.1.1-py37h7b6447c_0\n",
            "  matplotlib         pkgs/main/linux-64::matplotlib-3.1.1-py37h5429711_0\n",
            "  mccabe             pkgs/main/linux-64::mccabe-0.6.1-py37_1\n",
            "  mistune            pkgs/main/linux-64::mistune-0.8.4-py37h7b6447c_0\n",
            "  mkl                pkgs/main/linux-64::mkl-2019.4-243\n",
            "  mkl-service        pkgs/main/linux-64::mkl-service-2.3.0-py37he904b0f_0\n",
            "  mkl_fft            pkgs/main/linux-64::mkl_fft-1.0.14-py37ha843d7b_0\n",
            "  mkl_random         pkgs/main/linux-64::mkl_random-1.1.0-py37hd6b4f25_0\n",
            "  mock               pkgs/main/linux-64::mock-3.0.5-py37_0\n",
            "  more-itertools     pkgs/main/linux-64::more-itertools-7.2.0-py37_0\n",
            "  mpc                pkgs/main/linux-64::mpc-1.1.0-h10f8cd9_1\n",
            "  mpfr               pkgs/main/linux-64::mpfr-4.0.1-hdf1c602_3\n",
            "  mpmath             pkgs/main/linux-64::mpmath-1.1.0-py37_0\n",
            "  msgpack-python     pkgs/main/linux-64::msgpack-python-0.6.1-py37hfd86e86_1\n",
            "  multipledispatch   pkgs/main/linux-64::multipledispatch-0.6.0-py37_0\n",
            "  navigator-updater  pkgs/main/linux-64::navigator-updater-0.2.1-py37_0\n",
            "  nbconvert          pkgs/main/linux-64::nbconvert-5.6.0-py37_1\n",
            "  nbformat           pkgs/main/linux-64::nbformat-4.4.0-py37_0\n",
            "  ncurses            pkgs/main/linux-64::ncurses-6.1-he6710b0_1\n",
            "  networkx           pkgs/main/noarch::networkx-2.3-py_0\n",
            "  nltk               pkgs/main/linux-64::nltk-3.4.5-py37_0\n",
            "  nose               pkgs/main/linux-64::nose-1.3.7-py37_2\n",
            "  notebook           pkgs/main/linux-64::notebook-6.0.1-py37_0\n",
            "  numba              pkgs/main/linux-64::numba-0.45.1-py37h962f231_0\n",
            "  numexpr            pkgs/main/linux-64::numexpr-2.7.0-py37h9e4a6bb_0\n",
            "  numpy              pkgs/main/linux-64::numpy-1.17.2-py37haad9e8e_0\n",
            "  numpy-base         pkgs/main/linux-64::numpy-base-1.17.2-py37hde5b4d6_0\n",
            "  numpydoc           pkgs/main/noarch::numpydoc-0.9.1-py_0\n",
            "  olefile            pkgs/main/linux-64::olefile-0.46-py37_0\n",
            "  openpyxl           pkgs/main/noarch::openpyxl-3.0.0-py_0\n",
            "  openssl            pkgs/main/linux-64::openssl-1.1.1d-h7b6447c_2\n",
            "  packaging          pkgs/main/noarch::packaging-19.2-py_0\n",
            "  pandas             pkgs/main/linux-64::pandas-0.25.1-py37he6710b0_0\n",
            "  pandoc             pkgs/main/linux-64::pandoc-2.2.3.2-0\n",
            "  pandocfilters      pkgs/main/linux-64::pandocfilters-1.4.2-py37_1\n",
            "  pango              pkgs/main/linux-64::pango-1.42.4-h049681c_0\n",
            "  parso              pkgs/main/noarch::parso-0.5.1-py_0\n",
            "  partd              pkgs/main/noarch::partd-1.0.0-py_0\n",
            "  patchelf           pkgs/main/linux-64::patchelf-0.9-he6710b0_3\n",
            "  path.py            pkgs/main/noarch::path.py-12.0.1-py_0\n",
            "  pathlib2           pkgs/main/linux-64::pathlib2-2.3.5-py37_0\n",
            "  patsy              pkgs/main/linux-64::patsy-0.5.1-py37_0\n",
            "  pcre               pkgs/main/linux-64::pcre-8.43-he6710b0_0\n",
            "  pep8               pkgs/main/linux-64::pep8-1.7.1-py37_0\n",
            "  pexpect            pkgs/main/linux-64::pexpect-4.7.0-py37_0\n",
            "  pickleshare        pkgs/main/linux-64::pickleshare-0.7.5-py37_0\n",
            "  pillow             pkgs/main/linux-64::pillow-6.2.0-py37h34e0f95_0\n",
            "  pip                pkgs/main/linux-64::pip-19.2.3-py37_0\n",
            "  pixman             pkgs/main/linux-64::pixman-0.38.0-h7b6447c_0\n",
            "  pkginfo            pkgs/main/linux-64::pkginfo-1.5.0.1-py37_0\n",
            "  pluggy             pkgs/main/linux-64::pluggy-0.13.0-py37_0\n",
            "  ply                pkgs/main/linux-64::ply-3.11-py37_0\n",
            "  prometheus_client  pkgs/main/noarch::prometheus_client-0.7.1-py_0\n",
            "  prompt_toolkit     pkgs/main/noarch::prompt_toolkit-2.0.10-py_0\n",
            "  psutil             pkgs/main/linux-64::psutil-5.6.3-py37h7b6447c_0\n",
            "  ptyprocess         pkgs/main/linux-64::ptyprocess-0.6.0-py37_0\n",
            "  py                 pkgs/main/linux-64::py-1.8.0-py37_0\n",
            "  py-lief            pkgs/main/linux-64::py-lief-0.9.0-py37h7725739_2\n",
            "  pycodestyle        pkgs/main/linux-64::pycodestyle-2.5.0-py37_0\n",
            "  pycosat            pkgs/main/linux-64::pycosat-0.6.3-py37h14c3975_0\n",
            "  pycparser          pkgs/main/linux-64::pycparser-2.19-py37_0\n",
            "  pycrypto           pkgs/main/linux-64::pycrypto-2.6.1-py37h14c3975_9\n",
            "  pycurl             pkgs/main/linux-64::pycurl-7.43.0.3-py37h1ba5d50_0\n",
            "  pyflakes           pkgs/main/linux-64::pyflakes-2.1.1-py37_0\n",
            "  pygments           pkgs/main/noarch::pygments-2.4.2-py_0\n",
            "  pylint             pkgs/main/linux-64::pylint-2.4.2-py37_0\n",
            "  pyodbc             pkgs/main/linux-64::pyodbc-4.0.27-py37he6710b0_0\n",
            "  pyopenssl          pkgs/main/linux-64::pyopenssl-19.0.0-py37_0\n",
            "  pyparsing          pkgs/main/noarch::pyparsing-2.4.2-py_0\n",
            "  pyqt               pkgs/main/linux-64::pyqt-5.9.2-py37h05f1152_2\n",
            "  pyrsistent         pkgs/main/linux-64::pyrsistent-0.15.4-py37h7b6447c_0\n",
            "  pysocks            pkgs/main/linux-64::pysocks-1.7.1-py37_0\n",
            "  pytables           pkgs/main/linux-64::pytables-3.5.2-py37h71ec239_1\n",
            "  pytest             pkgs/main/linux-64::pytest-5.2.1-py37_0\n",
            "  pytest-arraydiff   pkgs/main/linux-64::pytest-arraydiff-0.3-py37h39e3cac_0\n",
            "  pytest-astropy     pkgs/main/linux-64::pytest-astropy-0.5.0-py37_0\n",
            "  pytest-doctestplus pkgs/main/noarch::pytest-doctestplus-0.4.0-py_0\n",
            "  pytest-openfiles   pkgs/main/noarch::pytest-openfiles-0.4.0-py_0\n",
            "  pytest-remotedata  pkgs/main/linux-64::pytest-remotedata-0.3.2-py37_0\n",
            "  python             pkgs/main/linux-64::python-3.7.4-h265db76_1\n",
            "  python-dateutil    pkgs/main/linux-64::python-dateutil-2.8.0-py37_0\n",
            "  python-libarchive~ pkgs/main/linux-64::python-libarchive-c-2.8-py37_13\n",
            "  pytz               pkgs/main/noarch::pytz-2019.3-py_0\n",
            "  pywavelets         pkgs/main/linux-64::pywavelets-1.0.3-py37hdd07704_1\n",
            "  pyyaml             pkgs/main/linux-64::pyyaml-5.1.2-py37h7b6447c_0\n",
            "  pyzmq              pkgs/main/linux-64::pyzmq-18.1.0-py37he6710b0_0\n",
            "  qt                 pkgs/main/linux-64::qt-5.9.7-h5867ecd_1\n",
            "  qtawesome          pkgs/main/noarch::qtawesome-0.6.0-py_0\n",
            "  qtconsole          pkgs/main/noarch::qtconsole-4.5.5-py_0\n",
            "  qtpy               pkgs/main/noarch::qtpy-1.9.0-py_0\n",
            "  readline           pkgs/main/linux-64::readline-7.0-h7b6447c_5\n",
            "  requests           pkgs/main/linux-64::requests-2.22.0-py37_0\n",
            "  ripgrep            pkgs/main/linux-64::ripgrep-0.10.0-hc07d326_0\n",
            "  rope               pkgs/main/noarch::rope-0.14.0-py_0\n",
            "  ruamel_yaml        pkgs/main/linux-64::ruamel_yaml-0.15.46-py37h14c3975_0\n",
            "  scikit-image       pkgs/main/linux-64::scikit-image-0.15.0-py37he6710b0_0\n",
            "  scikit-learn       pkgs/main/linux-64::scikit-learn-0.21.3-py37hd81dba3_0\n",
            "  scipy              pkgs/main/linux-64::scipy-1.3.1-py37h7c811a0_0\n",
            "  seaborn            pkgs/main/linux-64::seaborn-0.9.0-py37_0\n",
            "  secretstorage      pkgs/main/linux-64::secretstorage-3.1.1-py37_0\n",
            "  send2trash         pkgs/main/linux-64::send2trash-1.5.0-py37_0\n",
            "  setuptools         pkgs/main/linux-64::setuptools-41.4.0-py37_0\n",
            "  simplegeneric      pkgs/main/linux-64::simplegeneric-0.8.1-py37_2\n",
            "  singledispatch     pkgs/main/linux-64::singledispatch-3.4.0.3-py37_0\n",
            "  sip                pkgs/main/linux-64::sip-4.19.8-py37hf484d3e_0\n",
            "  six                pkgs/main/linux-64::six-1.12.0-py37_0\n",
            "  snappy             pkgs/main/linux-64::snappy-1.1.7-hbae5bb6_3\n",
            "  snowballstemmer    pkgs/main/noarch::snowballstemmer-2.0.0-py_0\n",
            "  sortedcollections  pkgs/main/linux-64::sortedcollections-1.1.2-py37_0\n",
            "  sortedcontainers   pkgs/main/linux-64::sortedcontainers-2.1.0-py37_0\n",
            "  soupsieve          pkgs/main/linux-64::soupsieve-1.9.3-py37_0\n",
            "  sphinx             pkgs/main/noarch::sphinx-2.2.0-py_0\n",
            "  sphinxcontrib      pkgs/main/linux-64::sphinxcontrib-1.0-py37_1\n",
            "  sphinxcontrib-app~ pkgs/main/noarch::sphinxcontrib-applehelp-1.0.1-py_0\n",
            "  sphinxcontrib-dev~ pkgs/main/noarch::sphinxcontrib-devhelp-1.0.1-py_0\n",
            "  sphinxcontrib-htm~ pkgs/main/noarch::sphinxcontrib-htmlhelp-1.0.2-py_0\n",
            "  sphinxcontrib-jsm~ pkgs/main/noarch::sphinxcontrib-jsmath-1.0.1-py_0\n",
            "  sphinxcontrib-qth~ pkgs/main/noarch::sphinxcontrib-qthelp-1.0.2-py_0\n",
            "  sphinxcontrib-ser~ pkgs/main/noarch::sphinxcontrib-serializinghtml-1.1.3-py_0\n",
            "  sphinxcontrib-web~ pkgs/main/noarch::sphinxcontrib-websupport-1.1.2-py_0\n",
            "  spyder             pkgs/main/linux-64::spyder-3.3.6-py37_0\n",
            "  spyder-kernels     pkgs/main/linux-64::spyder-kernels-0.5.2-py37_0\n",
            "  sqlalchemy         pkgs/main/linux-64::sqlalchemy-1.3.9-py37h7b6447c_0\n",
            "  sqlite             pkgs/main/linux-64::sqlite-3.30.0-h7b6447c_0\n",
            "  statsmodels        pkgs/main/linux-64::statsmodels-0.10.1-py37hdd07704_0\n",
            "  sympy              pkgs/main/linux-64::sympy-1.4-py37_0\n",
            "  tbb                pkgs/main/linux-64::tbb-2019.4-hfd86e86_0\n",
            "  tblib              pkgs/main/noarch::tblib-1.4.0-py_0\n",
            "  terminado          pkgs/main/linux-64::terminado-0.8.2-py37_0\n",
            "  testpath           pkgs/main/linux-64::testpath-0.4.2-py37_0\n",
            "  tk                 pkgs/main/linux-64::tk-8.6.8-hbc83047_0\n",
            "  toolz              pkgs/main/noarch::toolz-0.10.0-py_0\n",
            "  tornado            pkgs/main/linux-64::tornado-6.0.3-py37h7b6447c_0\n",
            "  tqdm               pkgs/main/noarch::tqdm-4.36.1-py_0\n",
            "  traitlets          pkgs/main/linux-64::traitlets-4.3.3-py37_0\n",
            "  unicodecsv         pkgs/main/linux-64::unicodecsv-0.14.1-py37_0\n",
            "  unixodbc           pkgs/main/linux-64::unixodbc-2.3.7-h14c3975_0\n",
            "  urllib3            pkgs/main/linux-64::urllib3-1.24.2-py37_0\n",
            "  wcwidth            pkgs/main/linux-64::wcwidth-0.1.7-py37_0\n",
            "  webencodings       pkgs/main/linux-64::webencodings-0.5.1-py37_1\n",
            "  werkzeug           pkgs/main/noarch::werkzeug-0.16.0-py_0\n",
            "  wheel              pkgs/main/linux-64::wheel-0.33.6-py37_0\n",
            "  widgetsnbextension pkgs/main/linux-64::widgetsnbextension-3.5.1-py37_0\n",
            "  wrapt              pkgs/main/linux-64::wrapt-1.11.2-py37h7b6447c_0\n",
            "  wurlitzer          pkgs/main/linux-64::wurlitzer-1.0.3-py37_0\n",
            "  xlrd               pkgs/main/linux-64::xlrd-1.2.0-py37_0\n",
            "  xlsxwriter         pkgs/main/noarch::xlsxwriter-1.2.1-py_0\n",
            "  xlwt               pkgs/main/linux-64::xlwt-1.3.0-py37_0\n",
            "  xz                 pkgs/main/linux-64::xz-5.2.4-h14c3975_4\n",
            "  yaml               pkgs/main/linux-64::yaml-0.1.7-had09818_2\n",
            "  zeromq             pkgs/main/linux-64::zeromq-4.3.1-he6710b0_3\n",
            "  zict               pkgs/main/noarch::zict-1.0.0-py_0\n",
            "  zipp               pkgs/main/noarch::zipp-0.6.0-py_0\n",
            "  zlib               pkgs/main/linux-64::zlib-1.2.11-h7b6447c_3\n",
            "  zstd               pkgs/main/linux-64::zstd-1.3.7-h0b5b093_0\n",
            "\n",
            "\n",
            "Preparing transaction: - \b\b\\ \b\b| \b\b/ \b\b- \b\b\\ \b\b| \b\b/ \b\b- \b\b\\ \b\b| \b\b/ \b\b- \b\b\\ \b\b| \b\b/ \b\b- \b\b\\ \b\b| \b\b/ \b\b- \b\b\\ \b\b| \b\b/ \b\bdone\n",
            "Executing transaction: \\ \b\b| \b\b/ \b\b- \b\b\\ \b\b| \b\b/ \b\b- \b\b\\ \b\b| \b\b/ \b\b- \b\b\\ \b\b| \b\b/ \b\b- \b\b\\ \b\b| \b\b/ \b\b- \b\b\\ \b\b| \b\b/ \b\b- \b\b\\ \b\b| \b\b/ \b\b- \b\b\\ \b\b| \b\b/ \b\b- \b\b\\ \b\b| \b\b/ \b\b- \b\b\\ \b\b| \b\b/ \b\b- \b\b\\ \b\b| \b\b/ \b\b- \b\b\\ \b\b| \b\b/ \b\b- \b\b\\ \b\b| \b\b/ \b\b- \b\b\\ \b\b| \b\b/ \b\b- \b\b\\ \b\b| \b\b/ \b\b- \b\b\\ \b\b| \b\b/ \b\b- \b\b\\ \b\b| \b\b/ \b\b- \b\b\\ \b\b| \b\b/ \b\b- \b\b\\ \b\b| \b\b/ \b\b- \b\b\\ \b\b| \b\b/ \b\b- \b\b\\ \b\b| \b\b/ \b\b- \b\b\\ \b\b| \b\b/ \b\b- \b\b\\ \b\b| \b\b/ \b\b- \b\b\\ \b\b| \b\b/ \b\b- \b\b\\ \b\b| \b\b/ \b\b- \b\b\\ \b\b| \b\b/ \b\b- \b\b\\ \b\b| \b\b/ \b\b- \b\b\\ \b\b| \b\b/ \b\b- \b\b\\ \b\b| \b\b/ \b\b- \b\b\\ \b\b| \b\b/ \b\b- \b\b\\ \b\b| \b\b/ \b\b- \b\b\\ \b\b| \b\b/ \b\b- \b\b\\ \b\b| \b\b/ \b\b- \b\b\\ \b\b| \b\b/ \b\b- \b\b\\ \b\b| \b\b/ \b\b- \b\b\\ \b\b| \b\b/ \b\b- \b\b\\ \b\b| \b\b/ \b\b- \b\b\\ \b\b| \b\b/ \b\b- \b\b\\ \b\b| \b\b/ \b\b- \b\b\\ \b\b| \b\b/ \b\b- \b\b\\ \b\b| \b\b/ \b\b- \b\b\\ \b\b| \b\b/ \b\b- \b\b\\ \b\b| \b\b/ \b\b- \b\b\\ \b\b| \b\b/ \b\b- \b\b\\ \b\b| \b\b/ \b\b- \b\b\\ \b\b| \b\b/ \b\b- \b\b\\ \b\b| \b\b/ \b\b- \b\b\\ \b\b| \b\b/ \b\b- \b\b\\ \b\b| \b\b/ \b\b- \b\b\\ \b\b| \b\b/ \b\b- \b\b\\ \b\b| \b\b/ \b\b- \b\b\\ \b\b| \b\b/ \b\b- \b\b\\ \b\b| \b\b/ \b\b- \b\b\\ \b\b| \b\b/ \b\b- \b\b\\ \b\b| \b\b/ \b\b- \b\b\\ \b\b| \b\b/ \b\b- \b\b\\ \b\b| \b\b/ \b\b- \b\b\\ \b\b| \b\b/ \b\b- \b\b\\ \b\b| \b\b/ \b\b- \b\b\\ \b\b| \b\b/ \b\b- \b\b\\ \b\b| \b\b/ \b\b- \b\b\\ \b\b| \b\b/ \b\b- \b\b\\ \b\b| \b\b/ \b\b- \b\b\\ \b\b| \b\b/ \b\b- \b\b\\ \b\b| \b\b/ \b\b- \b\b\\ \b\b| \b\b/ \b\b- \b\b\\ \b\b| \b\b/ \b\b- \b\b\\ \b\b| \b\b/ \b\b- \b\b\\ \b\b| \b\b/ \b\b- \b\b\\ \b\b| \b\b/ \b\b- \b\b\\ \b\b| \b\b/ \b\b- \b\b\\ \b\b| \b\b/ \b\b- \b\b\\ \b\b| \b\b/ \b\b- \b\b\\ \b\b| \b\b/ \b\b- \b\bdone\n",
            "installation finished.\n",
            "WARNING:\n",
            "    You currently have a PYTHONPATH environment variable set. This may cause\n",
            "    unexpected behavior when running the Python interpreter in Anaconda3.\n",
            "    For best results, please verify that your PYTHONPATH only points to\n",
            "    directories of packages that are compatible with the Python interpreter\n",
            "    in Anaconda3: /usr/local\n",
            "Collecting package metadata (current_repodata.json): - \b\b\\ \b\b| \b\b/ \b\b- \b\b\\ \b\b| \b\b/ \b\b- \b\b\\ \b\b| \b\b/ \b\b- \b\b\\ \b\b| \b\b/ \b\b- \b\b\\ \b\b| \b\b/ \b\b- \b\b\\ \b\b| \b\b/ \b\b- \b\b\\ \b\b| \b\b/ \b\b- \b\b\\ \b\b| \b\b/ \b\b- \b\b\\ \b\b| \b\b/ \b\b- \b\b\\ \b\b| \b\b/ \b\b- \b\b\\ \b\b| \b\b/ \b\b- \b\b\\ \b\b| \b\b/ \b\b- \b\b\\ \b\b| \b\b/ \b\b- \b\b\\ \b\b| \b\b/ \b\b- \b\b\\ \b\b| \b\b/ \b\b- \b\b\\ \b\b| \b\b/ \b\b- \b\b\\ \b\b| \b\b/ \b\b- \b\b\\ \b\b| \b\b/ \b\b- \b\b\\ \b\b| \b\b/ \b\b- \b\b\\ \b\b| \b\b/ \b\b- \b\b\\ \b\b| \b\b/ \b\b- \b\b\\ \b\b| \b\b/ \b\b- \b\bdone\n",
            "Solving environment: | \b\b/ \b\b- \b\b\\ \b\b| \b\b/ \b\b- \b\b\\ \b\b| \b\b/ \b\b- \b\b\\ \b\b| \b\b/ \b\b- \b\b\\ \b\b| \b\b/ \b\b- \b\b\\ \b\b| \b\b/ \b\b- \b\b\\ \b\b| \b\b/ \b\b- \b\b\\ \b\b| \b\b/ \b\b- \b\b\\ \b\b| \b\b/ \b\b- \b\b\\ \b\b| \b\b/ \b\b- \b\b\\ \b\b| \b\b/ \b\b- \b\b\\ \b\b| \b\b/ \b\b- \b\b\\ \b\b| \b\b/ \b\b- \b\b\\ \b\b| \b\b/ \b\b- \b\b\\ \b\b| \b\b/ \b\b- \b\b\\ \b\b| \b\b/ \b\b- \b\b\\ \b\b| \b\b/ \b\b- \b\b\\ \b\b| \b\b/ \b\b- \b\b\\ \b\b| \b\b/ \b\b- \b\b\\ \b\b| \b\b/ \b\b- \b\b\\ \b\b| \b\b/ \b\b- \b\b\\ \b\b| \b\b/ \b\b- \b\b\\ \b\b| \b\b/ \b\b- \b\b\\ \b\b| \b\b/ \b\b- \b\b\\ \b\b| \b\b/ \b\b- \b\b\\ \b\b| \b\b/ \b\b- \b\b\\ \b\b| \b\b/ \b\b- \b\b\\ \b\b| \b\b/ \b\b- \b\b\\ \b\b| \b\b/ \b\b- \b\b\\ \b\b| \b\b/ \b\b- \b\b\\ \b\b| \b\b/ \b\b- \b\b\\ \b\b| \b\b/ \b\b- \b\b\\ \b\b| \b\b/ \b\b- \b\b\\ \b\b| \b\b/ \b\b- \b\b\\ \b\b| \b\b/ \b\b- \b\b\\ \b\b| \b\b/ \b\b- \b\b\\ \b\b| \b\b/ \b\b- \b\b\\ \b\b| \b\b/ \b\b- \b\b\\ \b\b| \b\b/ \b\b- \b\b\\ \b\b| \b\b/ \b\b- \b\b\\ \b\b| \b\b/ \b\b- \b\b\\ \b\b| \b\b/ \b\b- \b\b\\ \b\b| \b\b/ \b\b- \b\b\\ \b\b| \b\b/ \b\b- \b\b\\ \b\b| \b\b/ \b\b- \b\b\\ \b\b| \b\b/ \b\b- \b\b\\ \b\b| \b\b/ \b\b- \b\b\\ \b\b| \b\b/ \b\b- \b\b\\ \b\b| \b\b/ \b\b- \b\b\\ \b\b| \b\b/ \b\b- \b\b\\ \b\b| \b\b/ \b\b- \b\b\\ \b\b| \b\b/ \b\b- \b\b\\ \b\b| \b\b/ \b\b- \b\b\\ \b\b| \b\b/ \b\b- \b\b\\ \b\b| \b\b/ \b\b- \b\b\\ \b\b| \b\b/ \b\b- \b\b\\ \b\b| \b\b/ \b\b- \b\b\\ \b\b| \b\b/ \b\b- \b\b\\ \b\b| \b\b/ \b\b- \b\b\\ \b\b| \b\b/ \b\b- \b\b\\ \b\b| \b\b/ \b\b- \b\b\\ \b\b| \b\b/ \b\b- \b\b\\ \b\b| \b\b/ \b\b- \b\b\\ \b\b| \b\b/ \b\b- \b\b\\ \b\b| \b\b/ \b\b- \b\b\\ \b\b| \b\b/ \b\b- \b\b\\ \b\b| \b\b/ \b\b- \b\b\\ \b\b| \b\b/ \b\b- \b\b\\ \b\b| \b\b/ \b\b- \b\b\\ \b\b| \b\b/ \b\b- \b\b\\ \b\b| \b\b/ \b\b- \b\b\\ \b\b| \b\b/ \b\b- \b\b\\ \b\b| \b\b/ \b\b- \b\b\\ \b\b| \b\b/ \b\b- \b\b\\ \b\b| \b\b/ \b\b- \b\b\\ \b\b| \b\b/ \b\b- \b\b\\ \b\b| \b\b/ \b\b- \b\b\\ \b\b| \b\b/ \b\b- \b\b\\ \b\b| \b\b/ \b\b- \b\b\\ \b\b| \b\b/ \b\b- \b\b\\ \b\b| \b\b/ \b\b- \b\b\\ \b\b| \b\b/ \b\b- \b\b\\ \b\b| \b\b/ \b\b- \b\b\\ \b\b| \b\b/ \b\b- \b\b\\ \b\b| \b\b/ \b\b- \b\b\\ \b\b| \b\b/ \b\b- \b\b\\ \b\b| \b\b/ \b\b- \b\b\\ \b\b| \b\b/ \b\b- \b\b\\ \b\b| \b\b/ \b\b- \b\b\\ \b\b| \b\b/ \b\b- \b\b\\ \b\b| \b\b/ \b\b- \b\b\\ \b\b| \b\b/ \b\b- \b\b\\ \b\b| \b\b/ \b\b- \b\b\\ \b\b| \b\b/ \b\b- \b\b\\ \b\b| \b\b/ \b\b- \b\b\\ \b\b| \b\b/ \b\b- \b\b\\ \b\b| \b\b/ \b\b- \b\b\\ \b\b| \b\b/ \b\b- \b\b\\ \b\b| \b\b/ \b\b- \b\b\\ \b\b| \b\b/ \b\b- \b\b\\ \b\b| \b\b/ \b\b- \b\b\\ \b\b| \b\b/ \b\b- \b\b\\ \b\b| \b\b/ \b\b- \b\b\\ \b\b| \b\b/ \b\b- \b\b\\ \b\b| \b\b/ \b\b- \b\b\\ \b\b| \b\b/ \b\b- \b\b\\ \b\b| \b\b/ \b\b- \b\b\\ \b\b| \b\b/ \b\b- \b\b\\ \b\b| \b\b/ \b\b- \b\b\\ \b\b| \b\b/ \b\b- \b\b\\ \b\b| \b\b/ \b\b- \b\b\\ \b\b| \b\b/ \b\b- \b\b\\ \b\bfailed with initial frozen solve. Retrying with flexible solve.\n",
            "Solving environment: / \b\b- \b\b\\ \b\b| \b\b/ \b\b- \b\b\\ \b\b| \b\b/ \b\b- \b\b\\ \b\b| \b\b/ \b\b- \b\b\\ \b\b| \b\b/ \b\b- \b\b\\ \b\b| \b\b/ \b\b- \b\b\\ \b\b| \b\b/ \b\b- \b\b\\ \b\b| \b\b/ \b\b- \b\b\\ \b\b| \b\b/ \b\b- \b\b\\ \b\b| \b\b/ \b\b- \b\b\\ \b\b| \b\b/ \b\b- \b\b\\ \b\b| \b\b/ \b\b- \b\b\\ \b\b| \b\b/ \b\b- \b\b\\ \b\b| \b\b/ \b\b- \b\b\\ \b\b| \b\b/ \b\b- \b\b\\ \b\b| \b\b/ \b\b- \b\b\\ \b\b| \b\b/ \b\b- \b\b\\ \b\b| \b\b/ \b\b- \b\b\\ \b\b| \b\b/ \b\b- \b\b\\ \b\b| \b\b/ \b\b- \b\b\\ \b\b| \b\b/ \b\b- \b\b\\ \b\b| \b\b/ \b\b- \b\b\\ \b\b| \b\b/ \b\b- \b\b\\ \b\b| \b\b/ \b\b- \b\b\\ \b\b| \b\b/ \b\b- \b\b\\ \b\b| \b\b/ \b\b- \b\b\\ \b\b| \b\b/ \b\b- \b\b\\ \b\b| \b\b/ \b\b- \b\b\\ \b\b| \b\b/ \b\b- \b\b\\ \b\b| \b\b/ \b\b- \b\b\\ \b\b| \b\b/ \b\b- \b\b\\ \b\b| \b\b/ \b\b- \b\b\\ \b\b| \b\b/ \b\b- \b\b\\ \b\b| \b\b/ \b\b- \b\b\\ \b\b| \b\b/ \b\b- \b\b\\ \b\b| \b\b/ \b\b- \b\b\\ \b\b| \b\b/ \b\b- \b\b\\ \b\b| \b\b/ \b\b- \b\b\\ \b\b| \b\b/ \b\b- \b\b\\ \b\b| \b\b/ \b\b- \b\b\\ \b\b| \b\b/ \b\b- \b\b\\ \b\b| \b\b/ \b\b- \b\b\\ \b\b| \b\b/ \b\b- \b\b\\ \b\b| \b\b/ \b\b- \b\b\\ \b\b| \b\b/ \b\b- \b\b\\ \b\b| \b\b/ \b\b- \b\b\\ \b\b| \b\b/ \b\b- \b\b\\ \b\b| \b\b/ \b\b- \b\b\\ \b\b| \b\b/ \b\b- \b\b\\ \b\b| \b\b/ \b\b- \b\b\\ \b\b| \b\b/ \b\b- \b\b\\ \b\b| \b\b/ \b\b- \b\b\\ \b\b| \b\b/ \b\b- \b\b\\ \b\b| \b\b/ \b\b- \b\b\\ \b\b| \b\b/ \b\b- \b\b\\ \b\b| \b\b/ \b\b- \b\b\\ \b\b| \b\b/ \b\b- \b\b\\ \b\b| \b\b/ \b\b- \b\b\\ \b\b| \b\b/ \b\b- \b\b\\ \b\b| \b\b/ \b\b- \b\b\\ \b\b| \b\b/ \b\b- \b\b\\ \b\b| \b\b/ \b\b- \b\b\\ \b\b| \b\b/ \b\b- \b\b\\ \b\b| \b\b/ \b\b- \b\b\\ \b\b| \b\b/ \b\b- \b\b\\ \b\b| \b\b/ \b\b- \b\b\\ \b\b| \b\b/ \b\b- \b\b\\ \b\b| \b\b/ \b\b- \b\b\\ \b\b| \b\b/ \b\b- \b\b\\ \b\b| \b\b/ \b\b- \b\b\\ \b\b| \b\b/ \b\b- \b\b\\ \b\b| \b\b/ \b\b- \b\b\\ \b\b| \b\b/ \b\b- \b\b\\ \b\b| \b\b/ \b\b- \b\b\\ \b\b| \b\b/ \b\b- \b\b\\ \b\b| \b\b/ \b\b- \b\b\\ \b\b| \b\b/ \b\b- \b\b\\ \b\b| \b\b/ \b\b- \b\b\\ \b\b| \b\b/ \b\b- \b\b\\ \b\b| \b\b/ \b\b- \b\b\\ \b\b| \b\b/ \b\b- \b\b\\ \b\b| \b\b/ \b\b- \b\b\\ \b\b| \b\b/ \b\b- \b\b\\ \b\b| \b\b/ \b\b- \b\b\\ \b\b| \b\b/ \b\b- \b\b\\ \b\b| \b\b/ \b\b- \b\b\\ \b\b| \b\b/ \b\b- \b\b\\ \b\b| \b\b/ \b\b- \b\b\\ \b\b| \b\b/ \b\b- \b\b\\ \b\b| \b\b/ \b\b- \b\b\\ \b\b| \b\b/ \b\b- \b\b\\ \b\b| \b\b/ \b\b- \b\b\\ \b\b| \b\b/ \b\b- \b\b\\ \b\b| \b\b/ \b\b- \b\b\\ \b\b| \b\b/ \b\b- \b\b\\ \b\b| \b\b/ \b\b- \b\b\\ \b\b| \b\b/ \b\b- \b\b\\ \b\b| \b\b/ \b\b- \b\b\\ \b\b| \b\b/ \b\b- \b\b\\ \b\b| \b\b/ \b\b- \b\b\\ \b\b| \b\b/ \b\b- \b\b\\ \b\b| \b\b/ \b\b- \b\b\\ \b\b| \b\b/ \b\b- \b\b\\ \b\b| \b\b/ \b\b- \b\b\\ \b\b| \b\b/ \b\b- \b\b\\ \b\b| \b\b/ \b\b- \b\b\\ \b\b| \b\b/ \b\b- \b\b\\ \b\b| \b\b/ \b\b- \b\b\\ \b\b| \b\b/ \b\b- \b\b\\ \b\b| \b\b/ \b\b- \b\b\\ \b\b| \b\b/ \b\b- \b\b\\ \b\b| \b\b/ \b\b- \b\b\\ \b\b| \b\b/ \b\b- \b\b\\ \b\b| \b\b/ \b\b- \b\b\\ \b\b| \b\b/ \b\b- \b\b\\ \b\b| \b\b/ \b\b- \b\b\\ \b\b| \b\b/ \b\b- \b\b\\ \b\b| \b\b/ \b\b- \b\b\\ \b\b| \b\b/ \b\b- \b\b\\ \b\b| \b\bfailed with repodata from current_repodata.json, will retry with next repodata source.\n",
            "Collecting package metadata (repodata.json): - \b\b\\ \b\b| \b\b/ \b\b- \b\b\\ \b\b| \b\b/ \b\b- \b\b\\ \b\b| \b\b/ \b\b- \b\b\\ \b\b| \b\b/ \b\b- \b\b\\ \b\b| \b\b/ \b\b- \b\b\\ \b\b| \b\b/ \b\b- \b\b\\ \b\b| \b\b/ \b\b- \b\b\\ \b\b| \b\b/ \b\b- \b\b\\ \b\b| \b\b/ \b\b- \b\b\\ \b\b| \b\b/ \b\b- \b\b\\ \b\b| \b\b/ \b\b- \b\b\\ \b\b| \b\b/ \b\b- \b\b\\ \b\b| \b\b/ \b\b- \b\b\\ \b\b| \b\b/ \b\b- \b\b\\ \b\b| \b\b/ \b\b- \b\b\\ \b\b| \b\b/ \b\b- \b\b\\ \b\b| \b\b/ \b\b- \b\b\\ \b\b| \b\b/ \b\b- \b\b\\ \b\b| \b\b/ \b\b- \b\b\\ \b\b| \b\b/ \b\b- \b\b\\ \b\b| \b\b/ \b\b- \b\b\\ \b\b| \b\b/ \b\b- \b\b\\ \b\b| \b\b/ \b\b- \b\b\\ \b\b| \b\b/ \b\b- \b\b\\ \b\b| \b\b/ \b\b- \b\b\\ \b\b| \b\b/ \b\b- \b\b\\ \b\b| \b\b/ \b\b- \b\b\\ \b\b| \b\b/ \b\b- \b\b\\ \b\b| \b\b/ \b\b- \b\b\\ \b\b| \b\b/ \b\b- \b\b\\ \b\b| \b\b/ \b\b- \b\b\\ \b\b| \b\b/ \b\b- \b\b\\ \b\b| \b\b/ \b\b- \b\b\\ \b\b| \b\b/ \b\b- \b\b\\ \b\b| \b\b/ \b\b- \b\b\\ \b\b| \b\b/ \b\b- \b\b\\ \b\b| \b\b/ \b\b- \b\b\\ \b\b| \b\b/ \b\b- \b\b\\ \b\b| \b\b/ \b\b- \b\b\\ \b\b| \b\b/ \b\b- \b\b\\ \b\b| \b\b/ \b\b- \b\b\\ \b\b| \b\b/ \b\b- \b\b\\ \b\b| \b\b/ \b\b- \b\b\\ \b\b| \b\b/ \b\b- \b\b\\ \b\b| \b\b/ \b\b- \b\b\\ \b\b| \b\b/ \b\b- \b\b\\ \b\b| \b\b/ \b\b- \b\b\\ \b\b| \b\b/ \b\b- \b\b\\ \b\b| \b\b/ \b\b- \b\b\\ \b\b| \b\b/ \b\b- \b\b\\ \b\b| \b\b/ \b\b- \b\b\\ \b\b| \b\b/ \b\b- \b\b\\ \b\b| \b\b/ \b\b- \b\b\\ \b\b| \b\b/ \b\b- \b\b\\ \b\b| \b\b/ \b\b- \b\b\\ \b\b| \b\b/ \b\b- \b\b\\ \b\b| \b\b/ \b\b- \b\b\\ \b\b| \b\b/ \b\b- \b\b\\ \b\b| \b\b/ \b\b- \b\b\\ \b\b| \b\b/ \b\b- \b\b\\ \b\b| \b\b/ \b\b- \b\b\\ \b\b| \b\b/ \b\b- \b\b\\ \b\b| \b\b/ \b\b- \b\b\\ \b\b| \b\b/ \b\b- \b\b\\ \b\b| \b\b/ \b\b- \b\b\\ \b\b| \b\b/ \b\b- \b\b\\ \b\b| \b\b/ \b\bdone\n",
            "Solving environment: \\ \b\b| \b\b/ \b\b- \b\b\\ \b\b| \b\b/ \b\b- \b\b\\ \b\b| \b\b/ \b\b- \b\b\\ \b\b| \b\b/ \b\b- \b\b\\ \b\b| \b\b/ \b\b- \b\b\\ \b\b| \b\b/ \b\b- \b\b\\ \b\b| \b\b/ \b\b- \b\b\\ \b\b| \b\b/ \b\b- \b\b\\ \b\b| \b\b/ \b\b- \b\b\\ \b\b| \b\b/ \b\b- \b\b\\ \b\b| \b\b/ \b\b- \b\b\\ \b\b| \b\b/ \b\b- \b\b\\ \b\b| \b\b/ \b\b- \b\b\\ \b\b| \b\b/ \b\b- \b\b\\ \b\b| \b\b/ \b\b- \b\b\\ \b\b| \b\b/ \b\b- \b\b\\ \b\b| \b\b/ \b\b- \b\b\\ \b\b| \b\b/ \b\b- \b\b\\ \b\b| \b\b/ \b\b- \b\b\\ \b\b| \b\b/ \b\b- \b\b\\ \b\b| \b\b/ \b\b- \b\b\\ \b\b| \b\b/ \b\b- \b\b\\ \b\b| \b\b/ \b\b- \b\b\\ \b\b| \b\b/ \b\b- \b\b\\ \b\b| \b\b/ \b\b- \b\b\\ \b\b| \b\b/ \b\b- \b\b\\ \b\b| \b\b/ \b\b- \b\b\\ \b\b| \b\b/ \b\b- \b\b\\ \b\b| \b\b/ \b\b- \b\b\\ \b\b| \b\b/ \b\b- \b\b\\ \b\b| \b\b/ \b\b- \b\b\\ \b\b| \b\b/ \b\b- \b\b\\ \b\b| \b\b/ \b\b- \b\b\\ \b\b| \b\b/ \b\b- \b\b\\ \b\b| \b\b/ \b\b- \b\b\\ \b\b| \b\b/ \b\b- \b\b\\ \b\b| \b\b/ \b\b- \b\b\\ \b\b| \b\b/ \b\b- \b\b\\ \b\b| \b\b/ \b\b- \b\b\\ \b\b| \b\b/ \b\b- \b\b\\ \b\b| \b\b/ \b\b- \b\b\\ \b\b| \b\b/ \b\b- \b\b\\ \b\b| \b\b/ \b\b- \b\b\\ \b\b| \b\b/ \b\b- \b\b\\ \b\b| \b\b/ \b\b- \b\b\\ \b\b| \b\b/ \b\b- \b\b\\ \b\b| \b\bdone\n",
            "\n",
            "\n",
            "==> WARNING: A newer version of conda exists. <==\n",
            "  current version: 4.7.12\n",
            "  latest version: 4.9.2\n",
            "\n",
            "Please update conda by running\n",
            "\n",
            "    $ conda update -n base -c defaults conda\n",
            "\n",
            "\n",
            "\n",
            "## Package Plan ##\n",
            "\n",
            "  environment location: /usr/local\n",
            "\n",
            "  added / updated specs:\n",
            "    - deepchem-gpu=2.3.0\n",
            "\n",
            "\n",
            "The following packages will be downloaded:\n",
            "\n",
            "    package                    |            build\n",
            "    ---------------------------|-----------------\n",
            "    _py-xgboost-mutex-2.0      |            cpu_0           8 KB  conda-forge\n",
            "    _tflow_select-2.1.0        |              gpu           2 KB\n",
            "    absl-py-0.12.0             |     pyhd8ed1ab_0          96 KB  conda-forge\n",
            "    astor-0.8.1                |     pyh9f0ad1d_0          25 KB  conda-forge\n",
            "    astunparse-1.6.3           |     pyhd8ed1ab_0          15 KB  conda-forge\n",
            "    c-ares-1.17.1              |       h36c2ea0_0         111 KB  conda-forge\n",
            "    certifi-2019.9.11          |           py37_0         147 KB  conda-forge\n",
            "    conda-4.10.0               |   py37h89c1867_1         3.1 MB  conda-forge\n",
            "    cudatoolkit-10.1.243       |       h6bb024c_0       347.4 MB\n",
            "    cudnn-7.6.5.32             |       hc0a50b0_1       250.7 MB  conda-forge\n",
            "    cupti-10.1.168             |                0         1.4 MB\n",
            "    deepchem-gpu-2.3.0         |           py37_0         2.1 MB  deepchem\n",
            "    fftw3f-3.3.4               |                2         1.2 MB  omnia\n",
            "    gast-0.4.0                 |     pyh9f0ad1d_0          12 KB  conda-forge\n",
            "    google-pasta-0.2.0         |     pyh8c360ce_0          42 KB  conda-forge\n",
            "    grpcio-1.23.0              |   py37hb0870dc_1         1.1 MB  conda-forge\n",
            "    importlib-metadata-3.10.0  |   py37h89c1867_0          27 KB  conda-forge\n",
            "    keras-applications-1.0.8   |             py_1          30 KB  conda-forge\n",
            "    keras-preprocessing-1.1.2  |     pyhd8ed1ab_0          34 KB  conda-forge\n",
            "    libboost-1.67.0            |       h46d08c1_4        13.0 MB\n",
            "    libprotobuf-3.13.0.1       |       h8b12597_0         2.3 MB  conda-forge\n",
            "    libxgboost-1.2.0           |       he1b5a44_0         3.1 MB  conda-forge\n",
            "    markdown-3.3.4             |     pyhd8ed1ab_0          67 KB  conda-forge\n",
            "    mdtraj-1.9.5               |   py37h113d463_0         1.7 MB  conda-forge\n",
            "    openmm-7.4.2               |py37_cuda101_rc_1        11.9 MB  omnia\n",
            "    pdbfixer-1.6               |             py_1         167 KB  omnia\n",
            "    protobuf-3.13.0.1          |   py37h745909e_1         704 KB  conda-forge\n",
            "    py-boost-1.67.0            |   py37h04863e7_4         278 KB\n",
            "    py-xgboost-1.2.0           |   py37hc8dfbb8_0         1.7 MB  conda-forge\n",
            "    python_abi-3.7             |          1_cp37m           4 KB  conda-forge\n",
            "    rdkit-2020.03.3.0          |   py37hc20afe1_1        24.8 MB  rdkit\n",
            "    simdna-0.4.2               |             py_0         627 KB  deepchem\n",
            "    tensorboard-1.14.0         |           py37_0         3.2 MB  conda-forge\n",
            "    tensorflow-1.14.0          |gpu_py37h74c33d7_0           4 KB\n",
            "    tensorflow-base-1.14.0     |gpu_py37he45bfe2_0       146.3 MB\n",
            "    tensorflow-estimator-1.14.0|   py37h5ca1d4c_0         645 KB  conda-forge\n",
            "    tensorflow-gpu-1.14.0      |       h0d30ee6_0           3 KB\n",
            "    termcolor-1.1.0            |             py_2           6 KB  conda-forge\n",
            "    typing_extensions-3.7.4.3  |             py_0          25 KB  conda-forge\n",
            "    xgboost-1.2.0              |   py37h3340039_0          11 KB  conda-forge\n",
            "    ------------------------------------------------------------\n",
            "                                           Total:       817.9 MB\n",
            "\n",
            "The following NEW packages will be INSTALLED:\n",
            "\n",
            "  _py-xgboost-mutex  conda-forge/linux-64::_py-xgboost-mutex-2.0-cpu_0\n",
            "  _tflow_select      pkgs/main/linux-64::_tflow_select-2.1.0-gpu\n",
            "  absl-py            conda-forge/noarch::absl-py-0.12.0-pyhd8ed1ab_0\n",
            "  astor              conda-forge/noarch::astor-0.8.1-pyh9f0ad1d_0\n",
            "  astunparse         conda-forge/noarch::astunparse-1.6.3-pyhd8ed1ab_0\n",
            "  c-ares             conda-forge/linux-64::c-ares-1.17.1-h36c2ea0_0\n",
            "  cudatoolkit        pkgs/main/linux-64::cudatoolkit-10.1.243-h6bb024c_0\n",
            "  cudnn              conda-forge/linux-64::cudnn-7.6.5.32-hc0a50b0_1\n",
            "  cupti              pkgs/main/linux-64::cupti-10.1.168-0\n",
            "  deepchem-gpu       deepchem/linux-64::deepchem-gpu-2.3.0-py37_0\n",
            "  fftw3f             omnia/linux-64::fftw3f-3.3.4-2\n",
            "  gast               conda-forge/noarch::gast-0.4.0-pyh9f0ad1d_0\n",
            "  google-pasta       conda-forge/noarch::google-pasta-0.2.0-pyh8c360ce_0\n",
            "  grpcio             conda-forge/linux-64::grpcio-1.23.0-py37hb0870dc_1\n",
            "  importlib-metadata conda-forge/linux-64::importlib-metadata-3.10.0-py37h89c1867_0\n",
            "  keras-applications conda-forge/noarch::keras-applications-1.0.8-py_1\n",
            "  keras-preprocessi~ conda-forge/noarch::keras-preprocessing-1.1.2-pyhd8ed1ab_0\n",
            "  libboost           pkgs/main/linux-64::libboost-1.67.0-h46d08c1_4\n",
            "  libprotobuf        conda-forge/linux-64::libprotobuf-3.13.0.1-h8b12597_0\n",
            "  libxgboost         conda-forge/linux-64::libxgboost-1.2.0-he1b5a44_0\n",
            "  markdown           conda-forge/noarch::markdown-3.3.4-pyhd8ed1ab_0\n",
            "  mdtraj             conda-forge/linux-64::mdtraj-1.9.5-py37h113d463_0\n",
            "  openmm             omnia/linux-64::openmm-7.4.2-py37_cuda101_rc_1\n",
            "  pdbfixer           omnia/noarch::pdbfixer-1.6-py_1\n",
            "  protobuf           conda-forge/linux-64::protobuf-3.13.0.1-py37h745909e_1\n",
            "  py-boost           pkgs/main/linux-64::py-boost-1.67.0-py37h04863e7_4\n",
            "  py-xgboost         conda-forge/linux-64::py-xgboost-1.2.0-py37hc8dfbb8_0\n",
            "  python_abi         conda-forge/linux-64::python_abi-3.7-1_cp37m\n",
            "  rdkit              rdkit/linux-64::rdkit-2020.03.3.0-py37hc20afe1_1\n",
            "  simdna             deepchem/noarch::simdna-0.4.2-py_0\n",
            "  tensorboard        conda-forge/linux-64::tensorboard-1.14.0-py37_0\n",
            "  tensorflow         pkgs/main/linux-64::tensorflow-1.14.0-gpu_py37h74c33d7_0\n",
            "  tensorflow-base    pkgs/main/linux-64::tensorflow-base-1.14.0-gpu_py37he45bfe2_0\n",
            "  tensorflow-estima~ conda-forge/linux-64::tensorflow-estimator-1.14.0-py37h5ca1d4c_0\n",
            "  tensorflow-gpu     pkgs/main/linux-64::tensorflow-gpu-1.14.0-h0d30ee6_0\n",
            "  termcolor          conda-forge/noarch::termcolor-1.1.0-py_2\n",
            "  typing_extensions  conda-forge/noarch::typing_extensions-3.7.4.3-py_0\n",
            "  xgboost            conda-forge/linux-64::xgboost-1.2.0-py37h3340039_0\n",
            "\n",
            "The following packages will be UPDATED:\n",
            "\n",
            "  conda                      pkgs/main::conda-4.7.12-py37_0 --> conda-forge::conda-4.10.0-py37h89c1867_1\n",
            "\n",
            "The following packages will be SUPERSEDED by a higher-priority channel:\n",
            "\n",
            "  certifi                                         pkgs/main --> conda-forge\n",
            "\n",
            "\n",
            "\n",
            "Downloading and Extracting Packages\n",
            "openmm-7.4.2         | 11.9 MB   | : 100% 1.0/1 [00:02<00:00,  2.25s/it]\n",
            "termcolor-1.1.0      | 6 KB      | : 100% 1.0/1 [00:00<00:00, 15.13it/s]\n",
            "python_abi-3.7       | 4 KB      | : 100% 1.0/1 [00:00<00:00, 27.76it/s]\n",
            "py-xgboost-1.2.0     | 1.7 MB    | : 100% 1.0/1 [00:00<00:00,  3.57it/s]\n",
            "absl-py-0.12.0       | 96 KB     | : 100% 1.0/1 [00:00<00:00, 17.04it/s]\n",
            "astor-0.8.1          | 25 KB     | : 100% 1.0/1 [00:00<00:00, 21.17it/s]\n",
            "astunparse-1.6.3     | 15 KB     | : 100% 1.0/1 [00:00<00:00, 19.59it/s]\n",
            "certifi-2019.9.11    | 147 KB    | : 100% 1.0/1 [00:00<00:00,  9.25it/s]\n",
            "pdbfixer-1.6         | 167 KB    | : 100% 1.0/1 [00:00<00:00,  8.42it/s]\n",
            "libboost-1.67.0      | 13.0 MB   | : 100% 1.0/1 [00:01<00:00,  6.02s/it]               \n",
            "rdkit-2020.03.3.0    | 24.8 MB   | : 100% 1.0/1 [00:03<00:00,  3.75s/it]\n",
            "tensorflow-gpu-1.14. | 3 KB      | : 100% 1.0/1 [00:00<00:00,  9.44it/s]\n",
            "mdtraj-1.9.5         | 1.7 MB    | : 100% 1.0/1 [00:00<00:00,  3.28it/s]\n",
            "tensorboard-1.14.0   | 3.2 MB    | : 100% 1.0/1 [00:00<00:00,  2.30it/s]\n",
            "conda-4.10.0         | 3.1 MB    | : 100% 1.0/1 [00:00<00:00,  1.87it/s]\n",
            "_tflow_select-2.1.0  | 2 KB      | : 100% 1.0/1 [00:00<00:00, 10.34it/s]\n",
            "typing_extensions-3. | 25 KB     | : 100% 1.0/1 [00:00<00:00, 24.04it/s]\n",
            "cudnn-7.6.5.32       | 250.7 MB  | : 100% 1.0/1 [00:28<00:00, 28.80s/it]               \n",
            "grpcio-1.23.0        | 1.1 MB    | : 100% 1.0/1 [00:00<00:00,  4.40it/s]\n",
            "fftw3f-3.3.4         | 1.2 MB    | : 100% 1.0/1 [00:00<00:00,  3.57it/s]\n",
            "deepchem-gpu-2.3.0   | 2.1 MB    | : 100% 1.0/1 [00:00<00:00,  2.02it/s]\n",
            "tensorflow-base-1.14 | 146.3 MB  | : 100% 1.0/1 [00:06<00:00, 18.85s/it]               \n",
            "c-ares-1.17.1        | 111 KB    | : 100% 1.0/1 [00:00<00:00, 16.80it/s]\n",
            "gast-0.4.0           | 12 KB     | : 100% 1.0/1 [00:00<00:00, 26.38it/s]\n",
            "keras-applications-1 | 30 KB     | : 100% 1.0/1 [00:00<00:00, 22.14it/s]\n",
            "protobuf-3.13.0.1    | 704 KB    | : 100% 1.0/1 [00:00<00:00,  5.19it/s]\n",
            "markdown-3.3.4       | 67 KB     | : 100% 1.0/1 [00:00<00:00, 20.48it/s]\n",
            "simdna-0.4.2         | 627 KB    | : 100% 1.0/1 [00:00<00:00,  3.94it/s]\n",
            "tensorflow-estimator | 645 KB    | : 100% 1.0/1 [00:04<00:00,  4.45s/it]\n",
            "libxgboost-1.2.0     | 3.1 MB    | : 100% 1.0/1 [00:00<00:00,  2.11it/s]\n",
            "xgboost-1.2.0        | 11 KB     | : 100% 1.0/1 [00:00<00:00, 24.38it/s]\n",
            "cupti-10.1.168       | 1.4 MB    | : 100% 1.0/1 [00:00<00:00,  7.14it/s]\n",
            "py-boost-1.67.0      | 278 KB    | : 100% 1.0/1 [00:00<00:00,  8.51it/s]\n",
            "tensorflow-1.14.0    | 4 KB      | : 100% 1.0/1 [00:00<00:00, 10.08it/s]\n",
            "libprotobuf-3.13.0.1 | 2.3 MB    | : 100% 1.0/1 [00:00<00:00,  2.23s/it]                \n",
            "cudatoolkit-10.1.243 | 347.4 MB  | : 100% 1.0/1 [00:13<00:00, 13.35s/it]              \n",
            "importlib-metadata-3 | 27 KB     | : 100% 1.0/1 [00:00<00:00, 20.48it/s]\n",
            "_py-xgboost-mutex-2. | 8 KB      | : 100% 1.0/1 [00:00<00:00, 18.02it/s]\n",
            "google-pasta-0.2.0   | 42 KB     | : 100% 1.0/1 [00:00<00:00, 20.23it/s]\n",
            "keras-preprocessing- | 34 KB     | : 100% 1.0/1 [00:00<00:00, 20.07it/s]\n",
            "Preparing transaction: - \b\b\\ \b\b| \b\b/ \b\b- \b\b\\ \b\b| \b\b/ \b\b- \b\bdone\n",
            "Verifying transaction: | \b\b/ \b\b- \b\b\\ \b\b| \b\b/ \b\b- \b\b\\ \b\b| \b\b/ \b\b- \b\b\\ \b\b| \b\b/ \b\b- \b\b\\ \b\b| \b\b/ \b\b- \b\b\\ \b\b| \b\b/ \b\b- \b\bdone\n",
            "Executing transaction: | \b\b/ \b\b- \b\b\\ \b\b| \b\b/ \b\b- \b\b\\ \b\b| \b\b/ \b\b- \b\b\\ \b\b| \b\b/ \b\b- \b\b\\ \b\b| \b\b/ \b\b- \b\b\\ \b\b| \b\b/ \b\b- \b\b\\ \b\b| \b\b/ \b\b- \b\b\\ \b\b| \b\b/ \b\b- \b\b\\ \b\b| \b\b/ \b\b- \b\b\\ \b\b| \b\b/ \b\b- \b\b\\ \b\b| \b\b/ \b\b- \b\b\\ b'By downloading and using the cuDNN conda packages, you accept the terms and conditions of the NVIDIA cuDNN EULA -\\n  https://docs.nvidia.com/deeplearning/cudnn/sla/index.html\\n'\n",
            "\b\b| \b\b/ \b\b- \b\b\\ \b\b| \b\b/ \b\b- \b\b\\ \b\b| \b\b/ \b\b- \b\b\\ \b\b| \b\b/ \b\b- \b\b\\ \b\b| \b\bdone\n",
            "\n",
            "real\t4m18.084s\n",
            "user\t3m46.548s\n",
            "sys\t0m12.330s\n"
          ],
          "name": "stdout"
        }
      ]
    },
    {
      "cell_type": "code",
      "metadata": {
        "colab": {
          "base_uri": "https://localhost:8080/"
        },
        "id": "yS2DjAnF9y49",
        "outputId": "c96c528b-29c5-4d2b-d7df-76505ab9a14a"
      },
      "source": [
        "!pip install mordred\n",
        "!pip install --upgrade bravado\n",
        "!pip install molvs"
      ],
      "execution_count": 3,
      "outputs": [
        {
          "output_type": "stream",
          "text": [
            "Collecting mordred\n",
            "\u001b[?25l  Downloading https://files.pythonhosted.org/packages/93/3d/26c908ece761adafcea06320bf8fe73f4de69979273fb164226dc6038c39/mordred-1.2.0.tar.gz (128kB)\n",
            "\r\u001b[K     |██▌                             | 10kB 14.8MB/s eta 0:00:01\r\u001b[K     |█████                           | 20kB 11.3MB/s eta 0:00:01\r\u001b[K     |███████▋                        | 30kB 8.9MB/s eta 0:00:01\r\u001b[K     |██████████▏                     | 40kB 8.0MB/s eta 0:00:01\r\u001b[K     |████████████▊                   | 51kB 4.5MB/s eta 0:00:01\r\u001b[K     |███████████████▎                | 61kB 5.0MB/s eta 0:00:01\r\u001b[K     |█████████████████▉              | 71kB 5.5MB/s eta 0:00:01\r\u001b[K     |████████████████████▍           | 81kB 5.6MB/s eta 0:00:01\r\u001b[K     |███████████████████████         | 92kB 5.4MB/s eta 0:00:01\r\u001b[K     |█████████████████████████▌      | 102kB 5.9MB/s eta 0:00:01\r\u001b[K     |████████████████████████████    | 112kB 5.9MB/s eta 0:00:01\r\u001b[K     |██████████████████████████████▌ | 122kB 5.9MB/s eta 0:00:01\r\u001b[K     |████████████████████████████████| 133kB 5.9MB/s \n",
            "\u001b[?25hRequirement already satisfied: six==1.* in /usr/local/lib/python3.7/site-packages (from mordred) (1.12.0)\n",
            "Requirement already satisfied: numpy==1.* in /usr/local/lib/python3.7/site-packages (from mordred) (1.17.2)\n",
            "Requirement already satisfied: networkx==2.* in /usr/local/lib/python3.7/site-packages (from mordred) (2.3)\n",
            "Requirement already satisfied: decorator>=4.3.0 in /usr/local/lib/python3.7/site-packages (from networkx==2.*->mordred) (4.4.0)\n",
            "Building wheels for collected packages: mordred\n",
            "  Building wheel for mordred (setup.py) ... \u001b[?25l\u001b[?25hdone\n",
            "  Created wheel for mordred: filename=mordred-1.2.0-cp37-none-any.whl size=176721 sha256=9759862195c2394bec9a4f0f3d67cb577e6a3fea3fc6787d5fa72fbc0878415c\n",
            "  Stored in directory: /root/.cache/pip/wheels/ac/74/3f/2fd81b1187013f2eadb15620434813f1824c4c03b7bd1f94f6\n",
            "Successfully built mordred\n",
            "Installing collected packages: mordred\n",
            "Successfully installed mordred-1.2.0\n",
            "Collecting bravado\n",
            "  Downloading https://files.pythonhosted.org/packages/21/ed/03b0c36b5bcafbe2938ed222f9a164a6c0367ce99a9d2d502e462853571d/bravado-11.0.3-py2.py3-none-any.whl\n",
            "Collecting monotonic (from bravado)\n",
            "  Downloading https://files.pythonhosted.org/packages/ac/aa/063eca6a416f397bd99552c534c6d11d57f58f2e94c14780f3bbf818c4cf/monotonic-1.5-py2.py3-none-any.whl\n",
            "Requirement already satisfied, skipping upgrade: six in /usr/local/lib/python3.7/site-packages (from bravado) (1.12.0)\n",
            "Requirement already satisfied, skipping upgrade: requests>=2.17 in /usr/local/lib/python3.7/site-packages (from bravado) (2.22.0)\n",
            "Requirement already satisfied, skipping upgrade: typing-extensions in /usr/local/lib/python3.7/site-packages (from bravado) (3.7.4.3)\n",
            "Requirement already satisfied, skipping upgrade: msgpack in /usr/local/lib/python3.7/site-packages (from bravado) (0.6.1)\n",
            "Requirement already satisfied, skipping upgrade: python-dateutil in /usr/local/lib/python3.7/site-packages (from bravado) (2.8.0)\n",
            "Collecting simplejson (from bravado)\n",
            "\u001b[?25l  Downloading https://files.pythonhosted.org/packages/a8/04/377418ac1e530ce2a196b54c6552c018fdf1fe776718053efb1f216bffcd/simplejson-3.17.2-cp37-cp37m-manylinux2010_x86_64.whl (128kB)\n",
            "\u001b[K     |████████████████████████████████| 133kB 5.3MB/s \n",
            "\u001b[?25hRequirement already satisfied, skipping upgrade: pyyaml in /usr/local/lib/python3.7/site-packages (from bravado) (5.1.2)\n",
            "Collecting bravado-core>=5.16.1 (from bravado)\n",
            "\u001b[?25l  Downloading https://files.pythonhosted.org/packages/76/11/18e9d28a156c33f2d5f15a5e155dc7130250acb0a569255a2b6b307b596d/bravado_core-5.17.0-py2.py3-none-any.whl (67kB)\n",
            "\u001b[K     |████████████████████████████████| 71kB 7.1MB/s \n",
            "\u001b[?25hRequirement already satisfied, skipping upgrade: idna<2.9,>=2.5 in /usr/local/lib/python3.7/site-packages (from requests>=2.17->bravado) (2.8)\n",
            "Requirement already satisfied, skipping upgrade: certifi>=2017.4.17 in /usr/local/lib/python3.7/site-packages (from requests>=2.17->bravado) (2019.9.11)\n",
            "Requirement already satisfied, skipping upgrade: urllib3!=1.25.0,!=1.25.1,<1.26,>=1.21.1 in /usr/local/lib/python3.7/site-packages (from requests>=2.17->bravado) (1.24.2)\n",
            "Requirement already satisfied, skipping upgrade: chardet<3.1.0,>=3.0.2 in /usr/local/lib/python3.7/site-packages (from requests>=2.17->bravado) (3.0.4)\n",
            "Collecting swagger-spec-validator>=2.0.1 (from bravado-core>=5.16.1->bravado)\n",
            "  Downloading https://files.pythonhosted.org/packages/09/de/e78cefbf5838b434b63a789264b79821cb2267f1498fbed23ef8590133e4/swagger_spec_validator-2.7.3-py2.py3-none-any.whl\n",
            "Collecting jsonref (from bravado-core>=5.16.1->bravado)\n",
            "  Downloading https://files.pythonhosted.org/packages/07/92/f8e4ac824b14af77e613984e480fa818397c72d4141fc466decb26752749/jsonref-0.2-py3-none-any.whl\n",
            "Requirement already satisfied, skipping upgrade: pytz in /usr/local/lib/python3.7/site-packages (from bravado-core>=5.16.1->bravado) (2019.3)\n",
            "Requirement already satisfied, skipping upgrade: jsonschema[format]>=2.5.1 in /usr/local/lib/python3.7/site-packages (from bravado-core>=5.16.1->bravado) (3.0.2)\n",
            "Requirement already satisfied, skipping upgrade: pyrsistent>=0.14.0 in /usr/local/lib/python3.7/site-packages (from jsonschema[format]>=2.5.1->bravado-core>=5.16.1->bravado) (0.15.4)\n",
            "Requirement already satisfied, skipping upgrade: setuptools in /usr/local/lib/python3.7/site-packages (from jsonschema[format]>=2.5.1->bravado-core>=5.16.1->bravado) (41.4.0)\n",
            "Requirement already satisfied, skipping upgrade: attrs>=17.4.0 in /usr/local/lib/python3.7/site-packages (from jsonschema[format]>=2.5.1->bravado-core>=5.16.1->bravado) (19.2.0)\n",
            "Collecting rfc3987; extra == \"format\" (from jsonschema[format]>=2.5.1->bravado-core>=5.16.1->bravado)\n",
            "  Downloading https://files.pythonhosted.org/packages/65/d4/f7407c3d15d5ac779c3dd34fbbc6ea2090f77bd7dd12f207ccf881551208/rfc3987-1.3.8-py2.py3-none-any.whl\n",
            "Collecting webcolors; extra == \"format\" (from jsonschema[format]>=2.5.1->bravado-core>=5.16.1->bravado)\n",
            "  Downloading https://files.pythonhosted.org/packages/12/05/3350559de9714b202e443a9e6312937341bd5f79f4e4f625744295e7dd17/webcolors-1.11.1-py3-none-any.whl\n",
            "Collecting strict-rfc3339; extra == \"format\" (from jsonschema[format]>=2.5.1->bravado-core>=5.16.1->bravado)\n",
            "  Downloading https://files.pythonhosted.org/packages/56/e4/879ef1dbd6ddea1c77c0078cd59b503368b0456bcca7d063a870ca2119d3/strict-rfc3339-0.7.tar.gz\n",
            "Collecting jsonpointer>1.13; extra == \"format\" (from jsonschema[format]>=2.5.1->bravado-core>=5.16.1->bravado)\n",
            "  Downloading https://files.pythonhosted.org/packages/23/52/05f67532aa922e494c351344e0d9624a01f74f5dd8402fe0d1b563a6e6fc/jsonpointer-2.1-py2.py3-none-any.whl\n",
            "Building wheels for collected packages: strict-rfc3339\n",
            "  Building wheel for strict-rfc3339 (setup.py) ... \u001b[?25l\u001b[?25hdone\n",
            "  Created wheel for strict-rfc3339: filename=strict_rfc3339-0.7-cp37-none-any.whl size=18120 sha256=2bb2a3c1ce6e1d019bcf665445b83ec018dd6ce7fcc33620d607d4273f231f62\n",
            "  Stored in directory: /root/.cache/pip/wheels/bb/af/c9/b6e9fb5f9b2470e4ed2a7241c9ab3a8cdd3bc8555ae02ca2e6\n",
            "Successfully built strict-rfc3339\n",
            "Installing collected packages: monotonic, simplejson, swagger-spec-validator, jsonref, bravado-core, bravado, rfc3987, webcolors, strict-rfc3339, jsonpointer\n",
            "Successfully installed bravado-11.0.3 bravado-core-5.17.0 jsonpointer-2.1 jsonref-0.2 monotonic-1.5 rfc3987-1.3.8 simplejson-3.17.2 strict-rfc3339-0.7 swagger-spec-validator-2.7.3 webcolors-1.11.1\n",
            "Collecting molvs\n",
            "\u001b[?25l  Downloading https://files.pythonhosted.org/packages/08/dc/d948e83b97f2c420cb6c7e2143ae349560d3b5b061945f1b2a4eefb0231c/MolVS-0.1.1.tar.gz (61kB)\n",
            "\u001b[K     |████████████████████████████████| 71kB 5.5MB/s \n",
            "\u001b[?25hRequirement already satisfied: six in /usr/local/lib/python3.7/site-packages (from molvs) (1.12.0)\n",
            "Building wheels for collected packages: molvs\n",
            "  Building wheel for molvs (setup.py) ... \u001b[?25l\u001b[?25hdone\n",
            "  Created wheel for molvs: filename=MolVS-0.1.1-cp37-none-any.whl size=32376 sha256=e611f8872c99641bebede4362609f2241bb52a478e654568e68f2322ec162703\n",
            "  Stored in directory: /root/.cache/pip/wheels/30/37/a8/8ac8147605c9de6b45ffd66d1cc19761d41467db12b34a0de8\n",
            "Successfully built molvs\n",
            "Installing collected packages: molvs\n",
            "Successfully installed molvs-0.1.1\n"
          ],
          "name": "stdout"
        }
      ]
    },
    {
      "cell_type": "code",
      "metadata": {
        "colab": {
          "base_uri": "https://localhost:8080/"
        },
        "id": "4AB0U-9gyJNB",
        "outputId": "a7ed3c34-4674-4c3a-fc3c-18d73ecfe693"
      },
      "source": [
        "!wget https://raw.githubusercontent.com/ravichas/AMPL-Tutorial/master/config/install_AMPL_GPU_test.sh"
      ],
      "execution_count": 4,
      "outputs": [
        {
          "output_type": "stream",
          "text": [
            "--2021-04-03 21:05:15--  https://raw.githubusercontent.com/ravichas/AMPL-Tutorial/master/config/install_AMPL_GPU_test.sh\n",
            "Resolving raw.githubusercontent.com (raw.githubusercontent.com)... 185.199.108.133, 185.199.109.133, 185.199.110.133, ...\n",
            "Connecting to raw.githubusercontent.com (raw.githubusercontent.com)|185.199.108.133|:443... connected.\n",
            "HTTP request sent, awaiting response... 200 OK\n",
            "Length: 1100 (1.1K) [text/plain]\n",
            "Saving to: ‘install_AMPL_GPU_test.sh’\n",
            "\n",
            "\rinstall_AMPL_GPU_te   0%[                    ]       0  --.-KB/s               \rinstall_AMPL_GPU_te 100%[===================>]   1.07K  --.-KB/s    in 0s      \n",
            "\n",
            "2021-04-03 21:05:15 (74.1 MB/s) - ‘install_AMPL_GPU_test.sh’ saved [1100/1100]\n",
            "\n"
          ],
          "name": "stdout"
        }
      ]
    },
    {
      "cell_type": "code",
      "metadata": {
        "colab": {
          "base_uri": "https://localhost:8080/"
        },
        "id": "aadk1g7ZzPdp",
        "outputId": "b5127912-efd3-4eff-8c94-55b51c4f96d9"
      },
      "source": [
        "! chmod u+x install_AMPL_GPU_test.sh\n",
        "! ./install_AMPL_GPU_test.sh"
      ],
      "execution_count": 5,
      "outputs": [
        {
          "output_type": "stream",
          "text": [
            "Cloning into 'AMPL'...\n",
            "remote: Enumerating objects: 389, done.\u001b[K\n",
            "remote: Counting objects: 100% (389/389), done.\u001b[K\n",
            "remote: Compressing objects: 100% (223/223), done.\u001b[K\n",
            "remote: Total 1897 (delta 277), reused 232 (delta 166), pack-reused 1508\u001b[K\n",
            "Receiving objects: 100% (1897/1897), 9.69 MiB | 27.56 MiB/s, done.\n",
            "Resolving deltas: 100% (1089/1089), done.\n",
            "Branch 'pkg_upgrade' set up to track remote branch 'pkg_upgrade' from 'origin'.\n",
            "Switched to a new branch 'pkg_upgrade'\n",
            "patching file /content/github/AMPL/atomsci/ddm/pipeline/transformations.py\n",
            "patching file /content/github/AMPL/atomsci/ddm/__init__.py\n",
            "running build\n",
            "running build_py\n",
            "creating /content/github/AMPL.build/ampl/lib\n",
            "creating /content/github/AMPL.build/ampl/lib/atomsci\n",
            "copying atomsci/__init__.py -> /content/github/AMPL.build/ampl/lib/atomsci\n",
            "creating /content/github/AMPL.build/ampl/lib/atomsci/ddm\n",
            "copying atomsci/ddm/__init__.py -> /content/github/AMPL.build/ampl/lib/atomsci/ddm\n",
            "creating /content/github/AMPL.build/ampl/lib/atomsci/ddm/pipeline\n",
            "copying atomsci/ddm/pipeline/splitting.py -> /content/github/AMPL.build/ampl/lib/atomsci/ddm/pipeline\n",
            "copying atomsci/ddm/pipeline/compare_models.py -> /content/github/AMPL.build/ampl/lib/atomsci/ddm/pipeline\n",
            "copying atomsci/ddm/pipeline/transformations.py -> /content/github/AMPL.build/ampl/lib/atomsci/ddm/pipeline\n",
            "copying atomsci/ddm/pipeline/__init__.py -> /content/github/AMPL.build/ampl/lib/atomsci/ddm/pipeline\n",
            "copying atomsci/ddm/pipeline/ave_splitter.py -> /content/github/AMPL.build/ampl/lib/atomsci/ddm/pipeline\n",
            "copying atomsci/ddm/pipeline/featurization.py -> /content/github/AMPL.build/ampl/lib/atomsci/ddm/pipeline\n",
            "copying atomsci/ddm/pipeline/model_wrapper.py -> /content/github/AMPL.build/ampl/lib/atomsci/ddm/pipeline\n",
            "copying atomsci/ddm/pipeline/hyper_perf_plots.py -> /content/github/AMPL.build/ampl/lib/atomsci/ddm/pipeline\n",
            "copying atomsci/ddm/pipeline/model_tracker.py -> /content/github/AMPL.build/ampl/lib/atomsci/ddm/pipeline\n",
            "copying atomsci/ddm/pipeline/model_datasets.py -> /content/github/AMPL.build/ampl/lib/atomsci/ddm/pipeline\n",
            "copying atomsci/ddm/pipeline/chem_diversity.py -> /content/github/AMPL.build/ampl/lib/atomsci/ddm/pipeline\n",
            "copying atomsci/ddm/pipeline/diversity_plots.py -> /content/github/AMPL.build/ampl/lib/atomsci/ddm/pipeline\n",
            "copying atomsci/ddm/pipeline/perf_data.py -> /content/github/AMPL.build/ampl/lib/atomsci/ddm/pipeline\n",
            "copying atomsci/ddm/pipeline/parameter_parser.py -> /content/github/AMPL.build/ampl/lib/atomsci/ddm/pipeline\n",
            "copying atomsci/ddm/pipeline/model_pipeline.py -> /content/github/AMPL.build/ampl/lib/atomsci/ddm/pipeline\n",
            "copying atomsci/ddm/pipeline/perf_plots.py -> /content/github/AMPL.build/ampl/lib/atomsci/ddm/pipeline\n",
            "copying atomsci/ddm/pipeline/dist_metrics.py -> /content/github/AMPL.build/ampl/lib/atomsci/ddm/pipeline\n",
            "copying atomsci/ddm/pipeline/predict_from_model.py -> /content/github/AMPL.build/ampl/lib/atomsci/ddm/pipeline\n",
            "copying atomsci/ddm/pipeline/temporal_splitter.py -> /content/github/AMPL.build/ampl/lib/atomsci/ddm/pipeline\n",
            "creating /content/github/AMPL.build/ampl/lib/atomsci/ddm/utils\n",
            "copying atomsci/ddm/utils/open-docs.py -> /content/github/AMPL.build/ampl/lib/atomsci/ddm/utils\n",
            "copying atomsci/ddm/utils/rdkit_easy.py -> /content/github/AMPL.build/ampl/lib/atomsci/ddm/utils\n",
            "copying atomsci/ddm/utils/struct_utils.py -> /content/github/AMPL.build/ampl/lib/atomsci/ddm/utils\n",
            "copying atomsci/ddm/utils/__init__.py -> /content/github/AMPL.build/ampl/lib/atomsci/ddm/utils\n",
            "copying atomsci/ddm/utils/curate_data.py -> /content/github/AMPL.build/ampl/lib/atomsci/ddm/utils\n",
            "copying atomsci/ddm/utils/genTestset.py -> /content/github/AMPL.build/ampl/lib/atomsci/ddm/utils\n",
            "copying atomsci/ddm/utils/datastore_functions.py -> /content/github/AMPL.build/ampl/lib/atomsci/ddm/utils\n",
            "copying atomsci/ddm/utils/data_curation_functions.py -> /content/github/AMPL.build/ampl/lib/atomsci/ddm/utils\n",
            "copying atomsci/ddm/utils/process_slurm.py -> /content/github/AMPL.build/ampl/lib/atomsci/ddm/utils\n",
            "copying atomsci/ddm/utils/hyperparam_search_wrapper.py -> /content/github/AMPL.build/ampl/lib/atomsci/ddm/utils\n",
            "copying atomsci/ddm/utils/pubchem_utils.py -> /content/github/AMPL.build/ampl/lib/atomsci/ddm/utils\n",
            "copying atomsci/ddm/utils/llnl_utils.py -> /content/github/AMPL.build/ampl/lib/atomsci/ddm/utils\n",
            "running egg_info\n",
            "creating /content/github/AMPL.build/ampl/atomsci_ampl.egg-info\n",
            "writing /content/github/AMPL.build/ampl/atomsci_ampl.egg-info/PKG-INFO\n",
            "writing dependency_links to /content/github/AMPL.build/ampl/atomsci_ampl.egg-info/dependency_links.txt\n",
            "writing namespace_packages to /content/github/AMPL.build/ampl/atomsci_ampl.egg-info/namespace_packages.txt\n",
            "writing top-level names to /content/github/AMPL.build/ampl/atomsci_ampl.egg-info/top_level.txt\n",
            "writing manifest file '/content/github/AMPL.build/ampl/atomsci_ampl.egg-info/SOURCES.txt'\n",
            "reading manifest file '/content/github/AMPL.build/ampl/atomsci_ampl.egg-info/SOURCES.txt'\n",
            "reading manifest template 'MANIFEST.in'\n",
            "warning: no files found matching 'atomsci/*/*.yaml'\n",
            "writing manifest file '/content/github/AMPL.build/ampl/atomsci_ampl.egg-info/SOURCES.txt'\n",
            "creating /content/github/AMPL.build/ampl/lib/atomsci/ddm/data\n",
            "copying atomsci/ddm/data/descriptor_sets_sources_by_descr_type.csv -> /content/github/AMPL.build/ampl/lib/atomsci/ddm/data\n",
            "running bdist_wheel\n",
            "installing to /content/github/AMPL.build/ampl/bdist.linux-x86_64/wheel\n",
            "running install\n",
            "running install_lib\n",
            "Skipping installation of /content/github/AMPL.build/ampl/bdist.linux-x86_64/wheel/atomsci/__init__.py (namespace package)\n",
            "copying atomsci/ddm/__init__.py -> /content/github/AMPL.build/ampl/bdist.linux-x86_64/wheel/atomsci/ddm\n",
            "copying atomsci/ddm/pipeline/splitting.py -> /content/github/AMPL.build/ampl/bdist.linux-x86_64/wheel/atomsci/ddm/pipeline\n",
            "copying atomsci/ddm/pipeline/compare_models.py -> /content/github/AMPL.build/ampl/bdist.linux-x86_64/wheel/atomsci/ddm/pipeline\n",
            "copying atomsci/ddm/pipeline/transformations.py -> /content/github/AMPL.build/ampl/bdist.linux-x86_64/wheel/atomsci/ddm/pipeline\n",
            "copying atomsci/ddm/pipeline/__init__.py -> /content/github/AMPL.build/ampl/bdist.linux-x86_64/wheel/atomsci/ddm/pipeline\n",
            "copying atomsci/ddm/pipeline/ave_splitter.py -> /content/github/AMPL.build/ampl/bdist.linux-x86_64/wheel/atomsci/ddm/pipeline\n",
            "copying atomsci/ddm/pipeline/featurization.py -> /content/github/AMPL.build/ampl/bdist.linux-x86_64/wheel/atomsci/ddm/pipeline\n",
            "copying atomsci/ddm/pipeline/model_wrapper.py -> /content/github/AMPL.build/ampl/bdist.linux-x86_64/wheel/atomsci/ddm/pipeline\n",
            "copying atomsci/ddm/pipeline/hyper_perf_plots.py -> /content/github/AMPL.build/ampl/bdist.linux-x86_64/wheel/atomsci/ddm/pipeline\n",
            "copying atomsci/ddm/pipeline/model_tracker.py -> /content/github/AMPL.build/ampl/bdist.linux-x86_64/wheel/atomsci/ddm/pipeline\n",
            "copying atomsci/ddm/pipeline/model_datasets.py -> /content/github/AMPL.build/ampl/bdist.linux-x86_64/wheel/atomsci/ddm/pipeline\n",
            "copying atomsci/ddm/pipeline/chem_diversity.py -> /content/github/AMPL.build/ampl/bdist.linux-x86_64/wheel/atomsci/ddm/pipeline\n",
            "copying atomsci/ddm/pipeline/diversity_plots.py -> /content/github/AMPL.build/ampl/bdist.linux-x86_64/wheel/atomsci/ddm/pipeline\n",
            "copying atomsci/ddm/pipeline/perf_data.py -> /content/github/AMPL.build/ampl/bdist.linux-x86_64/wheel/atomsci/ddm/pipeline\n",
            "copying atomsci/ddm/pipeline/parameter_parser.py -> /content/github/AMPL.build/ampl/bdist.linux-x86_64/wheel/atomsci/ddm/pipeline\n",
            "copying atomsci/ddm/pipeline/model_pipeline.py -> /content/github/AMPL.build/ampl/bdist.linux-x86_64/wheel/atomsci/ddm/pipeline\n",
            "copying atomsci/ddm/pipeline/perf_plots.py -> /content/github/AMPL.build/ampl/bdist.linux-x86_64/wheel/atomsci/ddm/pipeline\n",
            "copying atomsci/ddm/pipeline/dist_metrics.py -> /content/github/AMPL.build/ampl/bdist.linux-x86_64/wheel/atomsci/ddm/pipeline\n",
            "copying atomsci/ddm/pipeline/predict_from_model.py -> /content/github/AMPL.build/ampl/bdist.linux-x86_64/wheel/atomsci/ddm/pipeline\n",
            "copying atomsci/ddm/pipeline/temporal_splitter.py -> /content/github/AMPL.build/ampl/bdist.linux-x86_64/wheel/atomsci/ddm/pipeline\n",
            "copying atomsci/ddm/data/descriptor_sets_sources_by_descr_type.csv -> /content/github/AMPL.build/ampl/bdist.linux-x86_64/wheel/atomsci/ddm/data\n",
            "copying atomsci/ddm/utils/open-docs.py -> /content/github/AMPL.build/ampl/bdist.linux-x86_64/wheel/atomsci/ddm/utils\n",
            "copying atomsci/ddm/utils/rdkit_easy.py -> /content/github/AMPL.build/ampl/bdist.linux-x86_64/wheel/atomsci/ddm/utils\n",
            "copying atomsci/ddm/utils/struct_utils.py -> /content/github/AMPL.build/ampl/bdist.linux-x86_64/wheel/atomsci/ddm/utils\n",
            "copying atomsci/ddm/utils/__init__.py -> /content/github/AMPL.build/ampl/bdist.linux-x86_64/wheel/atomsci/ddm/utils\n",
            "copying atomsci/ddm/utils/curate_data.py -> /content/github/AMPL.build/ampl/bdist.linux-x86_64/wheel/atomsci/ddm/utils\n",
            "copying atomsci/ddm/utils/genTestset.py -> /content/github/AMPL.build/ampl/bdist.linux-x86_64/wheel/atomsci/ddm/utils\n",
            "copying atomsci/ddm/utils/datastore_functions.py -> /content/github/AMPL.build/ampl/bdist.linux-x86_64/wheel/atomsci/ddm/utils\n",
            "copying atomsci/ddm/utils/data_curation_functions.py -> /content/github/AMPL.build/ampl/bdist.linux-x86_64/wheel/atomsci/ddm/utils\n",
            "copying atomsci/ddm/utils/process_slurm.py -> /content/github/AMPL.build/ampl/bdist.linux-x86_64/wheel/atomsci/ddm/utils\n",
            "copying atomsci/ddm/utils/hyperparam_search_wrapper.py -> /content/github/AMPL.build/ampl/bdist.linux-x86_64/wheel/atomsci/ddm/utils\n",
            "copying atomsci/ddm/utils/pubchem_utils.py -> /content/github/AMPL.build/ampl/bdist.linux-x86_64/wheel/atomsci/ddm/utils\n",
            "copying atomsci/ddm/utils/llnl_utils.py -> /content/github/AMPL.build/ampl/bdist.linux-x86_64/wheel/atomsci/ddm/utils\n",
            "running install_egg_info\n",
            "Copying /content/github/AMPL.build/ampl/atomsci_ampl.egg-info to /content/github/AMPL.build/ampl/bdist.linux-x86_64/wheel/atomsci_ampl-1.0.0.dev1-py3.7.egg-info\n",
            "Installing /content/github/AMPL.build/ampl/bdist.linux-x86_64/wheel/atomsci_ampl-1.0.0.dev1-py3.7-nspkg.pth\n",
            "running install_scripts\n",
            "adding license file \"LICENSE\" (matched pattern \"LICEN[CS]E*\")\n",
            "adding license file \"NOTICE\" (matched pattern \"NOTICE*\")\n",
            "creating /content/github/AMPL.build/ampl/bdist.linux-x86_64/wheel/atomsci_ampl-1.0.0.dev1.dist-info/WHEEL\n",
            "creating '/content/github/AMPL.dist/atomsci_ampl-1.0.0.dev1-py3-none-any.whl' and adding '/content/github/AMPL.build/ampl/bdist.linux-x86_64/wheel' to it\n",
            "adding 'atomsci_ampl-1.0.0.dev1-py3.7-nspkg.pth'\n",
            "adding 'atomsci/ddm/__init__.py'\n",
            "adding 'atomsci/ddm/data/descriptor_sets_sources_by_descr_type.csv'\n",
            "adding 'atomsci/ddm/pipeline/__init__.py'\n",
            "adding 'atomsci/ddm/pipeline/ave_splitter.py'\n",
            "adding 'atomsci/ddm/pipeline/chem_diversity.py'\n",
            "adding 'atomsci/ddm/pipeline/compare_models.py'\n",
            "adding 'atomsci/ddm/pipeline/dist_metrics.py'\n",
            "adding 'atomsci/ddm/pipeline/diversity_plots.py'\n",
            "adding 'atomsci/ddm/pipeline/featurization.py'\n",
            "adding 'atomsci/ddm/pipeline/hyper_perf_plots.py'\n",
            "adding 'atomsci/ddm/pipeline/model_datasets.py'\n",
            "adding 'atomsci/ddm/pipeline/model_pipeline.py'\n",
            "adding 'atomsci/ddm/pipeline/model_tracker.py'\n",
            "adding 'atomsci/ddm/pipeline/model_wrapper.py'\n",
            "adding 'atomsci/ddm/pipeline/parameter_parser.py'\n",
            "adding 'atomsci/ddm/pipeline/perf_data.py'\n",
            "adding 'atomsci/ddm/pipeline/perf_plots.py'\n",
            "adding 'atomsci/ddm/pipeline/predict_from_model.py'\n",
            "adding 'atomsci/ddm/pipeline/splitting.py'\n",
            "adding 'atomsci/ddm/pipeline/temporal_splitter.py'\n",
            "adding 'atomsci/ddm/pipeline/transformations.py'\n",
            "adding 'atomsci/ddm/utils/__init__.py'\n",
            "adding 'atomsci/ddm/utils/curate_data.py'\n",
            "adding 'atomsci/ddm/utils/data_curation_functions.py'\n",
            "adding 'atomsci/ddm/utils/datastore_functions.py'\n",
            "adding 'atomsci/ddm/utils/genTestset.py'\n",
            "adding 'atomsci/ddm/utils/hyperparam_search_wrapper.py'\n",
            "adding 'atomsci/ddm/utils/llnl_utils.py'\n",
            "adding 'atomsci/ddm/utils/open-docs.py'\n",
            "adding 'atomsci/ddm/utils/process_slurm.py'\n",
            "adding 'atomsci/ddm/utils/pubchem_utils.py'\n",
            "adding 'atomsci/ddm/utils/rdkit_easy.py'\n",
            "adding 'atomsci/ddm/utils/struct_utils.py'\n",
            "adding 'atomsci_ampl-1.0.0.dev1.dist-info/LICENSE'\n",
            "adding 'atomsci_ampl-1.0.0.dev1.dist-info/METADATA'\n",
            "adding 'atomsci_ampl-1.0.0.dev1.dist-info/NOTICE'\n",
            "adding 'atomsci_ampl-1.0.0.dev1.dist-info/WHEEL'\n",
            "adding 'atomsci_ampl-1.0.0.dev1.dist-info/namespace_packages.txt'\n",
            "adding 'atomsci_ampl-1.0.0.dev1.dist-info/top_level.txt'\n",
            "adding 'atomsci_ampl-1.0.0.dev1.dist-info/RECORD'\n",
            "removing /content/github/AMPL.build/ampl/bdist.linux-x86_64/wheel\n",
            "DIR: /content/github/AMPL\n",
            "Ignoring indexes: https://pypi.org/simple\n",
            "Created temporary directory: /tmp/pip-ephem-wheel-cache-as0xj9oi\n",
            "Created temporary directory: /tmp/pip-req-tracker-yacpqteh\n",
            "Created requirements tracker '/tmp/pip-req-tracker-yacpqteh'\n",
            "Created temporary directory: /tmp/pip-install-cuwuucde\n",
            "Looking in links: /content/github/AMPL.dist\n",
            "Collecting atomsci_ampl\n",
            "  0 location(s) to search for versions of atomsci-ampl:\n",
            "  Skipping link: unsupported archive format: .dist: /content/github/AMPL.dist (from -f)\n",
            "  Found link file:///content/github/AMPL.dist/atomsci_ampl-1.0.0.dev1-py3-none-any.whl, version: 1.0.0.dev1\n",
            "  Local files found: /content/github/AMPL.dist/atomsci_ampl-1.0.0.dev1-py3-none-any.whl\n",
            "  Given no hashes to check 1 links for project 'atomsci-ampl': discarding no candidates\n",
            "  Using version 1.0.0.dev1 (newest of versions: 1.0.0.dev1)\n",
            "  Added atomsci_ampl from file:///content/github/AMPL.dist/atomsci_ampl-1.0.0.dev1-py3-none-any.whl to build tracker '/tmp/pip-req-tracker-yacpqteh'\n",
            "  Removed atomsci_ampl from file:///content/github/AMPL.dist/atomsci_ampl-1.0.0.dev1-py3-none-any.whl from build tracker '/tmp/pip-req-tracker-yacpqteh'\n",
            "Installing collected packages: atomsci-ampl\n",
            "\n",
            "Successfully installed atomsci-ampl-1.0.0.dev1\n",
            "Cleaning up...\n",
            "Removed build tracker '/tmp/pip-req-tracker-yacpqteh'\n"
          ],
          "name": "stdout"
        }
      ]
    },
    {
      "cell_type": "code",
      "metadata": {
        "colab": {
          "base_uri": "https://localhost:8080/"
        },
        "id": "2PO0-2HKvVpn",
        "outputId": "ea86e197-fac1-46d3-c4af-2c6bf7b26f63"
      },
      "source": [
        "!pip install hyperopt"
      ],
      "execution_count": 6,
      "outputs": [
        {
          "output_type": "stream",
          "text": [
            "Collecting hyperopt\n",
            "\u001b[?25l  Downloading https://files.pythonhosted.org/packages/a6/07/bd524635d218adae139be320eeac87fb4fbbd45c63b0bd58930c9e91f1fc/hyperopt-0.2.5-py2.py3-none-any.whl (965kB)\n",
            "\u001b[K     |████████████████████████████████| 972kB 4.5MB/s \n",
            "\u001b[?25hRequirement already satisfied: networkx>=2.2 in /usr/local/lib/python3.7/site-packages (from hyperopt) (2.3)\n",
            "Requirement already satisfied: numpy in /usr/local/lib/python3.7/site-packages (from hyperopt) (1.17.2)\n",
            "Requirement already satisfied: six in /usr/local/lib/python3.7/site-packages (from hyperopt) (1.12.0)\n",
            "Requirement already satisfied: cloudpickle in /usr/local/lib/python3.7/site-packages (from hyperopt) (1.2.2)\n",
            "Requirement already satisfied: future in /usr/local/lib/python3.7/site-packages (from hyperopt) (0.17.1)\n",
            "Requirement already satisfied: tqdm in /usr/local/lib/python3.7/site-packages (from hyperopt) (4.36.1)\n",
            "Requirement already satisfied: scipy in /usr/local/lib/python3.7/site-packages (from hyperopt) (1.3.1)\n",
            "Requirement already satisfied: decorator>=4.3.0 in /usr/local/lib/python3.7/site-packages (from networkx>=2.2->hyperopt) (4.4.0)\n",
            "Installing collected packages: hyperopt\n",
            "Successfully installed hyperopt-0.2.5\n"
          ],
          "name": "stdout"
        }
      ]
    },
    {
      "cell_type": "markdown",
      "metadata": {
        "id": "mTOwqhvR3xL3"
      },
      "source": [
        "### Load packages and dataset"
      ]
    },
    {
      "cell_type": "code",
      "metadata": {
        "id": "EeN9kEMO2R9Z",
        "colab": {
          "base_uri": "https://localhost:8080/"
        },
        "outputId": "6f2254aa-3e5f-4703-ec88-9aae0f5bbae8"
      },
      "source": [
        "import matplotlib.pyplot as plt\n",
        "import seaborn as sns\n",
        "import numpy as np\n",
        "sns.set_context(\"poster\")\n",
        "sns.set_style(\"whitegrid\")\n",
        "sns.set_palette(\"Set2\")\n",
        "\n",
        "import pandas as pd\n",
        "import os, json, sys, glob, pickle\n",
        "\n",
        "from atomsci.ddm.pipeline import model_pipeline as mp\n",
        "from atomsci.ddm.pipeline import parameter_parser as parse\n",
        "from atomsci.ddm.pipeline import perf_data\n",
        "\n",
        "from hyperopt import fmin, tpe, hp, Trials, STATUS_OK"
      ],
      "execution_count": 7,
      "outputs": [
        {
          "output_type": "stream",
          "text": [
            "/usr/local/lib/python3.7/dist-packages/sklearn/externals/joblib/__init__.py:15: FutureWarning: sklearn.externals.joblib is deprecated in 0.21 and will be removed in 0.23. Please import this functionality directly from joblib, which can be installed with: pip install joblib. If this warning is raised when loading pickled models, you may need to re-serialize those models with scikit-learn 0.21+.\n",
            "  warnings.warn(msg, category=FutureWarning)\n"
          ],
          "name": "stderr"
        },
        {
          "output_type": "stream",
          "text": [
            "WARNING:tensorflow:\n",
            "The TensorFlow contrib module will not be included in TensorFlow 2.0.\n",
            "For more information, please see:\n",
            "  * https://github.com/tensorflow/community/blob/master/rfcs/20180907-contrib-sunset.md\n",
            "  * https://github.com/tensorflow/addons\n",
            "  * https://github.com/tensorflow/io (for I/O related ops)\n",
            "If you depend on functionality not listed there, please file an issue.\n",
            "\n"
          ],
          "name": "stdout"
        }
      ]
    },
    {
      "cell_type": "code",
      "metadata": {
        "id": "8CA_3UrgOYy8"
      },
      "source": [
        "working_dir = '/content'"
      ],
      "execution_count": 8,
      "outputs": []
    },
    {
      "cell_type": "code",
      "metadata": {
        "id": "HU4kNFD3OY1X"
      },
      "source": [
        "import io\n",
        "import requests\n",
        "url = 'https://raw.githubusercontent.com/yr2387/E4511-2021-Rong/main/Data/merge.csv'\n",
        "#url = 'https://raw.githubusercontent.com/deepchem/deepchem/master/datasets/delaney-processed.csv'\n",
        "download = requests.get(url).content"
      ],
      "execution_count": 21,
      "outputs": []
    },
    {
      "cell_type": "code",
      "metadata": {
        "id": "LODLRlqWOY37"
      },
      "source": [
        "# Reading the downloaded content and turning it into a pandas dataframe\n",
        "df = pd.read_csv(io.StringIO(download.decode('utf-8')), sep=',', header=0,index_col= 0 )"
      ],
      "execution_count": 22,
      "outputs": []
    },
    {
      "cell_type": "code",
      "metadata": {
        "id": "v_fQuS473N1M",
        "colab": {
          "base_uri": "https://localhost:8080/",
          "height": 419
        },
        "outputId": "e0a57633-3774-4208-b416-c88f71e1b777"
      },
      "source": [
        "df"
      ],
      "execution_count": 11,
      "outputs": [
        {
          "output_type": "execute_result",
          "data": {
            "text/html": [
              "<div>\n",
              "<style scoped>\n",
              "    .dataframe tbody tr th:only-of-type {\n",
              "        vertical-align: middle;\n",
              "    }\n",
              "\n",
              "    .dataframe tbody tr th {\n",
              "        vertical-align: top;\n",
              "    }\n",
              "\n",
              "    .dataframe thead th {\n",
              "        text-align: right;\n",
              "    }\n",
              "</style>\n",
              "<table border=\"1\" class=\"dataframe\">\n",
              "  <thead>\n",
              "    <tr style=\"text-align: right;\">\n",
              "      <th></th>\n",
              "      <th>compound_id</th>\n",
              "      <th>base_rdkit_smiles</th>\n",
              "      <th>PXC50</th>\n",
              "      <th>active</th>\n",
              "      <th>VALUE_NUM_mean</th>\n",
              "      <th>VALUE_NUM_std</th>\n",
              "      <th>Perc_Var</th>\n",
              "      <th>Remove_BadDuplicate</th>\n",
              "    </tr>\n",
              "  </thead>\n",
              "  <tbody>\n",
              "    <tr>\n",
              "      <th>0</th>\n",
              "      <td>CHEMBL512967</td>\n",
              "      <td>CCC(=O)N(Cc1ccc(Cl)cc1Cl)[C@H]1CCNC1</td>\n",
              "      <td>7.22000</td>\n",
              "      <td>1</td>\n",
              "      <td>7.220925</td>\n",
              "      <td>0.001308</td>\n",
              "      <td>0.012810</td>\n",
              "      <td>0</td>\n",
              "    </tr>\n",
              "    <tr>\n",
              "      <th>1</th>\n",
              "      <td>CHEMBL4248596</td>\n",
              "      <td>COc1ccccc1N1CCN(CCCNC(=O)c2ccc(-c3ccccc3)cc2)CC1</td>\n",
              "      <td>5.30000</td>\n",
              "      <td>0</td>\n",
              "      <td>5.300000</td>\n",
              "      <td>NaN</td>\n",
              "      <td>0.000000</td>\n",
              "      <td>0</td>\n",
              "    </tr>\n",
              "    <tr>\n",
              "      <th>2</th>\n",
              "      <td>CHEMBL67203</td>\n",
              "      <td>c1ccc(CCCN2CCCC(CNCCOC(c3ccccc3)c3ccccc3)C2)cc1</td>\n",
              "      <td>7.01000</td>\n",
              "      <td>1</td>\n",
              "      <td>7.325000</td>\n",
              "      <td>0.445477</td>\n",
              "      <td>4.300341</td>\n",
              "      <td>0</td>\n",
              "    </tr>\n",
              "    <tr>\n",
              "      <th>3</th>\n",
              "      <td>CHEMBL497479</td>\n",
              "      <td>CNC[C@@H]1COc2ccccc2[C@@H]1Oc1ccccc1Cl</td>\n",
              "      <td>7.51000</td>\n",
              "      <td>1</td>\n",
              "      <td>7.550000</td>\n",
              "      <td>0.056569</td>\n",
              "      <td>0.529801</td>\n",
              "      <td>0</td>\n",
              "    </tr>\n",
              "    <tr>\n",
              "      <th>4</th>\n",
              "      <td>CHEMBL4226362</td>\n",
              "      <td>CN(C)C[C@]1(c2ccc(Cl)c(Cl)c2)CC[C@@](C)(O)CC1</td>\n",
              "      <td>8.20500</td>\n",
              "      <td>1</td>\n",
              "      <td>8.205000</td>\n",
              "      <td>NaN</td>\n",
              "      <td>0.000000</td>\n",
              "      <td>0</td>\n",
              "    </tr>\n",
              "    <tr>\n",
              "      <th>...</th>\n",
              "      <td>...</td>\n",
              "      <td>...</td>\n",
              "      <td>...</td>\n",
              "      <td>...</td>\n",
              "      <td>...</td>\n",
              "      <td>...</td>\n",
              "      <td>...</td>\n",
              "      <td>...</td>\n",
              "    </tr>\n",
              "    <tr>\n",
              "      <th>4615</th>\n",
              "      <td>CHEMBL594388</td>\n",
              "      <td>CN1C2CCC1[C@@H](C(=O)N[C@H]1CC[C@H](NC(=O)[C@H...</td>\n",
              "      <td>5.30000</td>\n",
              "      <td>1</td>\n",
              "      <td>5.300000</td>\n",
              "      <td>NaN</td>\n",
              "      <td>0.000000</td>\n",
              "      <td>0</td>\n",
              "    </tr>\n",
              "    <tr>\n",
              "      <th>4616</th>\n",
              "      <td>CHEMBL607547</td>\n",
              "      <td>CN1C2CCC1[C@@H](C(=O)NCc1ccc(CCNC(=O)[C@H]3C4C...</td>\n",
              "      <td>5.89000</td>\n",
              "      <td>1</td>\n",
              "      <td>5.890000</td>\n",
              "      <td>NaN</td>\n",
              "      <td>0.000000</td>\n",
              "      <td>0</td>\n",
              "    </tr>\n",
              "    <tr>\n",
              "      <th>4617</th>\n",
              "      <td>46226549</td>\n",
              "      <td>CN1C2CCC1[C@@H](C(=O)NCCCCCCCCCCNC(=O)[C@H]1C3...</td>\n",
              "      <td>5.82391</td>\n",
              "      <td>1</td>\n",
              "      <td>5.823910</td>\n",
              "      <td>NaN</td>\n",
              "      <td>0.000000</td>\n",
              "      <td>0</td>\n",
              "    </tr>\n",
              "    <tr>\n",
              "      <th>4618</th>\n",
              "      <td>CHEMBL595767</td>\n",
              "      <td>CN1C2CCC1[C@@H](C(=O)NCc1ccc(CNC(=O)[C@H]3C4CC...</td>\n",
              "      <td>6.21000</td>\n",
              "      <td>1</td>\n",
              "      <td>6.210000</td>\n",
              "      <td>NaN</td>\n",
              "      <td>0.000000</td>\n",
              "      <td>0</td>\n",
              "    </tr>\n",
              "    <tr>\n",
              "      <th>4619</th>\n",
              "      <td>CHEMBL611963</td>\n",
              "      <td>CN1C2CCC1[C@@H](C(=O)Nc1ccc(CNC(=O)[C@H]3C4CCC...</td>\n",
              "      <td>5.57000</td>\n",
              "      <td>1</td>\n",
              "      <td>5.570000</td>\n",
              "      <td>NaN</td>\n",
              "      <td>0.000000</td>\n",
              "      <td>0</td>\n",
              "    </tr>\n",
              "  </tbody>\n",
              "</table>\n",
              "<p>3120 rows × 8 columns</p>\n",
              "</div>"
            ],
            "text/plain": [
              "        compound_id  ... Remove_BadDuplicate\n",
              "0      CHEMBL512967  ...                   0\n",
              "1     CHEMBL4248596  ...                   0\n",
              "2       CHEMBL67203  ...                   0\n",
              "3      CHEMBL497479  ...                   0\n",
              "4     CHEMBL4226362  ...                   0\n",
              "...             ...  ...                 ...\n",
              "4615   CHEMBL594388  ...                   0\n",
              "4616   CHEMBL607547  ...                   0\n",
              "4617       46226549  ...                   0\n",
              "4618   CHEMBL595767  ...                   0\n",
              "4619   CHEMBL611963  ...                   0\n",
              "\n",
              "[3120 rows x 8 columns]"
            ]
          },
          "metadata": {
            "tags": []
          },
          "execution_count": 11
        }
      ]
    },
    {
      "cell_type": "code",
      "metadata": {
        "colab": {
          "base_uri": "https://localhost:8080/",
          "height": 49
        },
        "id": "6UY1KFjqiNFT",
        "outputId": "c0466711-8801-4a2f-cf40-9ba4d122f294"
      },
      "source": [
        "df[df.compound_id.duplicated(keep=False)==True].sort_values(by='compound_id')"
      ],
      "execution_count": 12,
      "outputs": [
        {
          "output_type": "execute_result",
          "data": {
            "text/html": [
              "<div>\n",
              "<style scoped>\n",
              "    .dataframe tbody tr th:only-of-type {\n",
              "        vertical-align: middle;\n",
              "    }\n",
              "\n",
              "    .dataframe tbody tr th {\n",
              "        vertical-align: top;\n",
              "    }\n",
              "\n",
              "    .dataframe thead th {\n",
              "        text-align: right;\n",
              "    }\n",
              "</style>\n",
              "<table border=\"1\" class=\"dataframe\">\n",
              "  <thead>\n",
              "    <tr style=\"text-align: right;\">\n",
              "      <th></th>\n",
              "      <th>compound_id</th>\n",
              "      <th>base_rdkit_smiles</th>\n",
              "      <th>PXC50</th>\n",
              "      <th>active</th>\n",
              "      <th>VALUE_NUM_mean</th>\n",
              "      <th>VALUE_NUM_std</th>\n",
              "      <th>Perc_Var</th>\n",
              "      <th>Remove_BadDuplicate</th>\n",
              "    </tr>\n",
              "  </thead>\n",
              "  <tbody>\n",
              "  </tbody>\n",
              "</table>\n",
              "</div>"
            ],
            "text/plain": [
              "Empty DataFrame\n",
              "Columns: [compound_id, base_rdkit_smiles, PXC50, active, VALUE_NUM_mean, VALUE_NUM_std, Perc_Var, Remove_BadDuplicate]\n",
              "Index: []"
            ]
          },
          "metadata": {
            "tags": []
          },
          "execution_count": 12
        }
      ]
    },
    {
      "cell_type": "code",
      "metadata": {
        "colab": {
          "base_uri": "https://localhost:8080/",
          "height": 419
        },
        "id": "TzqO3SV7iNH5",
        "outputId": "2b30613c-19da-4fc8-e6fd-1575191ca755"
      },
      "source": [
        "df_grouped = df.groupby('compound_id', as_index=False)['VALUE_NUM_mean'].mean()\n",
        "df_grouped"
      ],
      "execution_count": 13,
      "outputs": [
        {
          "output_type": "execute_result",
          "data": {
            "text/html": [
              "<div>\n",
              "<style scoped>\n",
              "    .dataframe tbody tr th:only-of-type {\n",
              "        vertical-align: middle;\n",
              "    }\n",
              "\n",
              "    .dataframe tbody tr th {\n",
              "        vertical-align: top;\n",
              "    }\n",
              "\n",
              "    .dataframe thead th {\n",
              "        text-align: right;\n",
              "    }\n",
              "</style>\n",
              "<table border=\"1\" class=\"dataframe\">\n",
              "  <thead>\n",
              "    <tr style=\"text-align: right;\">\n",
              "      <th></th>\n",
              "      <th>compound_id</th>\n",
              "      <th>VALUE_NUM_mean</th>\n",
              "    </tr>\n",
              "  </thead>\n",
              "  <tbody>\n",
              "    <tr>\n",
              "      <th>0</th>\n",
              "      <td>10062443</td>\n",
              "      <td>6.57025</td>\n",
              "    </tr>\n",
              "    <tr>\n",
              "      <th>1</th>\n",
              "      <td>10062560</td>\n",
              "      <td>6.43180</td>\n",
              "    </tr>\n",
              "    <tr>\n",
              "      <th>2</th>\n",
              "      <td>10084648</td>\n",
              "      <td>7.21467</td>\n",
              "    </tr>\n",
              "    <tr>\n",
              "      <th>3</th>\n",
              "      <td>10090352</td>\n",
              "      <td>8.16115</td>\n",
              "    </tr>\n",
              "    <tr>\n",
              "      <th>4</th>\n",
              "      <td>10110820</td>\n",
              "      <td>6.15490</td>\n",
              "    </tr>\n",
              "    <tr>\n",
              "      <th>...</th>\n",
              "      <td>...</td>\n",
              "      <td>...</td>\n",
              "    </tr>\n",
              "    <tr>\n",
              "      <th>3115</th>\n",
              "      <td>CHEMBL960</td>\n",
              "      <td>5.33500</td>\n",
              "    </tr>\n",
              "    <tr>\n",
              "      <th>3116</th>\n",
              "      <td>CHEMBL964</td>\n",
              "      <td>4.15500</td>\n",
              "    </tr>\n",
              "    <tr>\n",
              "      <th>3117</th>\n",
              "      <td>CHEMBL990</td>\n",
              "      <td>5.41000</td>\n",
              "    </tr>\n",
              "    <tr>\n",
              "      <th>3118</th>\n",
              "      <td>CHEMBL99653</td>\n",
              "      <td>7.59000</td>\n",
              "    </tr>\n",
              "    <tr>\n",
              "      <th>3119</th>\n",
              "      <td>CHEMBL99946</td>\n",
              "      <td>7.40000</td>\n",
              "    </tr>\n",
              "  </tbody>\n",
              "</table>\n",
              "<p>3120 rows × 2 columns</p>\n",
              "</div>"
            ],
            "text/plain": [
              "      compound_id  VALUE_NUM_mean\n",
              "0        10062443         6.57025\n",
              "1        10062560         6.43180\n",
              "2        10084648         7.21467\n",
              "3        10090352         8.16115\n",
              "4        10110820         6.15490\n",
              "...           ...             ...\n",
              "3115    CHEMBL960         5.33500\n",
              "3116    CHEMBL964         4.15500\n",
              "3117    CHEMBL990         5.41000\n",
              "3118  CHEMBL99653         7.59000\n",
              "3119  CHEMBL99946         7.40000\n",
              "\n",
              "[3120 rows x 2 columns]"
            ]
          },
          "metadata": {
            "tags": []
          },
          "execution_count": 13
        }
      ]
    },
    {
      "cell_type": "code",
      "metadata": {
        "id": "j50WrGy1iNLS"
      },
      "source": [
        "df_dedup = df.drop_duplicates('compound_id')\n",
        "df_avg = df_dedup.merge(df_grouped, left_on='compound_id', right_on='compound_id')"
      ],
      "execution_count": 17,
      "outputs": []
    },
    {
      "cell_type": "code",
      "metadata": {
        "colab": {
          "base_uri": "https://localhost:8080/",
          "height": 419
        },
        "id": "2sA9Fq7liNNP",
        "outputId": "e8f87818-4ee1-4eba-b1ec-64bc9cfb1f01"
      },
      "source": [
        "df_avg.drop('VALUE_NUM_mean_x', axis=1, inplace=True)\n",
        "df_avg.rename(columns={'VALUE_NUM_mean_y': 'VALUE_NUM_mean'}, inplace=True)\n",
        "df_avg"
      ],
      "execution_count": 18,
      "outputs": [
        {
          "output_type": "execute_result",
          "data": {
            "text/html": [
              "<div>\n",
              "<style scoped>\n",
              "    .dataframe tbody tr th:only-of-type {\n",
              "        vertical-align: middle;\n",
              "    }\n",
              "\n",
              "    .dataframe tbody tr th {\n",
              "        vertical-align: top;\n",
              "    }\n",
              "\n",
              "    .dataframe thead th {\n",
              "        text-align: right;\n",
              "    }\n",
              "</style>\n",
              "<table border=\"1\" class=\"dataframe\">\n",
              "  <thead>\n",
              "    <tr style=\"text-align: right;\">\n",
              "      <th></th>\n",
              "      <th>compound_id</th>\n",
              "      <th>base_rdkit_smiles</th>\n",
              "      <th>PXC50</th>\n",
              "      <th>active</th>\n",
              "      <th>VALUE_NUM_std</th>\n",
              "      <th>Perc_Var</th>\n",
              "      <th>Remove_BadDuplicate</th>\n",
              "      <th>VALUE_NUM_mean</th>\n",
              "    </tr>\n",
              "  </thead>\n",
              "  <tbody>\n",
              "    <tr>\n",
              "      <th>0</th>\n",
              "      <td>CHEMBL512967</td>\n",
              "      <td>CCC(=O)N(Cc1ccc(Cl)cc1Cl)[C@H]1CCNC1</td>\n",
              "      <td>7.22000</td>\n",
              "      <td>1</td>\n",
              "      <td>0.001308</td>\n",
              "      <td>0.012810</td>\n",
              "      <td>0</td>\n",
              "      <td>7.220925</td>\n",
              "    </tr>\n",
              "    <tr>\n",
              "      <th>1</th>\n",
              "      <td>CHEMBL4248596</td>\n",
              "      <td>COc1ccccc1N1CCN(CCCNC(=O)c2ccc(-c3ccccc3)cc2)CC1</td>\n",
              "      <td>5.30000</td>\n",
              "      <td>0</td>\n",
              "      <td>NaN</td>\n",
              "      <td>0.000000</td>\n",
              "      <td>0</td>\n",
              "      <td>5.300000</td>\n",
              "    </tr>\n",
              "    <tr>\n",
              "      <th>2</th>\n",
              "      <td>CHEMBL67203</td>\n",
              "      <td>c1ccc(CCCN2CCCC(CNCCOC(c3ccccc3)c3ccccc3)C2)cc1</td>\n",
              "      <td>7.01000</td>\n",
              "      <td>1</td>\n",
              "      <td>0.445477</td>\n",
              "      <td>4.300341</td>\n",
              "      <td>0</td>\n",
              "      <td>7.325000</td>\n",
              "    </tr>\n",
              "    <tr>\n",
              "      <th>3</th>\n",
              "      <td>CHEMBL497479</td>\n",
              "      <td>CNC[C@@H]1COc2ccccc2[C@@H]1Oc1ccccc1Cl</td>\n",
              "      <td>7.51000</td>\n",
              "      <td>1</td>\n",
              "      <td>0.056569</td>\n",
              "      <td>0.529801</td>\n",
              "      <td>0</td>\n",
              "      <td>7.550000</td>\n",
              "    </tr>\n",
              "    <tr>\n",
              "      <th>4</th>\n",
              "      <td>CHEMBL4226362</td>\n",
              "      <td>CN(C)C[C@]1(c2ccc(Cl)c(Cl)c2)CC[C@@](C)(O)CC1</td>\n",
              "      <td>8.20500</td>\n",
              "      <td>1</td>\n",
              "      <td>NaN</td>\n",
              "      <td>0.000000</td>\n",
              "      <td>0</td>\n",
              "      <td>8.205000</td>\n",
              "    </tr>\n",
              "    <tr>\n",
              "      <th>...</th>\n",
              "      <td>...</td>\n",
              "      <td>...</td>\n",
              "      <td>...</td>\n",
              "      <td>...</td>\n",
              "      <td>...</td>\n",
              "      <td>...</td>\n",
              "      <td>...</td>\n",
              "      <td>...</td>\n",
              "    </tr>\n",
              "    <tr>\n",
              "      <th>3115</th>\n",
              "      <td>CHEMBL594388</td>\n",
              "      <td>CN1C2CCC1[C@@H](C(=O)N[C@H]1CC[C@H](NC(=O)[C@H...</td>\n",
              "      <td>5.30000</td>\n",
              "      <td>1</td>\n",
              "      <td>NaN</td>\n",
              "      <td>0.000000</td>\n",
              "      <td>0</td>\n",
              "      <td>5.300000</td>\n",
              "    </tr>\n",
              "    <tr>\n",
              "      <th>3116</th>\n",
              "      <td>CHEMBL607547</td>\n",
              "      <td>CN1C2CCC1[C@@H](C(=O)NCc1ccc(CCNC(=O)[C@H]3C4C...</td>\n",
              "      <td>5.89000</td>\n",
              "      <td>1</td>\n",
              "      <td>NaN</td>\n",
              "      <td>0.000000</td>\n",
              "      <td>0</td>\n",
              "      <td>5.890000</td>\n",
              "    </tr>\n",
              "    <tr>\n",
              "      <th>3117</th>\n",
              "      <td>46226549</td>\n",
              "      <td>CN1C2CCC1[C@@H](C(=O)NCCCCCCCCCCNC(=O)[C@H]1C3...</td>\n",
              "      <td>5.82391</td>\n",
              "      <td>1</td>\n",
              "      <td>NaN</td>\n",
              "      <td>0.000000</td>\n",
              "      <td>0</td>\n",
              "      <td>5.823910</td>\n",
              "    </tr>\n",
              "    <tr>\n",
              "      <th>3118</th>\n",
              "      <td>CHEMBL595767</td>\n",
              "      <td>CN1C2CCC1[C@@H](C(=O)NCc1ccc(CNC(=O)[C@H]3C4CC...</td>\n",
              "      <td>6.21000</td>\n",
              "      <td>1</td>\n",
              "      <td>NaN</td>\n",
              "      <td>0.000000</td>\n",
              "      <td>0</td>\n",
              "      <td>6.210000</td>\n",
              "    </tr>\n",
              "    <tr>\n",
              "      <th>3119</th>\n",
              "      <td>CHEMBL611963</td>\n",
              "      <td>CN1C2CCC1[C@@H](C(=O)Nc1ccc(CNC(=O)[C@H]3C4CCC...</td>\n",
              "      <td>5.57000</td>\n",
              "      <td>1</td>\n",
              "      <td>NaN</td>\n",
              "      <td>0.000000</td>\n",
              "      <td>0</td>\n",
              "      <td>5.570000</td>\n",
              "    </tr>\n",
              "  </tbody>\n",
              "</table>\n",
              "<p>3120 rows × 8 columns</p>\n",
              "</div>"
            ],
            "text/plain": [
              "        compound_id  ... VALUE_NUM_mean\n",
              "0      CHEMBL512967  ...       7.220925\n",
              "1     CHEMBL4248596  ...       5.300000\n",
              "2       CHEMBL67203  ...       7.325000\n",
              "3      CHEMBL497479  ...       7.550000\n",
              "4     CHEMBL4226362  ...       8.205000\n",
              "...             ...  ...            ...\n",
              "3115   CHEMBL594388  ...       5.300000\n",
              "3116   CHEMBL607547  ...       5.890000\n",
              "3117       46226549  ...       5.823910\n",
              "3118   CHEMBL595767  ...       6.210000\n",
              "3119   CHEMBL611963  ...       5.570000\n",
              "\n",
              "[3120 rows x 8 columns]"
            ]
          },
          "metadata": {
            "tags": []
          },
          "execution_count": 18
        }
      ]
    },
    {
      "cell_type": "code",
      "metadata": {
        "id": "ZLcHR6h-kOUo"
      },
      "source": [
        "df.to_csv('merge1.csv')"
      ],
      "execution_count": 26,
      "outputs": []
    },
    {
      "cell_type": "markdown",
      "metadata": {
        "id": "XA8ARleo3h53"
      },
      "source": [
        "### Split the dataset"
      ]
    },
    {
      "cell_type": "code",
      "metadata": {
        "id": "1eQC31_fA2wD",
        "colab": {
          "base_uri": "https://localhost:8080/"
        },
        "outputId": "3d27b93b-0547-48ce-98e1-ff9e73934c18"
      },
      "source": [
        "featurizer = 'ecfp' \n",
        "model_type = 'RF'\n",
        "response_col = ['VALUE_NUM_mean']\n",
        "smiles_col = 'base_rdkit_smiles'\n",
        "compound_id = 'compound_id'\n",
        "train_file = \"merge1.csv\"\n",
        "params = {\n",
        "        \"system\": \"LC\",\n",
        "        \"lc_account\": 'None',\n",
        "        \"datastore\": \"False\",   #Boolean flag for using an input file from the LLNL specific datastore system based on a key of dataset_key\n",
        "        \"save_results\": \"False\", # Save model results to MongoDB,\n",
        "        \"prediction_type\": \"regression\",\n",
        "        \"dataset_key\": train_file,\n",
        "        \"id_col\": compound_id,\n",
        "        \"smiles_col\": smiles_col,\n",
        "        \"response_cols\": response_col,\n",
        "        \"previously_split\": \"False\",  # Boolean flag for loading in previously split train, validation, and test csv files\n",
        "        \"split_only\": \"True\",   # indicate splitting of the datasets when running the hyperparameter search\n",
        "        'split_stategy':'train_valid_test',\n",
        "        \"featurizer\": \"ecfp\",\n",
        "        \"model_type\": \"RF\",\n",
        "        \"verbose\": \"True\",\n",
        "        \"transformers\": \"True\",\n",
        "        'max_epochs': '70',\n",
        "        \"rerun\": \"False\",\n",
        "        \"result_dir\": working_dir\n",
        "    }\n",
        "\n",
        "ampl_param = parse.wrapper(params)\n",
        "pl = mp.ModelPipeline(ampl_param)\n",
        "pl.train_model()"
      ],
      "execution_count": 27,
      "outputs": [
        {
          "output_type": "stream",
          "text": [
            "2021-04-03 21:09:28,081 ['split_stategy'] are not part of the accepted list of parameters and will be ignored\n",
            "2021-04-03 21:09:39,693 Splitting data by scaffold\n"
          ],
          "name": "stderr"
        },
        {
          "output_type": "stream",
          "text": [
            "number of features: 1024\n"
          ],
          "name": "stdout"
        },
        {
          "output_type": "stream",
          "text": [
            "2021-04-03 21:09:41,490 Dataset split table saved to /merge1_train_valid_test_scaffold_3db12c70-7d5b-442f-96c3-8c5b5b569fae.csv\n"
          ],
          "name": "stderr"
        }
      ]
    },
    {
      "cell_type": "code",
      "metadata": {
        "id": "-eR5zCOzkfq9"
      },
      "source": [
        ""
      ],
      "execution_count": null,
      "outputs": []
    },
    {
      "cell_type": "code",
      "metadata": {
        "id": "3jwQhvIUkfuT"
      },
      "source": [
        ""
      ],
      "execution_count": null,
      "outputs": []
    },
    {
      "cell_type": "code",
      "metadata": {
        "id": "oLcOOxMIkfwX"
      },
      "source": [
        ""
      ],
      "execution_count": null,
      "outputs": []
    },
    {
      "cell_type": "code",
      "metadata": {
        "id": "V3iGRijGkfy0"
      },
      "source": [
        ""
      ],
      "execution_count": null,
      "outputs": []
    },
    {
      "cell_type": "markdown",
      "metadata": {
        "id": "xSdgxZNU43TM"
      },
      "source": [
        "### Train an initial model"
      ]
    },
    {
      "cell_type": "code",
      "metadata": {
        "id": "IjhIVGpJ42eE"
      },
      "source": [
        "listing = glob.glob(os.path.join(\"/\", \"merge1_train_valid_test_scaffold_*\"))\n",
        "name = listing[0]\n",
        "split_uuid = name.split(\"_\")[-1].split(\".\")[0]\n",
        "response_col = \"VALUE_NUM_mean\"\n",
        "# default : rf_estimators=500, rf_max_features = 32\n",
        "params = {\n",
        "        \"system\": \"LC\",\n",
        "        \"lc_account\": 'None',\n",
        "        \"datastore\": \"False\",\n",
        "        \"save_results\": \"False\",\n",
        "        \"data_owner\": \"username\",\n",
        "        \"prediction_type\": \"regression\",\n",
        "        \"dataset_key\": train_file,\n",
        "        \"id_col\": compound_id,\n",
        "        \"smiles_col\": smiles_col,\n",
        "        \"response_cols\": response_col,\n",
        "        \"split_uuid\": split_uuid,   # UUID for csv file containing train, validation, and test split information\n",
        "        \"previously_split\": \"True\",\n",
        "        \"featurizer\": \"ecfp\",\n",
        "        \"model_type\": \"RF\",\n",
        "        \"verbose\": \"True\",\n",
        "        \"transformers\": \"True\",\n",
        "        'max_epochs': '70',\n",
        "        \"rerun\": \"False\",\n",
        "        \"result_dir\": \"ampl_output\"\n",
        "    }"
      ],
      "execution_count": 31,
      "outputs": []
    },
    {
      "cell_type": "code",
      "metadata": {
        "id": "qjbLbmri5Rhl",
        "colab": {
          "base_uri": "https://localhost:8080/"
        },
        "outputId": "87f4af25-11ee-49f2-c45b-42de094b7704"
      },
      "source": [
        "ampl_param = parse.wrapper(params)\n",
        "pl = mp.ModelPipeline(ampl_param)\n",
        "pl.train_model()"
      ],
      "execution_count": 32,
      "outputs": [
        {
          "output_type": "stream",
          "text": [
            "number of features: 1024\n"
          ],
          "name": "stdout"
        },
        {
          "output_type": "stream",
          "text": [
            "2021-04-03 21:11:19,697 Previous dataset split restored\n"
          ],
          "name": "stderr"
        },
        {
          "output_type": "stream",
          "text": [
            "n_cnt [3119.]\n",
            "y_means [6.72793403]\n",
            "y_stds [1.18825005]\n",
            "TIMING: dataset construction took 0.116 s\n",
            "Loading dataset from disk.\n",
            "TIMING: dataset construction took 0.019 s\n",
            "Loading dataset from disk.\n",
            "TIMING: dataset construction took 0.018 s\n",
            "Loading dataset from disk.\n"
          ],
          "name": "stdout"
        },
        {
          "output_type": "stream",
          "text": [
            "2021-04-03 21:11:26,214 Wrote model metadata to file ampl_output/merge1/RF_ecfp_scaffold_regression/1a99a214-de1f-4546-adc7-73858d1f2a43/model_metadata.json\n",
            "2021-04-03 21:11:27,143 Wrote model metrics to file ampl_output/merge1/RF_ecfp_scaffold_regression/1a99a214-de1f-4546-adc7-73858d1f2a43/model_metrics.json\n"
          ],
          "name": "stderr"
        },
        {
          "output_type": "stream",
          "text": [
            "Wrote model tarball to ampl_output/merge1_model_1a99a214-de1f-4546-adc7-73858d1f2a43.tar.gz\n"
          ],
          "name": "stdout"
        }
      ]
    },
    {
      "cell_type": "code",
      "metadata": {
        "id": "ol3jooPm5Yd0",
        "colab": {
          "base_uri": "https://localhost:8080/"
        },
        "outputId": "c20e7d4d-becb-4525-df5f-bfa30c1607bd"
      },
      "source": [
        "pred_data = pl.model_wrapper.get_perf_data(subset=\"valid\", epoch_label=\"best\")\n",
        "pred_results = pred_data.get_prediction_results()\n",
        "print(f\"R2 score of validation set: {pred_results['r2_score']:.3f}\")"
      ],
      "execution_count": 33,
      "outputs": [
        {
          "output_type": "stream",
          "text": [
            "R2 score of validation set: 0.546\n"
          ],
          "name": "stdout"
        }
      ]
    },
    {
      "cell_type": "code",
      "metadata": {
        "colab": {
          "base_uri": "https://localhost:8080/"
        },
        "id": "ny-5frjNk5-E",
        "outputId": "72f2043f-ceaa-47ef-81fd-d5dbb1722f67"
      },
      "source": [
        "pred_data = pl.model_wrapper.get_perf_data(subset=\"full\", epoch_label=\"best\")\n",
        "pred_results = pred_data.get_prediction_results()\n",
        "print(f\"R2 score of test set: {pred_results['r2_score']:.3f}\")"
      ],
      "execution_count": 34,
      "outputs": [
        {
          "output_type": "stream",
          "text": [
            "R2 score of test set: -30.930\n"
          ],
          "name": "stdout"
        }
      ]
    },
    {
      "cell_type": "markdown",
      "metadata": {
        "id": "vJ2mT3kfi_ed"
      },
      "source": [
        "### Train an model with uncertainty prediction"
      ]
    },
    {
      "cell_type": "code",
      "metadata": {
        "id": "WKUZYCUDi_en"
      },
      "source": [
        "listing = glob.glob(os.path.join(\"/\", \"merge1_train_valid_test_scaffold_*\"))\n",
        "name = listing[0]\n",
        "split_uuid = name.split(\"_\")[-1].split(\".\")[0]\n",
        "response_col = \"VALUE_NUM_mean\"\n",
        "\n",
        "params = {\n",
        "        \"system\": \"LC\",\n",
        "        \"lc_account\": 'None',\n",
        "        \"datastore\": \"False\",\n",
        "        \"save_results\": \"False\",\n",
        "        \"data_owner\": \"username\",\n",
        "        \"prediction_type\": \"regression\",\n",
        "        \"dataset_key\": train_file,\n",
        "        \"id_col\": compound_id,\n",
        "        \"smiles_col\": smiles_col,\n",
        "        \"response_cols\": response_col,\n",
        "        \"split_uuid\": split_uuid,\n",
        "        \"previously_split\": \"True\",\n",
        "        \"featurizer\": \"ecfp\",\n",
        "        \"model_type\": \"RF\",       #Random forest\n",
        "        \"verbose\": \"True\",\n",
        "        \"transformers\": \"True\",\n",
        "        'max_epochs': '70',      # Maximum number of training epochs to run for DNN models. Default 30.\n",
        "        \"rerun\": \"False\",\n",
        "        \"result_dir\": \"ampl_output\",\n",
        "        \"uncertainty\": \"True\"  # Boolean flag for computing uncertainty estimates for regression model predictions. \n",
        "    }"
      ],
      "execution_count": 35,
      "outputs": []
    },
    {
      "cell_type": "code",
      "metadata": {
        "id": "zwSTjKBei_eo",
        "colab": {
          "base_uri": "https://localhost:8080/"
        },
        "outputId": "133b5ff3-edb9-4374-957c-93485609f84d"
      },
      "source": [
        "ampl_param = parse.wrapper(params)\n",
        "pl = mp.ModelPipeline(ampl_param)\n",
        "pl.train_model()"
      ],
      "execution_count": 36,
      "outputs": [
        {
          "output_type": "stream",
          "text": [
            "number of features: 1024\n"
          ],
          "name": "stdout"
        },
        {
          "output_type": "stream",
          "text": [
            "2021-04-03 21:12:43,301 Previous dataset split restored\n"
          ],
          "name": "stderr"
        },
        {
          "output_type": "stream",
          "text": [
            "n_cnt [3119.]\n",
            "y_means [6.72793403]\n",
            "y_stds [1.18825005]\n",
            "TIMING: dataset construction took 0.115 s\n",
            "Loading dataset from disk.\n",
            "TIMING: dataset construction took 0.019 s\n",
            "Loading dataset from disk.\n",
            "TIMING: dataset construction took 0.017 s\n",
            "Loading dataset from disk.\n"
          ],
          "name": "stdout"
        },
        {
          "output_type": "stream",
          "text": [
            "2021-04-03 21:12:49,733 Wrote model metadata to file ampl_output/merge1/RF_ecfp_scaffold_regression/68bbd0dc-c378-4d47-96db-650169b860dd/model_metadata.json\n",
            "2021-04-03 21:12:50,662 Wrote model metrics to file ampl_output/merge1/RF_ecfp_scaffold_regression/68bbd0dc-c378-4d47-96db-650169b860dd/model_metrics.json\n"
          ],
          "name": "stderr"
        },
        {
          "output_type": "stream",
          "text": [
            "Wrote model tarball to ampl_output/merge1_model_68bbd0dc-c378-4d47-96db-650169b860dd.tar.gz\n"
          ],
          "name": "stdout"
        }
      ]
    },
    {
      "cell_type": "code",
      "metadata": {
        "id": "wy8fLhm9i_eo",
        "colab": {
          "base_uri": "https://localhost:8080/"
        },
        "outputId": "bf0dc4fb-8aa5-438b-837b-96631b34e7e2"
      },
      "source": [
        "pred_data = pl.model_wrapper.get_perf_data(subset=\"valid\", epoch_label=\"best\")\n",
        "pred_results = pred_data.get_prediction_results()\n",
        "print(f\"R2 score of validation set: {pred_results['r2_score']:.3f}\")"
      ],
      "execution_count": 37,
      "outputs": [
        {
          "output_type": "stream",
          "text": [
            "R2 score of validation set: 0.541\n"
          ],
          "name": "stdout"
        }
      ]
    },
    {
      "cell_type": "markdown",
      "metadata": {
        "id": "pKP_mFuB5giz"
      },
      "source": [
        "### Grid search\n",
        "#### Tunable parameters for Random Forest models\n",
        "- rf_estimators: number of estimators to use in random forest models\n",
        "- rf_max_depth: the maximum depth of a decision tree in the random forest\n",
        "- rf_max_features: max number of features to split random forest nodes"
      ]
    },
    {
      "cell_type": "code",
      "metadata": {
        "id": "i6FBeUGh5mGJ",
        "colab": {
          "base_uri": "https://localhost:8080/"
        },
        "outputId": "1b469526-9a47-4fbd-e297-efa8fd121826"
      },
      "source": [
        "param_choice = [16,32,64,128]\n",
        "\n",
        "rfe_list = []\n",
        "rfd_list = []\n",
        "rff_list = []\n",
        "valid_r2_list = []\n",
        "for rf_estimator in param_choice:\n",
        "    for rf_depth in param_choice:\n",
        "        for rf_feature in param_choice:\n",
        "            params[\"rf_estimators\"] = rf_estimator\n",
        "            params[\"rf_max_depth\"] = rf_depth\n",
        "            params[\"rf_max_features\"] = rf_feature\n",
        "            rfe_list.append(rf_estimator)\n",
        "            rfd_list.append(rf_depth)\n",
        "            rff_list.append(rf_feature)\n",
        "            tp = parse.wrapper(params)\n",
        "            pl = mp.ModelPipeline(tp)\n",
        "            pl.train_model()\n",
        "            pred_data = pl.model_wrapper.get_perf_data(subset=\"valid\", epoch_label=\"best\")\n",
        "            pred_results = pred_data.get_prediction_results()\n",
        "            valid_r2 = pred_results['r2_score']\n",
        "            valid_r2_list.append(valid_r2)\n",
        "            print(f\"rf_estimators: {rf_estimator}, rf_max_depth: {rf_depth}, rf_max_features: {rf_feature}, valid_r2: {valid_r2}\")"
      ],
      "execution_count": 39,
      "outputs": [
        {
          "output_type": "stream",
          "text": [
            "number of features: 1024\n"
          ],
          "name": "stdout"
        },
        {
          "output_type": "stream",
          "text": [
            "2021-04-03 21:13:24,919 Previous dataset split restored\n"
          ],
          "name": "stderr"
        },
        {
          "output_type": "stream",
          "text": [
            "n_cnt [3119.]\n",
            "y_means [6.72793403]\n",
            "y_stds [1.18825005]\n",
            "TIMING: dataset construction took 0.116 s\n",
            "Loading dataset from disk.\n",
            "TIMING: dataset construction took 0.019 s\n",
            "Loading dataset from disk.\n",
            "TIMING: dataset construction took 0.017 s\n",
            "Loading dataset from disk.\n"
          ],
          "name": "stdout"
        },
        {
          "output_type": "stream",
          "text": [
            "2021-04-03 21:13:26,209 Wrote model metadata to file ampl_output/merge1/RF_ecfp_scaffold_regression/bc32f872-5452-4cc2-a4a6-6573d71afa3a/model_metadata.json\n",
            "2021-04-03 21:13:26,223 Wrote model metrics to file ampl_output/merge1/RF_ecfp_scaffold_regression/bc32f872-5452-4cc2-a4a6-6573d71afa3a/model_metrics.json\n"
          ],
          "name": "stderr"
        },
        {
          "output_type": "stream",
          "text": [
            "Wrote model tarball to ampl_output/merge1_model_bc32f872-5452-4cc2-a4a6-6573d71afa3a.tar.gz\n",
            "rf_estimators: 16, rf_max_depth: 16, rf_max_features: 16, valid_r2: 0.39579036564675163\n",
            "number of features: 1024\n"
          ],
          "name": "stdout"
        },
        {
          "output_type": "stream",
          "text": [
            "2021-04-03 21:13:38,568 Previous dataset split restored\n"
          ],
          "name": "stderr"
        },
        {
          "output_type": "stream",
          "text": [
            "n_cnt [3119.]\n",
            "y_means [6.72793403]\n",
            "y_stds [1.18825005]\n",
            "TIMING: dataset construction took 0.116 s\n",
            "Loading dataset from disk.\n",
            "TIMING: dataset construction took 0.019 s\n",
            "Loading dataset from disk.\n",
            "TIMING: dataset construction took 0.017 s\n",
            "Loading dataset from disk.\n"
          ],
          "name": "stdout"
        },
        {
          "output_type": "stream",
          "text": [
            "2021-04-03 21:13:39,861 Wrote model metadata to file ampl_output/merge1/RF_ecfp_scaffold_regression/bb50344c-2cc1-4090-9975-c981b247c745/model_metadata.json\n",
            "2021-04-03 21:13:39,876 Wrote model metrics to file ampl_output/merge1/RF_ecfp_scaffold_regression/bb50344c-2cc1-4090-9975-c981b247c745/model_metrics.json\n"
          ],
          "name": "stderr"
        },
        {
          "output_type": "stream",
          "text": [
            "Wrote model tarball to ampl_output/merge1_model_bb50344c-2cc1-4090-9975-c981b247c745.tar.gz\n",
            "rf_estimators: 16, rf_max_depth: 16, rf_max_features: 32, valid_r2: 0.4227788265377599\n",
            "number of features: 1024\n"
          ],
          "name": "stdout"
        },
        {
          "output_type": "stream",
          "text": [
            "2021-04-03 21:13:52,336 Previous dataset split restored\n"
          ],
          "name": "stderr"
        },
        {
          "output_type": "stream",
          "text": [
            "n_cnt [3119.]\n",
            "y_means [6.72793403]\n",
            "y_stds [1.18825005]\n",
            "TIMING: dataset construction took 0.117 s\n",
            "Loading dataset from disk.\n",
            "TIMING: dataset construction took 0.019 s\n",
            "Loading dataset from disk.\n",
            "TIMING: dataset construction took 0.018 s\n",
            "Loading dataset from disk.\n"
          ],
          "name": "stdout"
        },
        {
          "output_type": "stream",
          "text": [
            "2021-04-03 21:13:53,627 Wrote model metadata to file ampl_output/merge1/RF_ecfp_scaffold_regression/35fe302e-5ee9-4a9b-b065-09de51b91117/model_metadata.json\n",
            "2021-04-03 21:13:53,643 Wrote model metrics to file ampl_output/merge1/RF_ecfp_scaffold_regression/35fe302e-5ee9-4a9b-b065-09de51b91117/model_metrics.json\n"
          ],
          "name": "stderr"
        },
        {
          "output_type": "stream",
          "text": [
            "Wrote model tarball to ampl_output/merge1_model_35fe302e-5ee9-4a9b-b065-09de51b91117.tar.gz\n",
            "rf_estimators: 16, rf_max_depth: 16, rf_max_features: 64, valid_r2: 0.4533096498571635\n",
            "number of features: 1024\n"
          ],
          "name": "stdout"
        },
        {
          "output_type": "stream",
          "text": [
            "2021-04-03 21:14:06,103 Previous dataset split restored\n"
          ],
          "name": "stderr"
        },
        {
          "output_type": "stream",
          "text": [
            "n_cnt [3119.]\n",
            "y_means [6.72793403]\n",
            "y_stds [1.18825005]\n",
            "TIMING: dataset construction took 0.114 s\n",
            "Loading dataset from disk.\n",
            "TIMING: dataset construction took 0.019 s\n",
            "Loading dataset from disk.\n",
            "TIMING: dataset construction took 0.018 s\n",
            "Loading dataset from disk.\n"
          ],
          "name": "stdout"
        },
        {
          "output_type": "stream",
          "text": [
            "2021-04-03 21:14:07,513 Wrote model metadata to file ampl_output/merge1/RF_ecfp_scaffold_regression/bef45536-94a1-479a-af16-544a9b531f92/model_metadata.json\n",
            "2021-04-03 21:14:07,530 Wrote model metrics to file ampl_output/merge1/RF_ecfp_scaffold_regression/bef45536-94a1-479a-af16-544a9b531f92/model_metrics.json\n"
          ],
          "name": "stderr"
        },
        {
          "output_type": "stream",
          "text": [
            "Wrote model tarball to ampl_output/merge1_model_bef45536-94a1-479a-af16-544a9b531f92.tar.gz\n",
            "rf_estimators: 16, rf_max_depth: 16, rf_max_features: 128, valid_r2: 0.46985930119168107\n",
            "number of features: 1024\n"
          ],
          "name": "stdout"
        },
        {
          "output_type": "stream",
          "text": [
            "2021-04-03 21:14:19,886 Previous dataset split restored\n"
          ],
          "name": "stderr"
        },
        {
          "output_type": "stream",
          "text": [
            "n_cnt [3119.]\n",
            "y_means [6.72793403]\n",
            "y_stds [1.18825005]\n",
            "TIMING: dataset construction took 0.118 s\n",
            "Loading dataset from disk.\n",
            "TIMING: dataset construction took 0.019 s\n",
            "Loading dataset from disk.\n",
            "TIMING: dataset construction took 0.018 s\n",
            "Loading dataset from disk.\n"
          ],
          "name": "stdout"
        },
        {
          "output_type": "stream",
          "text": [
            "2021-04-03 21:14:21,199 Wrote model metadata to file ampl_output/merge1/RF_ecfp_scaffold_regression/f1f0baa9-fa8d-4b15-8423-2aea8eab41d2/model_metadata.json\n",
            "2021-04-03 21:14:21,227 Wrote model metrics to file ampl_output/merge1/RF_ecfp_scaffold_regression/f1f0baa9-fa8d-4b15-8423-2aea8eab41d2/model_metrics.json\n"
          ],
          "name": "stderr"
        },
        {
          "output_type": "stream",
          "text": [
            "Wrote model tarball to ampl_output/merge1_model_f1f0baa9-fa8d-4b15-8423-2aea8eab41d2.tar.gz\n",
            "rf_estimators: 16, rf_max_depth: 32, rf_max_features: 16, valid_r2: 0.4666348629846149\n",
            "number of features: 1024\n"
          ],
          "name": "stdout"
        },
        {
          "output_type": "stream",
          "text": [
            "2021-04-03 21:14:33,721 Previous dataset split restored\n"
          ],
          "name": "stderr"
        },
        {
          "output_type": "stream",
          "text": [
            "n_cnt [3119.]\n",
            "y_means [6.72793403]\n",
            "y_stds [1.18825005]\n",
            "TIMING: dataset construction took 0.118 s\n",
            "Loading dataset from disk.\n",
            "TIMING: dataset construction took 0.018 s\n",
            "Loading dataset from disk.\n",
            "TIMING: dataset construction took 0.018 s\n",
            "Loading dataset from disk.\n"
          ],
          "name": "stdout"
        },
        {
          "output_type": "stream",
          "text": [
            "2021-04-03 21:14:35,026 Wrote model metadata to file ampl_output/merge1/RF_ecfp_scaffold_regression/a5c161be-2ebb-42b0-b347-f14b81970aa2/model_metadata.json\n",
            "2021-04-03 21:14:35,054 Wrote model metrics to file ampl_output/merge1/RF_ecfp_scaffold_regression/a5c161be-2ebb-42b0-b347-f14b81970aa2/model_metrics.json\n"
          ],
          "name": "stderr"
        },
        {
          "output_type": "stream",
          "text": [
            "Wrote model tarball to ampl_output/merge1_model_a5c161be-2ebb-42b0-b347-f14b81970aa2.tar.gz\n",
            "rf_estimators: 16, rf_max_depth: 32, rf_max_features: 32, valid_r2: 0.48792763544267115\n",
            "number of features: 1024\n"
          ],
          "name": "stdout"
        },
        {
          "output_type": "stream",
          "text": [
            "2021-04-03 21:14:47,486 Previous dataset split restored\n"
          ],
          "name": "stderr"
        },
        {
          "output_type": "stream",
          "text": [
            "n_cnt [3119.]\n",
            "y_means [6.72793403]\n",
            "y_stds [1.18825005]\n",
            "TIMING: dataset construction took 0.116 s\n",
            "Loading dataset from disk.\n",
            "TIMING: dataset construction took 0.018 s\n",
            "Loading dataset from disk.\n",
            "TIMING: dataset construction took 0.017 s\n",
            "Loading dataset from disk.\n"
          ],
          "name": "stdout"
        },
        {
          "output_type": "stream",
          "text": [
            "2021-04-03 21:14:48,896 Wrote model metadata to file ampl_output/merge1/RF_ecfp_scaffold_regression/411444a3-8dfd-4cb0-956b-5e6a1819504d/model_metadata.json\n",
            "2021-04-03 21:14:48,926 Wrote model metrics to file ampl_output/merge1/RF_ecfp_scaffold_regression/411444a3-8dfd-4cb0-956b-5e6a1819504d/model_metrics.json\n"
          ],
          "name": "stderr"
        },
        {
          "output_type": "stream",
          "text": [
            "Wrote model tarball to ampl_output/merge1_model_411444a3-8dfd-4cb0-956b-5e6a1819504d.tar.gz\n",
            "rf_estimators: 16, rf_max_depth: 32, rf_max_features: 64, valid_r2: 0.5082360168668837\n",
            "number of features: 1024\n"
          ],
          "name": "stdout"
        },
        {
          "output_type": "stream",
          "text": [
            "2021-04-03 21:15:01,355 Previous dataset split restored\n"
          ],
          "name": "stderr"
        },
        {
          "output_type": "stream",
          "text": [
            "n_cnt [3119.]\n",
            "y_means [6.72793403]\n",
            "y_stds [1.18825005]\n",
            "TIMING: dataset construction took 0.115 s\n",
            "Loading dataset from disk.\n",
            "TIMING: dataset construction took 0.018 s\n",
            "Loading dataset from disk.\n",
            "TIMING: dataset construction took 0.017 s\n",
            "Loading dataset from disk.\n"
          ],
          "name": "stdout"
        },
        {
          "output_type": "stream",
          "text": [
            "2021-04-03 21:15:02,859 Wrote model metadata to file ampl_output/merge1/RF_ecfp_scaffold_regression/2fa58793-2a46-4e25-8410-3e9348af0a90/model_metadata.json\n",
            "2021-04-03 21:15:02,889 Wrote model metrics to file ampl_output/merge1/RF_ecfp_scaffold_regression/2fa58793-2a46-4e25-8410-3e9348af0a90/model_metrics.json\n"
          ],
          "name": "stderr"
        },
        {
          "output_type": "stream",
          "text": [
            "Wrote model tarball to ampl_output/merge1_model_2fa58793-2a46-4e25-8410-3e9348af0a90.tar.gz\n",
            "rf_estimators: 16, rf_max_depth: 32, rf_max_features: 128, valid_r2: 0.5062467788344335\n",
            "number of features: 1024\n"
          ],
          "name": "stdout"
        },
        {
          "output_type": "stream",
          "text": [
            "2021-04-03 21:15:15,347 Previous dataset split restored\n"
          ],
          "name": "stderr"
        },
        {
          "output_type": "stream",
          "text": [
            "n_cnt [3119.]\n",
            "y_means [6.72793403]\n",
            "y_stds [1.18825005]\n",
            "TIMING: dataset construction took 0.116 s\n",
            "Loading dataset from disk.\n",
            "TIMING: dataset construction took 0.018 s\n",
            "Loading dataset from disk.\n",
            "TIMING: dataset construction took 0.017 s\n",
            "Loading dataset from disk.\n"
          ],
          "name": "stdout"
        },
        {
          "output_type": "stream",
          "text": [
            "2021-04-03 21:15:16,756 Wrote model metadata to file ampl_output/merge1/RF_ecfp_scaffold_regression/9e87e0f5-dad6-494a-8fbc-22125a74fabc/model_metadata.json\n",
            "2021-04-03 21:15:16,790 Wrote model metrics to file ampl_output/merge1/RF_ecfp_scaffold_regression/9e87e0f5-dad6-494a-8fbc-22125a74fabc/model_metrics.json\n"
          ],
          "name": "stderr"
        },
        {
          "output_type": "stream",
          "text": [
            "Wrote model tarball to ampl_output/merge1_model_9e87e0f5-dad6-494a-8fbc-22125a74fabc.tar.gz\n",
            "rf_estimators: 16, rf_max_depth: 64, rf_max_features: 16, valid_r2: 0.4878886047932679\n",
            "number of features: 1024\n"
          ],
          "name": "stdout"
        },
        {
          "output_type": "stream",
          "text": [
            "2021-04-03 21:15:29,310 Previous dataset split restored\n"
          ],
          "name": "stderr"
        },
        {
          "output_type": "stream",
          "text": [
            "n_cnt [3119.]\n",
            "y_means [6.72793403]\n",
            "y_stds [1.18825005]\n",
            "TIMING: dataset construction took 0.115 s\n",
            "Loading dataset from disk.\n",
            "TIMING: dataset construction took 0.018 s\n",
            "Loading dataset from disk.\n",
            "TIMING: dataset construction took 0.017 s\n",
            "Loading dataset from disk.\n"
          ],
          "name": "stdout"
        },
        {
          "output_type": "stream",
          "text": [
            "2021-04-03 21:15:30,725 Wrote model metadata to file ampl_output/merge1/RF_ecfp_scaffold_regression/ea16fb46-1214-47a2-9cfa-78f069f3eaf7/model_metadata.json\n",
            "2021-04-03 21:15:30,760 Wrote model metrics to file ampl_output/merge1/RF_ecfp_scaffold_regression/ea16fb46-1214-47a2-9cfa-78f069f3eaf7/model_metrics.json\n"
          ],
          "name": "stderr"
        },
        {
          "output_type": "stream",
          "text": [
            "Wrote model tarball to ampl_output/merge1_model_ea16fb46-1214-47a2-9cfa-78f069f3eaf7.tar.gz\n",
            "rf_estimators: 16, rf_max_depth: 64, rf_max_features: 32, valid_r2: 0.4983153425315219\n",
            "number of features: 1024\n"
          ],
          "name": "stdout"
        },
        {
          "output_type": "stream",
          "text": [
            "2021-04-03 21:15:43,170 Previous dataset split restored\n"
          ],
          "name": "stderr"
        },
        {
          "output_type": "stream",
          "text": [
            "n_cnt [3119.]\n",
            "y_means [6.72793403]\n",
            "y_stds [1.18825005]\n",
            "TIMING: dataset construction took 0.116 s\n",
            "Loading dataset from disk.\n",
            "TIMING: dataset construction took 0.019 s\n",
            "Loading dataset from disk.\n",
            "TIMING: dataset construction took 0.018 s\n",
            "Loading dataset from disk.\n"
          ],
          "name": "stdout"
        },
        {
          "output_type": "stream",
          "text": [
            "2021-04-03 21:15:44,595 Wrote model metadata to file ampl_output/merge1/RF_ecfp_scaffold_regression/7323c973-0cdc-43b4-95e9-41c14c879a4c/model_metadata.json\n",
            "2021-04-03 21:15:44,630 Wrote model metrics to file ampl_output/merge1/RF_ecfp_scaffold_regression/7323c973-0cdc-43b4-95e9-41c14c879a4c/model_metrics.json\n"
          ],
          "name": "stderr"
        },
        {
          "output_type": "stream",
          "text": [
            "Wrote model tarball to ampl_output/merge1_model_7323c973-0cdc-43b4-95e9-41c14c879a4c.tar.gz\n",
            "rf_estimators: 16, rf_max_depth: 64, rf_max_features: 64, valid_r2: 0.5153782434246026\n",
            "number of features: 1024\n"
          ],
          "name": "stdout"
        },
        {
          "output_type": "stream",
          "text": [
            "2021-04-03 21:15:57,093 Previous dataset split restored\n"
          ],
          "name": "stderr"
        },
        {
          "output_type": "stream",
          "text": [
            "n_cnt [3119.]\n",
            "y_means [6.72793403]\n",
            "y_stds [1.18825005]\n",
            "TIMING: dataset construction took 0.120 s\n",
            "Loading dataset from disk.\n",
            "TIMING: dataset construction took 0.020 s\n",
            "Loading dataset from disk.\n",
            "TIMING: dataset construction took 0.019 s\n",
            "Loading dataset from disk.\n"
          ],
          "name": "stdout"
        },
        {
          "output_type": "stream",
          "text": [
            "2021-04-03 21:15:58,625 Wrote model metadata to file ampl_output/merge1/RF_ecfp_scaffold_regression/1fcf04e3-b62e-4329-af16-40e39b7608b8/model_metadata.json\n",
            "2021-04-03 21:15:58,660 Wrote model metrics to file ampl_output/merge1/RF_ecfp_scaffold_regression/1fcf04e3-b62e-4329-af16-40e39b7608b8/model_metrics.json\n"
          ],
          "name": "stderr"
        },
        {
          "output_type": "stream",
          "text": [
            "Wrote model tarball to ampl_output/merge1_model_1fcf04e3-b62e-4329-af16-40e39b7608b8.tar.gz\n",
            "rf_estimators: 16, rf_max_depth: 64, rf_max_features: 128, valid_r2: 0.5614986761525822\n",
            "number of features: 1024\n"
          ],
          "name": "stdout"
        },
        {
          "output_type": "stream",
          "text": [
            "2021-04-03 21:16:11,022 Previous dataset split restored\n"
          ],
          "name": "stderr"
        },
        {
          "output_type": "stream",
          "text": [
            "n_cnt [3119.]\n",
            "y_means [6.72793403]\n",
            "y_stds [1.18825005]\n",
            "TIMING: dataset construction took 0.116 s\n",
            "Loading dataset from disk.\n",
            "TIMING: dataset construction took 0.019 s\n",
            "Loading dataset from disk.\n",
            "TIMING: dataset construction took 0.018 s\n",
            "Loading dataset from disk.\n"
          ],
          "name": "stdout"
        },
        {
          "output_type": "stream",
          "text": [
            "2021-04-03 21:16:12,439 Wrote model metadata to file ampl_output/merge1/RF_ecfp_scaffold_regression/04041c85-d601-4a84-afe0-0dd5dd0fce28/model_metadata.json\n",
            "2021-04-03 21:16:12,474 Wrote model metrics to file ampl_output/merge1/RF_ecfp_scaffold_regression/04041c85-d601-4a84-afe0-0dd5dd0fce28/model_metrics.json\n"
          ],
          "name": "stderr"
        },
        {
          "output_type": "stream",
          "text": [
            "Wrote model tarball to ampl_output/merge1_model_04041c85-d601-4a84-afe0-0dd5dd0fce28.tar.gz\n",
            "rf_estimators: 16, rf_max_depth: 128, rf_max_features: 16, valid_r2: 0.5035695119751905\n",
            "number of features: 1024\n"
          ],
          "name": "stdout"
        },
        {
          "output_type": "stream",
          "text": [
            "2021-04-03 21:16:24,964 Previous dataset split restored\n"
          ],
          "name": "stderr"
        },
        {
          "output_type": "stream",
          "text": [
            "n_cnt [3119.]\n",
            "y_means [6.72793403]\n",
            "y_stds [1.18825005]\n",
            "TIMING: dataset construction took 0.117 s\n",
            "Loading dataset from disk.\n",
            "TIMING: dataset construction took 0.019 s\n",
            "Loading dataset from disk.\n",
            "TIMING: dataset construction took 0.018 s\n",
            "Loading dataset from disk.\n"
          ],
          "name": "stdout"
        },
        {
          "output_type": "stream",
          "text": [
            "2021-04-03 21:16:26,382 Wrote model metadata to file ampl_output/merge1/RF_ecfp_scaffold_regression/524acae1-7860-4946-8b7c-2a715bd6a927/model_metadata.json\n",
            "2021-04-03 21:16:26,417 Wrote model metrics to file ampl_output/merge1/RF_ecfp_scaffold_regression/524acae1-7860-4946-8b7c-2a715bd6a927/model_metrics.json\n"
          ],
          "name": "stderr"
        },
        {
          "output_type": "stream",
          "text": [
            "Wrote model tarball to ampl_output/merge1_model_524acae1-7860-4946-8b7c-2a715bd6a927.tar.gz\n",
            "rf_estimators: 16, rf_max_depth: 128, rf_max_features: 32, valid_r2: 0.4800656492811872\n",
            "number of features: 1024\n"
          ],
          "name": "stdout"
        },
        {
          "output_type": "stream",
          "text": [
            "2021-04-03 21:16:38,757 Previous dataset split restored\n"
          ],
          "name": "stderr"
        },
        {
          "output_type": "stream",
          "text": [
            "n_cnt [3119.]\n",
            "y_means [6.72793403]\n",
            "y_stds [1.18825005]\n",
            "TIMING: dataset construction took 0.117 s\n",
            "Loading dataset from disk.\n",
            "TIMING: dataset construction took 0.021 s\n",
            "Loading dataset from disk.\n",
            "TIMING: dataset construction took 0.019 s\n",
            "Loading dataset from disk.\n"
          ],
          "name": "stdout"
        },
        {
          "output_type": "stream",
          "text": [
            "2021-04-03 21:16:40,181 Wrote model metadata to file ampl_output/merge1/RF_ecfp_scaffold_regression/2252abe8-e6b4-4286-9a88-d13dabc830d8/model_metadata.json\n",
            "2021-04-03 21:16:40,215 Wrote model metrics to file ampl_output/merge1/RF_ecfp_scaffold_regression/2252abe8-e6b4-4286-9a88-d13dabc830d8/model_metrics.json\n"
          ],
          "name": "stderr"
        },
        {
          "output_type": "stream",
          "text": [
            "Wrote model tarball to ampl_output/merge1_model_2252abe8-e6b4-4286-9a88-d13dabc830d8.tar.gz\n",
            "rf_estimators: 16, rf_max_depth: 128, rf_max_features: 64, valid_r2: 0.5514232722107468\n",
            "number of features: 1024\n"
          ],
          "name": "stdout"
        },
        {
          "output_type": "stream",
          "text": [
            "2021-04-03 21:16:52,685 Previous dataset split restored\n"
          ],
          "name": "stderr"
        },
        {
          "output_type": "stream",
          "text": [
            "n_cnt [3119.]\n",
            "y_means [6.72793403]\n",
            "y_stds [1.18825005]\n",
            "TIMING: dataset construction took 0.117 s\n",
            "Loading dataset from disk.\n",
            "TIMING: dataset construction took 0.019 s\n",
            "Loading dataset from disk.\n",
            "TIMING: dataset construction took 0.017 s\n",
            "Loading dataset from disk.\n"
          ],
          "name": "stdout"
        },
        {
          "output_type": "stream",
          "text": [
            "2021-04-03 21:16:54,209 Wrote model metadata to file ampl_output/merge1/RF_ecfp_scaffold_regression/d6a3025f-dc28-4c75-b0ac-ba3487a39ad8/model_metadata.json\n",
            "2021-04-03 21:16:54,243 Wrote model metrics to file ampl_output/merge1/RF_ecfp_scaffold_regression/d6a3025f-dc28-4c75-b0ac-ba3487a39ad8/model_metrics.json\n"
          ],
          "name": "stderr"
        },
        {
          "output_type": "stream",
          "text": [
            "Wrote model tarball to ampl_output/merge1_model_d6a3025f-dc28-4c75-b0ac-ba3487a39ad8.tar.gz\n",
            "rf_estimators: 16, rf_max_depth: 128, rf_max_features: 128, valid_r2: 0.5498220144337522\n",
            "number of features: 1024\n"
          ],
          "name": "stdout"
        },
        {
          "output_type": "stream",
          "text": [
            "2021-04-03 21:17:06,735 Previous dataset split restored\n"
          ],
          "name": "stderr"
        },
        {
          "output_type": "stream",
          "text": [
            "n_cnt [3119.]\n",
            "y_means [6.72793403]\n",
            "y_stds [1.18825005]\n",
            "TIMING: dataset construction took 0.119 s\n",
            "Loading dataset from disk.\n",
            "TIMING: dataset construction took 0.019 s\n",
            "Loading dataset from disk.\n",
            "TIMING: dataset construction took 0.018 s\n",
            "Loading dataset from disk.\n"
          ],
          "name": "stdout"
        },
        {
          "output_type": "stream",
          "text": [
            "2021-04-03 21:17:08,061 Wrote model metadata to file ampl_output/merge1/RF_ecfp_scaffold_regression/996f7c29-dfbe-4caa-b0e8-fadade8d3fc3/model_metadata.json\n",
            "2021-04-03 21:17:08,085 Wrote model metrics to file ampl_output/merge1/RF_ecfp_scaffold_regression/996f7c29-dfbe-4caa-b0e8-fadade8d3fc3/model_metrics.json\n"
          ],
          "name": "stderr"
        },
        {
          "output_type": "stream",
          "text": [
            "Wrote model tarball to ampl_output/merge1_model_996f7c29-dfbe-4caa-b0e8-fadade8d3fc3.tar.gz\n",
            "rf_estimators: 32, rf_max_depth: 16, rf_max_features: 16, valid_r2: 0.4533885438672661\n",
            "number of features: 1024\n"
          ],
          "name": "stdout"
        },
        {
          "output_type": "stream",
          "text": [
            "2021-04-03 21:17:20,447 Previous dataset split restored\n"
          ],
          "name": "stderr"
        },
        {
          "output_type": "stream",
          "text": [
            "n_cnt [3119.]\n",
            "y_means [6.72793403]\n",
            "y_stds [1.18825005]\n",
            "TIMING: dataset construction took 0.118 s\n",
            "Loading dataset from disk.\n",
            "TIMING: dataset construction took 0.019 s\n",
            "Loading dataset from disk.\n",
            "TIMING: dataset construction took 0.018 s\n",
            "Loading dataset from disk.\n"
          ],
          "name": "stdout"
        },
        {
          "output_type": "stream",
          "text": [
            "2021-04-03 21:17:21,862 Wrote model metadata to file ampl_output/merge1/RF_ecfp_scaffold_regression/b6e1aa90-1886-4e4e-9857-5bb5fdb9fdbb/model_metadata.json\n",
            "2021-04-03 21:17:21,888 Wrote model metrics to file ampl_output/merge1/RF_ecfp_scaffold_regression/b6e1aa90-1886-4e4e-9857-5bb5fdb9fdbb/model_metrics.json\n"
          ],
          "name": "stderr"
        },
        {
          "output_type": "stream",
          "text": [
            "Wrote model tarball to ampl_output/merge1_model_b6e1aa90-1886-4e4e-9857-5bb5fdb9fdbb.tar.gz\n",
            "rf_estimators: 32, rf_max_depth: 16, rf_max_features: 32, valid_r2: 0.4726669600552721\n",
            "number of features: 1024\n"
          ],
          "name": "stdout"
        },
        {
          "output_type": "stream",
          "text": [
            "2021-04-03 21:17:34,265 Previous dataset split restored\n"
          ],
          "name": "stderr"
        },
        {
          "output_type": "stream",
          "text": [
            "n_cnt [3119.]\n",
            "y_means [6.72793403]\n",
            "y_stds [1.18825005]\n",
            "TIMING: dataset construction took 0.119 s\n",
            "Loading dataset from disk.\n",
            "TIMING: dataset construction took 0.019 s\n",
            "Loading dataset from disk.\n",
            "TIMING: dataset construction took 0.018 s\n",
            "Loading dataset from disk.\n"
          ],
          "name": "stdout"
        },
        {
          "output_type": "stream",
          "text": [
            "2021-04-03 21:17:35,685 Wrote model metadata to file ampl_output/merge1/RF_ecfp_scaffold_regression/537a61f8-ce26-4396-89f8-ff8f3b62e70f/model_metadata.json\n",
            "2021-04-03 21:17:35,711 Wrote model metrics to file ampl_output/merge1/RF_ecfp_scaffold_regression/537a61f8-ce26-4396-89f8-ff8f3b62e70f/model_metrics.json\n"
          ],
          "name": "stderr"
        },
        {
          "output_type": "stream",
          "text": [
            "Wrote model tarball to ampl_output/merge1_model_537a61f8-ce26-4396-89f8-ff8f3b62e70f.tar.gz\n",
            "rf_estimators: 32, rf_max_depth: 16, rf_max_features: 64, valid_r2: 0.4839430253787531\n",
            "number of features: 1024\n"
          ],
          "name": "stdout"
        },
        {
          "output_type": "stream",
          "text": [
            "2021-04-03 21:17:47,992 Previous dataset split restored\n"
          ],
          "name": "stderr"
        },
        {
          "output_type": "stream",
          "text": [
            "n_cnt [3119.]\n",
            "y_means [6.72793403]\n",
            "y_stds [1.18825005]\n",
            "TIMING: dataset construction took 0.117 s\n",
            "Loading dataset from disk.\n",
            "TIMING: dataset construction took 0.019 s\n",
            "Loading dataset from disk.\n",
            "TIMING: dataset construction took 0.017 s\n",
            "Loading dataset from disk.\n"
          ],
          "name": "stdout"
        },
        {
          "output_type": "stream",
          "text": [
            "2021-04-03 21:17:49,506 Wrote model metadata to file ampl_output/merge1/RF_ecfp_scaffold_regression/06f4a698-08d7-40b3-b1cd-34c67046ecaf/model_metadata.json\n",
            "2021-04-03 21:17:49,534 Wrote model metrics to file ampl_output/merge1/RF_ecfp_scaffold_regression/06f4a698-08d7-40b3-b1cd-34c67046ecaf/model_metrics.json\n"
          ],
          "name": "stderr"
        },
        {
          "output_type": "stream",
          "text": [
            "Wrote model tarball to ampl_output/merge1_model_06f4a698-08d7-40b3-b1cd-34c67046ecaf.tar.gz\n",
            "rf_estimators: 32, rf_max_depth: 16, rf_max_features: 128, valid_r2: 0.48678654943253075\n",
            "number of features: 1024\n"
          ],
          "name": "stdout"
        },
        {
          "output_type": "stream",
          "text": [
            "2021-04-03 21:18:01,936 Previous dataset split restored\n"
          ],
          "name": "stderr"
        },
        {
          "output_type": "stream",
          "text": [
            "n_cnt [3119.]\n",
            "y_means [6.72793403]\n",
            "y_stds [1.18825005]\n",
            "TIMING: dataset construction took 0.114 s\n",
            "Loading dataset from disk.\n",
            "TIMING: dataset construction took 0.018 s\n",
            "Loading dataset from disk.\n",
            "TIMING: dataset construction took 0.017 s\n",
            "Loading dataset from disk.\n"
          ],
          "name": "stdout"
        },
        {
          "output_type": "stream",
          "text": [
            "2021-04-03 21:18:03,353 Wrote model metadata to file ampl_output/merge1/RF_ecfp_scaffold_regression/3d18512b-f2f6-4ea3-946e-bdaed0dd05fb/model_metadata.json\n",
            "2021-04-03 21:18:03,404 Wrote model metrics to file ampl_output/merge1/RF_ecfp_scaffold_regression/3d18512b-f2f6-4ea3-946e-bdaed0dd05fb/model_metrics.json\n"
          ],
          "name": "stderr"
        },
        {
          "output_type": "stream",
          "text": [
            "Wrote model tarball to ampl_output/merge1_model_3d18512b-f2f6-4ea3-946e-bdaed0dd05fb.tar.gz\n",
            "rf_estimators: 32, rf_max_depth: 32, rf_max_features: 16, valid_r2: 0.5028506284240208\n",
            "number of features: 1024\n"
          ],
          "name": "stdout"
        },
        {
          "output_type": "stream",
          "text": [
            "2021-04-03 21:18:15,739 Previous dataset split restored\n"
          ],
          "name": "stderr"
        },
        {
          "output_type": "stream",
          "text": [
            "n_cnt [3119.]\n",
            "y_means [6.72793403]\n",
            "y_stds [1.18825005]\n",
            "TIMING: dataset construction took 0.117 s\n",
            "Loading dataset from disk.\n",
            "TIMING: dataset construction took 0.019 s\n",
            "Loading dataset from disk.\n",
            "TIMING: dataset construction took 0.018 s\n",
            "Loading dataset from disk.\n"
          ],
          "name": "stdout"
        },
        {
          "output_type": "stream",
          "text": [
            "2021-04-03 21:18:17,304 Wrote model metadata to file ampl_output/merge1/RF_ecfp_scaffold_regression/e2fe236d-1ebe-4cd4-b4a6-61c87e0435db/model_metadata.json\n",
            "2021-04-03 21:18:17,357 Wrote model metrics to file ampl_output/merge1/RF_ecfp_scaffold_regression/e2fe236d-1ebe-4cd4-b4a6-61c87e0435db/model_metrics.json\n"
          ],
          "name": "stderr"
        },
        {
          "output_type": "stream",
          "text": [
            "Wrote model tarball to ampl_output/merge1_model_e2fe236d-1ebe-4cd4-b4a6-61c87e0435db.tar.gz\n",
            "rf_estimators: 32, rf_max_depth: 32, rf_max_features: 32, valid_r2: 0.5210766790049773\n",
            "number of features: 1024\n"
          ],
          "name": "stdout"
        },
        {
          "output_type": "stream",
          "text": [
            "2021-04-03 21:18:29,757 Previous dataset split restored\n"
          ],
          "name": "stderr"
        },
        {
          "output_type": "stream",
          "text": [
            "n_cnt [3119.]\n",
            "y_means [6.72793403]\n",
            "y_stds [1.18825005]\n",
            "TIMING: dataset construction took 0.116 s\n",
            "Loading dataset from disk.\n",
            "TIMING: dataset construction took 0.019 s\n",
            "Loading dataset from disk.\n",
            "TIMING: dataset construction took 0.018 s\n",
            "Loading dataset from disk.\n"
          ],
          "name": "stdout"
        },
        {
          "output_type": "stream",
          "text": [
            "2021-04-03 21:18:31,324 Wrote model metadata to file ampl_output/merge1/RF_ecfp_scaffold_regression/6db7d57f-275f-44a5-8dd7-6a6ade496c0d/model_metadata.json\n",
            "2021-04-03 21:18:31,378 Wrote model metrics to file ampl_output/merge1/RF_ecfp_scaffold_regression/6db7d57f-275f-44a5-8dd7-6a6ade496c0d/model_metrics.json\n"
          ],
          "name": "stderr"
        },
        {
          "output_type": "stream",
          "text": [
            "Wrote model tarball to ampl_output/merge1_model_6db7d57f-275f-44a5-8dd7-6a6ade496c0d.tar.gz\n",
            "rf_estimators: 32, rf_max_depth: 32, rf_max_features: 64, valid_r2: 0.5383786015930225\n",
            "number of features: 1024\n"
          ],
          "name": "stdout"
        },
        {
          "output_type": "stream",
          "text": [
            "2021-04-03 21:18:43,776 Previous dataset split restored\n"
          ],
          "name": "stderr"
        },
        {
          "output_type": "stream",
          "text": [
            "n_cnt [3119.]\n",
            "y_means [6.72793403]\n",
            "y_stds [1.18825005]\n",
            "TIMING: dataset construction took 0.116 s\n",
            "Loading dataset from disk.\n",
            "TIMING: dataset construction took 0.020 s\n",
            "Loading dataset from disk.\n",
            "TIMING: dataset construction took 0.018 s\n",
            "Loading dataset from disk.\n"
          ],
          "name": "stdout"
        },
        {
          "output_type": "stream",
          "text": [
            "2021-04-03 21:18:45,432 Wrote model metadata to file ampl_output/merge1/RF_ecfp_scaffold_regression/4eeb290b-65d5-4cc7-b245-62a82a6b8efb/model_metadata.json\n",
            "2021-04-03 21:18:45,484 Wrote model metrics to file ampl_output/merge1/RF_ecfp_scaffold_regression/4eeb290b-65d5-4cc7-b245-62a82a6b8efb/model_metrics.json\n"
          ],
          "name": "stderr"
        },
        {
          "output_type": "stream",
          "text": [
            "Wrote model tarball to ampl_output/merge1_model_4eeb290b-65d5-4cc7-b245-62a82a6b8efb.tar.gz\n",
            "rf_estimators: 32, rf_max_depth: 32, rf_max_features: 128, valid_r2: 0.5241972983604162\n",
            "number of features: 1024\n"
          ],
          "name": "stdout"
        },
        {
          "output_type": "stream",
          "text": [
            "2021-04-03 21:18:57,910 Previous dataset split restored\n"
          ],
          "name": "stderr"
        },
        {
          "output_type": "stream",
          "text": [
            "n_cnt [3119.]\n",
            "y_means [6.72793403]\n",
            "y_stds [1.18825005]\n",
            "TIMING: dataset construction took 0.117 s\n",
            "Loading dataset from disk.\n",
            "TIMING: dataset construction took 0.020 s\n",
            "Loading dataset from disk.\n",
            "TIMING: dataset construction took 0.018 s\n",
            "Loading dataset from disk.\n"
          ],
          "name": "stdout"
        },
        {
          "output_type": "stream",
          "text": [
            "2021-04-03 21:18:59,386 Wrote model metadata to file ampl_output/merge1/RF_ecfp_scaffold_regression/236c4d88-952c-4a2c-be2f-d35ce36b777f/model_metadata.json\n",
            "2021-04-03 21:18:59,450 Wrote model metrics to file ampl_output/merge1/RF_ecfp_scaffold_regression/236c4d88-952c-4a2c-be2f-d35ce36b777f/model_metrics.json\n"
          ],
          "name": "stderr"
        },
        {
          "output_type": "stream",
          "text": [
            "Wrote model tarball to ampl_output/merge1_model_236c4d88-952c-4a2c-be2f-d35ce36b777f.tar.gz\n",
            "rf_estimators: 32, rf_max_depth: 64, rf_max_features: 16, valid_r2: 0.5105208093791047\n",
            "number of features: 1024\n"
          ],
          "name": "stdout"
        },
        {
          "output_type": "stream",
          "text": [
            "2021-04-03 21:19:11,879 Previous dataset split restored\n"
          ],
          "name": "stderr"
        },
        {
          "output_type": "stream",
          "text": [
            "n_cnt [3119.]\n",
            "y_means [6.72793403]\n",
            "y_stds [1.18825005]\n",
            "TIMING: dataset construction took 0.116 s\n",
            "Loading dataset from disk.\n",
            "TIMING: dataset construction took 0.019 s\n",
            "Loading dataset from disk.\n",
            "TIMING: dataset construction took 0.019 s\n",
            "Loading dataset from disk.\n"
          ],
          "name": "stdout"
        },
        {
          "output_type": "stream",
          "text": [
            "2021-04-03 21:19:13,450 Wrote model metadata to file ampl_output/merge1/RF_ecfp_scaffold_regression/f24461c8-92be-4863-8074-9692d188c096/model_metadata.json\n",
            "2021-04-03 21:19:13,514 Wrote model metrics to file ampl_output/merge1/RF_ecfp_scaffold_regression/f24461c8-92be-4863-8074-9692d188c096/model_metrics.json\n"
          ],
          "name": "stderr"
        },
        {
          "output_type": "stream",
          "text": [
            "Wrote model tarball to ampl_output/merge1_model_f24461c8-92be-4863-8074-9692d188c096.tar.gz\n",
            "rf_estimators: 32, rf_max_depth: 64, rf_max_features: 32, valid_r2: 0.5349358536892358\n",
            "number of features: 1024\n"
          ],
          "name": "stdout"
        },
        {
          "output_type": "stream",
          "text": [
            "2021-04-03 21:19:25,879 Previous dataset split restored\n"
          ],
          "name": "stderr"
        },
        {
          "output_type": "stream",
          "text": [
            "n_cnt [3119.]\n",
            "y_means [6.72793403]\n",
            "y_stds [1.18825005]\n",
            "TIMING: dataset construction took 0.116 s\n",
            "Loading dataset from disk.\n",
            "TIMING: dataset construction took 0.019 s\n",
            "Loading dataset from disk.\n",
            "TIMING: dataset construction took 0.018 s\n",
            "Loading dataset from disk.\n"
          ],
          "name": "stdout"
        },
        {
          "output_type": "stream",
          "text": [
            "2021-04-03 21:19:27,443 Wrote model metadata to file ampl_output/merge1/RF_ecfp_scaffold_regression/ad828fcc-e791-4a7f-8260-c9c413d4b110/model_metadata.json\n",
            "2021-04-03 21:19:27,507 Wrote model metrics to file ampl_output/merge1/RF_ecfp_scaffold_regression/ad828fcc-e791-4a7f-8260-c9c413d4b110/model_metrics.json\n"
          ],
          "name": "stderr"
        },
        {
          "output_type": "stream",
          "text": [
            "Wrote model tarball to ampl_output/merge1_model_ad828fcc-e791-4a7f-8260-c9c413d4b110.tar.gz\n",
            "rf_estimators: 32, rf_max_depth: 64, rf_max_features: 64, valid_r2: 0.5399059650653761\n",
            "number of features: 1024\n"
          ],
          "name": "stdout"
        },
        {
          "output_type": "stream",
          "text": [
            "2021-04-03 21:19:39,927 Previous dataset split restored\n"
          ],
          "name": "stderr"
        },
        {
          "output_type": "stream",
          "text": [
            "n_cnt [3119.]\n",
            "y_means [6.72793403]\n",
            "y_stds [1.18825005]\n",
            "TIMING: dataset construction took 0.119 s\n",
            "Loading dataset from disk.\n",
            "TIMING: dataset construction took 0.019 s\n",
            "Loading dataset from disk.\n",
            "TIMING: dataset construction took 0.018 s\n",
            "Loading dataset from disk.\n"
          ],
          "name": "stdout"
        },
        {
          "output_type": "stream",
          "text": [
            "2021-04-03 21:19:41,702 Wrote model metadata to file ampl_output/merge1/RF_ecfp_scaffold_regression/9f1f2d86-4642-42f7-a102-a817bdbdd0cf/model_metadata.json\n",
            "2021-04-03 21:19:41,766 Wrote model metrics to file ampl_output/merge1/RF_ecfp_scaffold_regression/9f1f2d86-4642-42f7-a102-a817bdbdd0cf/model_metrics.json\n"
          ],
          "name": "stderr"
        },
        {
          "output_type": "stream",
          "text": [
            "Wrote model tarball to ampl_output/merge1_model_9f1f2d86-4642-42f7-a102-a817bdbdd0cf.tar.gz\n",
            "rf_estimators: 32, rf_max_depth: 64, rf_max_features: 128, valid_r2: 0.5334877691280583\n",
            "number of features: 1024\n"
          ],
          "name": "stdout"
        },
        {
          "output_type": "stream",
          "text": [
            "2021-04-03 21:19:54,266 Previous dataset split restored\n"
          ],
          "name": "stderr"
        },
        {
          "output_type": "stream",
          "text": [
            "n_cnt [3119.]\n",
            "y_means [6.72793403]\n",
            "y_stds [1.18825005]\n",
            "TIMING: dataset construction took 0.115 s\n",
            "Loading dataset from disk.\n",
            "TIMING: dataset construction took 0.019 s\n",
            "Loading dataset from disk.\n",
            "TIMING: dataset construction took 0.019 s\n",
            "Loading dataset from disk.\n"
          ],
          "name": "stdout"
        },
        {
          "output_type": "stream",
          "text": [
            "2021-04-03 21:19:55,843 Wrote model metadata to file ampl_output/merge1/RF_ecfp_scaffold_regression/54af7aa9-ec4d-4abb-b2e8-5caca356a687/model_metadata.json\n",
            "2021-04-03 21:19:55,908 Wrote model metrics to file ampl_output/merge1/RF_ecfp_scaffold_regression/54af7aa9-ec4d-4abb-b2e8-5caca356a687/model_metrics.json\n"
          ],
          "name": "stderr"
        },
        {
          "output_type": "stream",
          "text": [
            "Wrote model tarball to ampl_output/merge1_model_54af7aa9-ec4d-4abb-b2e8-5caca356a687.tar.gz\n",
            "rf_estimators: 32, rf_max_depth: 128, rf_max_features: 16, valid_r2: 0.5139048299972374\n",
            "number of features: 1024\n"
          ],
          "name": "stdout"
        },
        {
          "output_type": "stream",
          "text": [
            "2021-04-03 21:20:08,426 Previous dataset split restored\n"
          ],
          "name": "stderr"
        },
        {
          "output_type": "stream",
          "text": [
            "n_cnt [3119.]\n",
            "y_means [6.72793403]\n",
            "y_stds [1.18825005]\n",
            "TIMING: dataset construction took 0.118 s\n",
            "Loading dataset from disk.\n",
            "TIMING: dataset construction took 0.019 s\n",
            "Loading dataset from disk.\n",
            "TIMING: dataset construction took 0.018 s\n",
            "Loading dataset from disk.\n"
          ],
          "name": "stdout"
        },
        {
          "output_type": "stream",
          "text": [
            "2021-04-03 21:20:10,000 Wrote model metadata to file ampl_output/merge1/RF_ecfp_scaffold_regression/a4ea6903-2c04-457a-9330-a3dc062ca2ec/model_metadata.json\n",
            "2021-04-03 21:20:10,065 Wrote model metrics to file ampl_output/merge1/RF_ecfp_scaffold_regression/a4ea6903-2c04-457a-9330-a3dc062ca2ec/model_metrics.json\n"
          ],
          "name": "stderr"
        },
        {
          "output_type": "stream",
          "text": [
            "Wrote model tarball to ampl_output/merge1_model_a4ea6903-2c04-457a-9330-a3dc062ca2ec.tar.gz\n",
            "rf_estimators: 32, rf_max_depth: 128, rf_max_features: 32, valid_r2: 0.5545302498047242\n",
            "number of features: 1024\n"
          ],
          "name": "stdout"
        },
        {
          "output_type": "stream",
          "text": [
            "2021-04-03 21:20:22,522 Previous dataset split restored\n"
          ],
          "name": "stderr"
        },
        {
          "output_type": "stream",
          "text": [
            "n_cnt [3119.]\n",
            "y_means [6.72793403]\n",
            "y_stds [1.18825005]\n",
            "TIMING: dataset construction took 0.116 s\n",
            "Loading dataset from disk.\n",
            "TIMING: dataset construction took 0.019 s\n",
            "Loading dataset from disk.\n",
            "TIMING: dataset construction took 0.019 s\n",
            "Loading dataset from disk.\n"
          ],
          "name": "stdout"
        },
        {
          "output_type": "stream",
          "text": [
            "2021-04-03 21:20:24,100 Wrote model metadata to file ampl_output/merge1/RF_ecfp_scaffold_regression/b869f50b-92a3-40cc-b5c6-4c6eb305d5e2/model_metadata.json\n",
            "2021-04-03 21:20:24,165 Wrote model metrics to file ampl_output/merge1/RF_ecfp_scaffold_regression/b869f50b-92a3-40cc-b5c6-4c6eb305d5e2/model_metrics.json\n"
          ],
          "name": "stderr"
        },
        {
          "output_type": "stream",
          "text": [
            "Wrote model tarball to ampl_output/merge1_model_b869f50b-92a3-40cc-b5c6-4c6eb305d5e2.tar.gz\n",
            "rf_estimators: 32, rf_max_depth: 128, rf_max_features: 64, valid_r2: 0.5063086800653946\n",
            "number of features: 1024\n"
          ],
          "name": "stdout"
        },
        {
          "output_type": "stream",
          "text": [
            "2021-04-03 21:20:36,580 Previous dataset split restored\n"
          ],
          "name": "stderr"
        },
        {
          "output_type": "stream",
          "text": [
            "n_cnt [3119.]\n",
            "y_means [6.72793403]\n",
            "y_stds [1.18825005]\n",
            "TIMING: dataset construction took 0.119 s\n",
            "Loading dataset from disk.\n",
            "TIMING: dataset construction took 0.019 s\n",
            "Loading dataset from disk.\n",
            "TIMING: dataset construction took 0.018 s\n",
            "Loading dataset from disk.\n"
          ],
          "name": "stdout"
        },
        {
          "output_type": "stream",
          "text": [
            "2021-04-03 21:20:38,349 Wrote model metadata to file ampl_output/merge1/RF_ecfp_scaffold_regression/43feba23-8953-498f-adfc-6b18f3b5857c/model_metadata.json\n",
            "2021-04-03 21:20:38,412 Wrote model metrics to file ampl_output/merge1/RF_ecfp_scaffold_regression/43feba23-8953-498f-adfc-6b18f3b5857c/model_metrics.json\n"
          ],
          "name": "stderr"
        },
        {
          "output_type": "stream",
          "text": [
            "Wrote model tarball to ampl_output/merge1_model_43feba23-8953-498f-adfc-6b18f3b5857c.tar.gz\n",
            "rf_estimators: 32, rf_max_depth: 128, rf_max_features: 128, valid_r2: 0.5542158021165541\n",
            "number of features: 1024\n"
          ],
          "name": "stdout"
        },
        {
          "output_type": "stream",
          "text": [
            "2021-04-03 21:20:50,931 Previous dataset split restored\n"
          ],
          "name": "stderr"
        },
        {
          "output_type": "stream",
          "text": [
            "n_cnt [3119.]\n",
            "y_means [6.72793403]\n",
            "y_stds [1.18825005]\n",
            "TIMING: dataset construction took 0.116 s\n",
            "Loading dataset from disk.\n",
            "TIMING: dataset construction took 0.020 s\n",
            "Loading dataset from disk.\n",
            "TIMING: dataset construction took 0.019 s\n",
            "Loading dataset from disk.\n"
          ],
          "name": "stdout"
        },
        {
          "output_type": "stream",
          "text": [
            "2021-04-03 21:20:52,395 Wrote model metadata to file ampl_output/merge1/RF_ecfp_scaffold_regression/0df9645d-0497-44a4-b98e-3f315a3a5fc6/model_metadata.json\n",
            "2021-04-03 21:20:52,439 Wrote model metrics to file ampl_output/merge1/RF_ecfp_scaffold_regression/0df9645d-0497-44a4-b98e-3f315a3a5fc6/model_metrics.json\n"
          ],
          "name": "stderr"
        },
        {
          "output_type": "stream",
          "text": [
            "Wrote model tarball to ampl_output/merge1_model_0df9645d-0497-44a4-b98e-3f315a3a5fc6.tar.gz\n",
            "rf_estimators: 64, rf_max_depth: 16, rf_max_features: 16, valid_r2: 0.4294581529572864\n",
            "number of features: 1024\n"
          ],
          "name": "stdout"
        },
        {
          "output_type": "stream",
          "text": [
            "2021-04-03 21:21:04,876 Previous dataset split restored\n"
          ],
          "name": "stderr"
        },
        {
          "output_type": "stream",
          "text": [
            "n_cnt [3119.]\n",
            "y_means [6.72793403]\n",
            "y_stds [1.18825005]\n",
            "TIMING: dataset construction took 0.127 s\n",
            "Loading dataset from disk.\n",
            "TIMING: dataset construction took 0.019 s\n",
            "Loading dataset from disk.\n",
            "TIMING: dataset construction took 0.021 s\n",
            "Loading dataset from disk.\n"
          ],
          "name": "stdout"
        },
        {
          "output_type": "stream",
          "text": [
            "2021-04-03 21:21:06,489 Wrote model metadata to file ampl_output/merge1/RF_ecfp_scaffold_regression/b284f87f-f509-474a-889c-9c59d4614edf/model_metadata.json\n",
            "2021-04-03 21:21:06,534 Wrote model metrics to file ampl_output/merge1/RF_ecfp_scaffold_regression/b284f87f-f509-474a-889c-9c59d4614edf/model_metrics.json\n"
          ],
          "name": "stderr"
        },
        {
          "output_type": "stream",
          "text": [
            "Wrote model tarball to ampl_output/merge1_model_b284f87f-f509-474a-889c-9c59d4614edf.tar.gz\n",
            "rf_estimators: 64, rf_max_depth: 16, rf_max_features: 32, valid_r2: 0.46885664482647416\n",
            "number of features: 1024\n"
          ],
          "name": "stdout"
        },
        {
          "output_type": "stream",
          "text": [
            "2021-04-03 21:21:19,071 Previous dataset split restored\n"
          ],
          "name": "stderr"
        },
        {
          "output_type": "stream",
          "text": [
            "n_cnt [3119.]\n",
            "y_means [6.72793403]\n",
            "y_stds [1.18825005]\n",
            "TIMING: dataset construction took 0.118 s\n",
            "Loading dataset from disk.\n",
            "TIMING: dataset construction took 0.019 s\n",
            "Loading dataset from disk.\n",
            "TIMING: dataset construction took 0.018 s\n",
            "Loading dataset from disk.\n"
          ],
          "name": "stdout"
        },
        {
          "output_type": "stream",
          "text": [
            "2021-04-03 21:21:20,759 Wrote model metadata to file ampl_output/merge1/RF_ecfp_scaffold_regression/be220f1b-7ed1-460d-926a-9e99c570882a/model_metadata.json\n",
            "2021-04-03 21:21:20,808 Wrote model metrics to file ampl_output/merge1/RF_ecfp_scaffold_regression/be220f1b-7ed1-460d-926a-9e99c570882a/model_metrics.json\n"
          ],
          "name": "stderr"
        },
        {
          "output_type": "stream",
          "text": [
            "Wrote model tarball to ampl_output/merge1_model_be220f1b-7ed1-460d-926a-9e99c570882a.tar.gz\n",
            "rf_estimators: 64, rf_max_depth: 16, rf_max_features: 64, valid_r2: 0.4894164410692202\n",
            "number of features: 1024\n"
          ],
          "name": "stdout"
        },
        {
          "output_type": "stream",
          "text": [
            "2021-04-03 21:21:33,276 Previous dataset split restored\n"
          ],
          "name": "stderr"
        },
        {
          "output_type": "stream",
          "text": [
            "n_cnt [3119.]\n",
            "y_means [6.72793403]\n",
            "y_stds [1.18825005]\n",
            "TIMING: dataset construction took 0.117 s\n",
            "Loading dataset from disk.\n",
            "TIMING: dataset construction took 0.019 s\n",
            "Loading dataset from disk.\n",
            "TIMING: dataset construction took 0.018 s\n",
            "Loading dataset from disk.\n"
          ],
          "name": "stdout"
        },
        {
          "output_type": "stream",
          "text": [
            "2021-04-03 21:21:35,157 Wrote model metadata to file ampl_output/merge1/RF_ecfp_scaffold_regression/beab5c1a-b989-499d-9635-07d878218765/model_metadata.json\n",
            "2021-04-03 21:21:35,211 Wrote model metrics to file ampl_output/merge1/RF_ecfp_scaffold_regression/beab5c1a-b989-499d-9635-07d878218765/model_metrics.json\n"
          ],
          "name": "stderr"
        },
        {
          "output_type": "stream",
          "text": [
            "Wrote model tarball to ampl_output/merge1_model_beab5c1a-b989-499d-9635-07d878218765.tar.gz\n",
            "rf_estimators: 64, rf_max_depth: 16, rf_max_features: 128, valid_r2: 0.5267724654186998\n",
            "number of features: 1024\n"
          ],
          "name": "stdout"
        },
        {
          "output_type": "stream",
          "text": [
            "2021-04-03 21:21:47,560 Previous dataset split restored\n"
          ],
          "name": "stderr"
        },
        {
          "output_type": "stream",
          "text": [
            "n_cnt [3119.]\n",
            "y_means [6.72793403]\n",
            "y_stds [1.18825005]\n",
            "TIMING: dataset construction took 0.121 s\n",
            "Loading dataset from disk.\n",
            "TIMING: dataset construction took 0.020 s\n",
            "Loading dataset from disk.\n",
            "TIMING: dataset construction took 0.019 s\n",
            "Loading dataset from disk.\n"
          ],
          "name": "stdout"
        },
        {
          "output_type": "stream",
          "text": [
            "2021-04-03 21:21:49,340 Wrote model metadata to file ampl_output/merge1/RF_ecfp_scaffold_regression/8e38b665-184a-4a9b-aacf-146003cbdec2/model_metadata.json\n",
            "2021-04-03 21:21:49,445 Wrote model metrics to file ampl_output/merge1/RF_ecfp_scaffold_regression/8e38b665-184a-4a9b-aacf-146003cbdec2/model_metrics.json\n"
          ],
          "name": "stderr"
        },
        {
          "output_type": "stream",
          "text": [
            "Wrote model tarball to ampl_output/merge1_model_8e38b665-184a-4a9b-aacf-146003cbdec2.tar.gz\n",
            "rf_estimators: 64, rf_max_depth: 32, rf_max_features: 16, valid_r2: 0.5107351972680246\n",
            "number of features: 1024\n"
          ],
          "name": "stdout"
        },
        {
          "output_type": "stream",
          "text": [
            "2021-04-03 21:22:01,976 Previous dataset split restored\n"
          ],
          "name": "stderr"
        },
        {
          "output_type": "stream",
          "text": [
            "n_cnt [3119.]\n",
            "y_means [6.72793403]\n",
            "y_stds [1.18825005]\n",
            "TIMING: dataset construction took 0.118 s\n",
            "Loading dataset from disk.\n",
            "TIMING: dataset construction took 0.019 s\n",
            "Loading dataset from disk.\n",
            "TIMING: dataset construction took 0.018 s\n",
            "Loading dataset from disk.\n"
          ],
          "name": "stdout"
        },
        {
          "output_type": "stream",
          "text": [
            "2021-04-03 21:22:03,730 Wrote model metadata to file ampl_output/merge1/RF_ecfp_scaffold_regression/4a14ae7b-be3c-4202-8e54-5daa54fc042c/model_metadata.json\n",
            "2021-04-03 21:22:03,833 Wrote model metrics to file ampl_output/merge1/RF_ecfp_scaffold_regression/4a14ae7b-be3c-4202-8e54-5daa54fc042c/model_metrics.json\n"
          ],
          "name": "stderr"
        },
        {
          "output_type": "stream",
          "text": [
            "Wrote model tarball to ampl_output/merge1_model_4a14ae7b-be3c-4202-8e54-5daa54fc042c.tar.gz\n",
            "rf_estimators: 64, rf_max_depth: 32, rf_max_features: 32, valid_r2: 0.5313176799704677\n",
            "number of features: 1024\n"
          ],
          "name": "stdout"
        },
        {
          "output_type": "stream",
          "text": [
            "2021-04-03 21:22:16,227 Previous dataset split restored\n"
          ],
          "name": "stderr"
        },
        {
          "output_type": "stream",
          "text": [
            "n_cnt [3119.]\n",
            "y_means [6.72793403]\n",
            "y_stds [1.18825005]\n",
            "TIMING: dataset construction took 0.119 s\n",
            "Loading dataset from disk.\n",
            "TIMING: dataset construction took 0.019 s\n",
            "Loading dataset from disk.\n",
            "TIMING: dataset construction took 0.019 s\n",
            "Loading dataset from disk.\n"
          ],
          "name": "stdout"
        },
        {
          "output_type": "stream",
          "text": [
            "2021-04-03 21:22:18,170 Wrote model metadata to file ampl_output/merge1/RF_ecfp_scaffold_regression/4b3d6963-2035-40a5-a1d2-47d7529d2386/model_metadata.json\n",
            "2021-04-03 21:22:18,271 Wrote model metrics to file ampl_output/merge1/RF_ecfp_scaffold_regression/4b3d6963-2035-40a5-a1d2-47d7529d2386/model_metrics.json\n"
          ],
          "name": "stderr"
        },
        {
          "output_type": "stream",
          "text": [
            "Wrote model tarball to ampl_output/merge1_model_4b3d6963-2035-40a5-a1d2-47d7529d2386.tar.gz\n",
            "rf_estimators: 64, rf_max_depth: 32, rf_max_features: 64, valid_r2: 0.5260471058587588\n",
            "number of features: 1024\n"
          ],
          "name": "stdout"
        },
        {
          "output_type": "stream",
          "text": [
            "2021-04-03 21:22:30,687 Previous dataset split restored\n"
          ],
          "name": "stderr"
        },
        {
          "output_type": "stream",
          "text": [
            "n_cnt [3119.]\n",
            "y_means [6.72793403]\n",
            "y_stds [1.18825005]\n",
            "TIMING: dataset construction took 0.117 s\n",
            "Loading dataset from disk.\n",
            "TIMING: dataset construction took 0.019 s\n",
            "Loading dataset from disk.\n",
            "TIMING: dataset construction took 0.019 s\n",
            "Loading dataset from disk.\n"
          ],
          "name": "stdout"
        },
        {
          "output_type": "stream",
          "text": [
            "2021-04-03 21:22:32,849 Wrote model metadata to file ampl_output/merge1/RF_ecfp_scaffold_regression/82d7d6e7-3aa3-466e-a57c-f38333f5b4f8/model_metadata.json\n",
            "2021-04-03 21:22:32,955 Wrote model metrics to file ampl_output/merge1/RF_ecfp_scaffold_regression/82d7d6e7-3aa3-466e-a57c-f38333f5b4f8/model_metrics.json\n"
          ],
          "name": "stderr"
        },
        {
          "output_type": "stream",
          "text": [
            "Wrote model tarball to ampl_output/merge1_model_82d7d6e7-3aa3-466e-a57c-f38333f5b4f8.tar.gz\n",
            "rf_estimators: 64, rf_max_depth: 32, rf_max_features: 128, valid_r2: 0.5492595563649252\n",
            "number of features: 1024\n"
          ],
          "name": "stdout"
        },
        {
          "output_type": "stream",
          "text": [
            "2021-04-03 21:22:45,362 Previous dataset split restored\n"
          ],
          "name": "stderr"
        },
        {
          "output_type": "stream",
          "text": [
            "n_cnt [3119.]\n",
            "y_means [6.72793403]\n",
            "y_stds [1.18825005]\n",
            "TIMING: dataset construction took 0.116 s\n",
            "Loading dataset from disk.\n",
            "TIMING: dataset construction took 0.019 s\n",
            "Loading dataset from disk.\n",
            "TIMING: dataset construction took 0.018 s\n",
            "Loading dataset from disk.\n"
          ],
          "name": "stdout"
        },
        {
          "output_type": "stream",
          "text": [
            "2021-04-03 21:22:47,142 Wrote model metadata to file ampl_output/merge1/RF_ecfp_scaffold_regression/306a2080-cb7a-4d0a-b6ea-b4e6692cd433/model_metadata.json\n",
            "2021-04-03 21:22:47,268 Wrote model metrics to file ampl_output/merge1/RF_ecfp_scaffold_regression/306a2080-cb7a-4d0a-b6ea-b4e6692cd433/model_metrics.json\n"
          ],
          "name": "stderr"
        },
        {
          "output_type": "stream",
          "text": [
            "Wrote model tarball to ampl_output/merge1_model_306a2080-cb7a-4d0a-b6ea-b4e6692cd433.tar.gz\n",
            "rf_estimators: 64, rf_max_depth: 64, rf_max_features: 16, valid_r2: 0.5214291333944592\n",
            "number of features: 1024\n"
          ],
          "name": "stdout"
        },
        {
          "output_type": "stream",
          "text": [
            "2021-04-03 21:22:59,810 Previous dataset split restored\n"
          ],
          "name": "stderr"
        },
        {
          "output_type": "stream",
          "text": [
            "n_cnt [3119.]\n",
            "y_means [6.72793403]\n",
            "y_stds [1.18825005]\n",
            "TIMING: dataset construction took 0.118 s\n",
            "Loading dataset from disk.\n",
            "TIMING: dataset construction took 0.020 s\n",
            "Loading dataset from disk.\n",
            "TIMING: dataset construction took 0.019 s\n",
            "Loading dataset from disk.\n"
          ],
          "name": "stdout"
        },
        {
          "output_type": "stream",
          "text": [
            "2021-04-03 21:23:01,693 Wrote model metadata to file ampl_output/merge1/RF_ecfp_scaffold_regression/d25b6e2d-ff12-4c1f-9daa-acf2ff4e6aee/model_metadata.json\n",
            "2021-04-03 21:23:01,817 Wrote model metrics to file ampl_output/merge1/RF_ecfp_scaffold_regression/d25b6e2d-ff12-4c1f-9daa-acf2ff4e6aee/model_metrics.json\n"
          ],
          "name": "stderr"
        },
        {
          "output_type": "stream",
          "text": [
            "Wrote model tarball to ampl_output/merge1_model_d25b6e2d-ff12-4c1f-9daa-acf2ff4e6aee.tar.gz\n",
            "rf_estimators: 64, rf_max_depth: 64, rf_max_features: 32, valid_r2: 0.5285538648521548\n",
            "number of features: 1024\n"
          ],
          "name": "stdout"
        },
        {
          "output_type": "stream",
          "text": [
            "2021-04-03 21:23:14,233 Previous dataset split restored\n"
          ],
          "name": "stderr"
        },
        {
          "output_type": "stream",
          "text": [
            "n_cnt [3119.]\n",
            "y_means [6.72793403]\n",
            "y_stds [1.18825005]\n",
            "TIMING: dataset construction took 0.116 s\n",
            "Loading dataset from disk.\n",
            "TIMING: dataset construction took 0.018 s\n",
            "Loading dataset from disk.\n",
            "TIMING: dataset construction took 0.018 s\n",
            "Loading dataset from disk.\n"
          ],
          "name": "stdout"
        },
        {
          "output_type": "stream",
          "text": [
            "2021-04-03 21:23:16,205 Wrote model metadata to file ampl_output/merge1/RF_ecfp_scaffold_regression/ab961f31-fc3c-4f3c-bb1d-42953e70baab/model_metadata.json\n",
            "2021-04-03 21:23:16,329 Wrote model metrics to file ampl_output/merge1/RF_ecfp_scaffold_regression/ab961f31-fc3c-4f3c-bb1d-42953e70baab/model_metrics.json\n"
          ],
          "name": "stderr"
        },
        {
          "output_type": "stream",
          "text": [
            "Wrote model tarball to ampl_output/merge1_model_ab961f31-fc3c-4f3c-bb1d-42953e70baab.tar.gz\n",
            "rf_estimators: 64, rf_max_depth: 64, rf_max_features: 64, valid_r2: 0.5414935435785453\n",
            "number of features: 1024\n"
          ],
          "name": "stdout"
        },
        {
          "output_type": "stream",
          "text": [
            "2021-04-03 21:23:28,726 Previous dataset split restored\n"
          ],
          "name": "stderr"
        },
        {
          "output_type": "stream",
          "text": [
            "n_cnt [3119.]\n",
            "y_means [6.72793403]\n",
            "y_stds [1.18825005]\n",
            "TIMING: dataset construction took 0.116 s\n",
            "Loading dataset from disk.\n",
            "TIMING: dataset construction took 0.019 s\n",
            "Loading dataset from disk.\n",
            "TIMING: dataset construction took 0.018 s\n",
            "Loading dataset from disk.\n"
          ],
          "name": "stdout"
        },
        {
          "output_type": "stream",
          "text": [
            "2021-04-03 21:23:30,996 Wrote model metadata to file ampl_output/merge1/RF_ecfp_scaffold_regression/2f0bb464-25e2-4002-835a-7a32478b37d8/model_metadata.json\n",
            "2021-04-03 21:23:31,120 Wrote model metrics to file ampl_output/merge1/RF_ecfp_scaffold_regression/2f0bb464-25e2-4002-835a-7a32478b37d8/model_metrics.json\n"
          ],
          "name": "stderr"
        },
        {
          "output_type": "stream",
          "text": [
            "Wrote model tarball to ampl_output/merge1_model_2f0bb464-25e2-4002-835a-7a32478b37d8.tar.gz\n",
            "rf_estimators: 64, rf_max_depth: 64, rf_max_features: 128, valid_r2: 0.5245521924918328\n",
            "number of features: 1024\n"
          ],
          "name": "stdout"
        },
        {
          "output_type": "stream",
          "text": [
            "2021-04-03 21:23:43,464 Previous dataset split restored\n"
          ],
          "name": "stderr"
        },
        {
          "output_type": "stream",
          "text": [
            "n_cnt [3119.]\n",
            "y_means [6.72793403]\n",
            "y_stds [1.18825005]\n",
            "TIMING: dataset construction took 0.123 s\n",
            "Loading dataset from disk.\n",
            "TIMING: dataset construction took 0.019 s\n",
            "Loading dataset from disk.\n",
            "TIMING: dataset construction took 0.018 s\n",
            "Loading dataset from disk.\n"
          ],
          "name": "stdout"
        },
        {
          "output_type": "stream",
          "text": [
            "2021-04-03 21:23:45,251 Wrote model metadata to file ampl_output/merge1/RF_ecfp_scaffold_regression/03de34af-ee04-429c-b913-e9018e71fc40/model_metadata.json\n",
            "2021-04-03 21:23:45,374 Wrote model metrics to file ampl_output/merge1/RF_ecfp_scaffold_regression/03de34af-ee04-429c-b913-e9018e71fc40/model_metrics.json\n"
          ],
          "name": "stderr"
        },
        {
          "output_type": "stream",
          "text": [
            "Wrote model tarball to ampl_output/merge1_model_03de34af-ee04-429c-b913-e9018e71fc40.tar.gz\n",
            "rf_estimators: 64, rf_max_depth: 128, rf_max_features: 16, valid_r2: 0.5332135095751217\n",
            "number of features: 1024\n"
          ],
          "name": "stdout"
        },
        {
          "output_type": "stream",
          "text": [
            "2021-04-03 21:23:57,814 Previous dataset split restored\n"
          ],
          "name": "stderr"
        },
        {
          "output_type": "stream",
          "text": [
            "n_cnt [3119.]\n",
            "y_means [6.72793403]\n",
            "y_stds [1.18825005]\n",
            "TIMING: dataset construction took 0.126 s\n",
            "Loading dataset from disk.\n",
            "TIMING: dataset construction took 0.020 s\n",
            "Loading dataset from disk.\n",
            "TIMING: dataset construction took 0.021 s\n",
            "Loading dataset from disk.\n"
          ],
          "name": "stdout"
        },
        {
          "output_type": "stream",
          "text": [
            "2021-04-03 21:23:59,728 Wrote model metadata to file ampl_output/merge1/RF_ecfp_scaffold_regression/1e985e29-d903-42b4-a39d-5b1bba8030bd/model_metadata.json\n",
            "2021-04-03 21:23:59,852 Wrote model metrics to file ampl_output/merge1/RF_ecfp_scaffold_regression/1e985e29-d903-42b4-a39d-5b1bba8030bd/model_metrics.json\n"
          ],
          "name": "stderr"
        },
        {
          "output_type": "stream",
          "text": [
            "Wrote model tarball to ampl_output/merge1_model_1e985e29-d903-42b4-a39d-5b1bba8030bd.tar.gz\n",
            "rf_estimators: 64, rf_max_depth: 128, rf_max_features: 32, valid_r2: 0.5394951831763136\n",
            "number of features: 1024\n"
          ],
          "name": "stdout"
        },
        {
          "output_type": "stream",
          "text": [
            "2021-04-03 21:24:12,339 Previous dataset split restored\n"
          ],
          "name": "stderr"
        },
        {
          "output_type": "stream",
          "text": [
            "n_cnt [3119.]\n",
            "y_means [6.72793403]\n",
            "y_stds [1.18825005]\n",
            "TIMING: dataset construction took 0.119 s\n",
            "Loading dataset from disk.\n",
            "TIMING: dataset construction took 0.019 s\n",
            "Loading dataset from disk.\n",
            "TIMING: dataset construction took 0.018 s\n",
            "Loading dataset from disk.\n"
          ],
          "name": "stdout"
        },
        {
          "output_type": "stream",
          "text": [
            "2021-04-03 21:24:14,425 Wrote model metadata to file ampl_output/merge1/RF_ecfp_scaffold_regression/455633be-5b93-461e-aa1d-f4133ec3bb40/model_metadata.json\n",
            "2021-04-03 21:24:14,549 Wrote model metrics to file ampl_output/merge1/RF_ecfp_scaffold_regression/455633be-5b93-461e-aa1d-f4133ec3bb40/model_metrics.json\n"
          ],
          "name": "stderr"
        },
        {
          "output_type": "stream",
          "text": [
            "Wrote model tarball to ampl_output/merge1_model_455633be-5b93-461e-aa1d-f4133ec3bb40.tar.gz\n",
            "rf_estimators: 64, rf_max_depth: 128, rf_max_features: 64, valid_r2: 0.5318873822962953\n",
            "number of features: 1024\n"
          ],
          "name": "stdout"
        },
        {
          "output_type": "stream",
          "text": [
            "2021-04-03 21:24:26,920 Previous dataset split restored\n"
          ],
          "name": "stderr"
        },
        {
          "output_type": "stream",
          "text": [
            "n_cnt [3119.]\n",
            "y_means [6.72793403]\n",
            "y_stds [1.18825005]\n",
            "TIMING: dataset construction took 0.116 s\n",
            "Loading dataset from disk.\n",
            "TIMING: dataset construction took 0.019 s\n",
            "Loading dataset from disk.\n",
            "TIMING: dataset construction took 0.018 s\n",
            "Loading dataset from disk.\n"
          ],
          "name": "stdout"
        },
        {
          "output_type": "stream",
          "text": [
            "2021-04-03 21:24:29,212 Wrote model metadata to file ampl_output/merge1/RF_ecfp_scaffold_regression/92f5b30d-630d-436f-9014-fe16dea08418/model_metadata.json\n",
            "2021-04-03 21:24:29,336 Wrote model metrics to file ampl_output/merge1/RF_ecfp_scaffold_regression/92f5b30d-630d-436f-9014-fe16dea08418/model_metrics.json\n"
          ],
          "name": "stderr"
        },
        {
          "output_type": "stream",
          "text": [
            "Wrote model tarball to ampl_output/merge1_model_92f5b30d-630d-436f-9014-fe16dea08418.tar.gz\n",
            "rf_estimators: 64, rf_max_depth: 128, rf_max_features: 128, valid_r2: 0.5516541948650997\n",
            "number of features: 1024\n"
          ],
          "name": "stdout"
        },
        {
          "output_type": "stream",
          "text": [
            "2021-04-03 21:24:41,765 Previous dataset split restored\n"
          ],
          "name": "stderr"
        },
        {
          "output_type": "stream",
          "text": [
            "n_cnt [3119.]\n",
            "y_means [6.72793403]\n",
            "y_stds [1.18825005]\n",
            "TIMING: dataset construction took 0.116 s\n",
            "Loading dataset from disk.\n",
            "TIMING: dataset construction took 0.019 s\n",
            "Loading dataset from disk.\n",
            "TIMING: dataset construction took 0.018 s\n",
            "Loading dataset from disk.\n"
          ],
          "name": "stdout"
        },
        {
          "output_type": "stream",
          "text": [
            "2021-04-03 21:24:43,524 Wrote model metadata to file ampl_output/merge1/RF_ecfp_scaffold_regression/9061067d-7678-47e7-9342-cf4670ef5553/model_metadata.json\n",
            "2021-04-03 21:24:43,600 Wrote model metrics to file ampl_output/merge1/RF_ecfp_scaffold_regression/9061067d-7678-47e7-9342-cf4670ef5553/model_metrics.json\n"
          ],
          "name": "stderr"
        },
        {
          "output_type": "stream",
          "text": [
            "Wrote model tarball to ampl_output/merge1_model_9061067d-7678-47e7-9342-cf4670ef5553.tar.gz\n",
            "rf_estimators: 128, rf_max_depth: 16, rf_max_features: 16, valid_r2: 0.4350209459055038\n",
            "number of features: 1024\n"
          ],
          "name": "stdout"
        },
        {
          "output_type": "stream",
          "text": [
            "2021-04-03 21:24:55,964 Previous dataset split restored\n"
          ],
          "name": "stderr"
        },
        {
          "output_type": "stream",
          "text": [
            "n_cnt [3119.]\n",
            "y_means [6.72793403]\n",
            "y_stds [1.18825005]\n",
            "TIMING: dataset construction took 0.117 s\n",
            "Loading dataset from disk.\n",
            "TIMING: dataset construction took 0.019 s\n",
            "Loading dataset from disk.\n",
            "TIMING: dataset construction took 0.018 s\n",
            "Loading dataset from disk.\n"
          ],
          "name": "stdout"
        },
        {
          "output_type": "stream",
          "text": [
            "2021-04-03 21:24:57,861 Wrote model metadata to file ampl_output/merge1/RF_ecfp_scaffold_regression/c28249ae-8912-4383-bbf8-ee0ae4e37512/model_metadata.json\n",
            "2021-04-03 21:24:57,949 Wrote model metrics to file ampl_output/merge1/RF_ecfp_scaffold_regression/c28249ae-8912-4383-bbf8-ee0ae4e37512/model_metrics.json\n"
          ],
          "name": "stderr"
        },
        {
          "output_type": "stream",
          "text": [
            "Wrote model tarball to ampl_output/merge1_model_c28249ae-8912-4383-bbf8-ee0ae4e37512.tar.gz\n",
            "rf_estimators: 128, rf_max_depth: 16, rf_max_features: 32, valid_r2: 0.47399790553475796\n",
            "number of features: 1024\n"
          ],
          "name": "stdout"
        },
        {
          "output_type": "stream",
          "text": [
            "2021-04-03 21:25:10,456 Previous dataset split restored\n"
          ],
          "name": "stderr"
        },
        {
          "output_type": "stream",
          "text": [
            "n_cnt [3119.]\n",
            "y_means [6.72793403]\n",
            "y_stds [1.18825005]\n",
            "TIMING: dataset construction took 0.118 s\n",
            "Loading dataset from disk.\n",
            "TIMING: dataset construction took 0.018 s\n",
            "Loading dataset from disk.\n",
            "TIMING: dataset construction took 0.018 s\n",
            "Loading dataset from disk.\n"
          ],
          "name": "stdout"
        },
        {
          "output_type": "stream",
          "text": [
            "2021-04-03 21:25:12,552 Wrote model metadata to file ampl_output/merge1/RF_ecfp_scaffold_regression/1eec0d12-f2b6-41cf-b0ba-522a96c06400/model_metadata.json\n",
            "2021-04-03 21:25:12,645 Wrote model metrics to file ampl_output/merge1/RF_ecfp_scaffold_regression/1eec0d12-f2b6-41cf-b0ba-522a96c06400/model_metrics.json\n"
          ],
          "name": "stderr"
        },
        {
          "output_type": "stream",
          "text": [
            "Wrote model tarball to ampl_output/merge1_model_1eec0d12-f2b6-41cf-b0ba-522a96c06400.tar.gz\n",
            "rf_estimators: 128, rf_max_depth: 16, rf_max_features: 64, valid_r2: 0.49955117822358563\n",
            "number of features: 1024\n"
          ],
          "name": "stdout"
        },
        {
          "output_type": "stream",
          "text": [
            "2021-04-03 21:25:25,045 Previous dataset split restored\n"
          ],
          "name": "stderr"
        },
        {
          "output_type": "stream",
          "text": [
            "n_cnt [3119.]\n",
            "y_means [6.72793403]\n",
            "y_stds [1.18825005]\n",
            "TIMING: dataset construction took 0.121 s\n",
            "Loading dataset from disk.\n",
            "TIMING: dataset construction took 0.019 s\n",
            "Loading dataset from disk.\n",
            "TIMING: dataset construction took 0.019 s\n",
            "Loading dataset from disk.\n"
          ],
          "name": "stdout"
        },
        {
          "output_type": "stream",
          "text": [
            "2021-04-03 21:25:27,539 Wrote model metadata to file ampl_output/merge1/RF_ecfp_scaffold_regression/3af09bdc-8701-476b-a249-ca828a860a9c/model_metadata.json\n",
            "2021-04-03 21:25:27,635 Wrote model metrics to file ampl_output/merge1/RF_ecfp_scaffold_regression/3af09bdc-8701-476b-a249-ca828a860a9c/model_metrics.json\n"
          ],
          "name": "stderr"
        },
        {
          "output_type": "stream",
          "text": [
            "Wrote model tarball to ampl_output/merge1_model_3af09bdc-8701-476b-a249-ca828a860a9c.tar.gz\n",
            "rf_estimators: 128, rf_max_depth: 16, rf_max_features: 128, valid_r2: 0.5106547166577438\n",
            "number of features: 1024\n"
          ],
          "name": "stdout"
        },
        {
          "output_type": "stream",
          "text": [
            "2021-04-03 21:25:40,080 Previous dataset split restored\n"
          ],
          "name": "stderr"
        },
        {
          "output_type": "stream",
          "text": [
            "n_cnt [3119.]\n",
            "y_means [6.72793403]\n",
            "y_stds [1.18825005]\n",
            "TIMING: dataset construction took 0.132 s\n",
            "Loading dataset from disk.\n",
            "TIMING: dataset construction took 0.021 s\n",
            "Loading dataset from disk.\n",
            "TIMING: dataset construction took 0.020 s\n",
            "Loading dataset from disk.\n"
          ],
          "name": "stdout"
        },
        {
          "output_type": "stream",
          "text": [
            "2021-04-03 21:25:42,351 Wrote model metadata to file ampl_output/merge1/RF_ecfp_scaffold_regression/fc2d2a19-7066-40b4-a80f-07544dd2ccb9/model_metadata.json\n",
            "2021-04-03 21:25:42,539 Wrote model metrics to file ampl_output/merge1/RF_ecfp_scaffold_regression/fc2d2a19-7066-40b4-a80f-07544dd2ccb9/model_metrics.json\n"
          ],
          "name": "stderr"
        },
        {
          "output_type": "stream",
          "text": [
            "Wrote model tarball to ampl_output/merge1_model_fc2d2a19-7066-40b4-a80f-07544dd2ccb9.tar.gz\n",
            "rf_estimators: 128, rf_max_depth: 32, rf_max_features: 16, valid_r2: 0.5148973735839862\n",
            "number of features: 1024\n"
          ],
          "name": "stdout"
        },
        {
          "output_type": "stream",
          "text": [
            "2021-04-03 21:25:54,964 Previous dataset split restored\n"
          ],
          "name": "stderr"
        },
        {
          "output_type": "stream",
          "text": [
            "n_cnt [3119.]\n",
            "y_means [6.72793403]\n",
            "y_stds [1.18825005]\n",
            "TIMING: dataset construction took 0.119 s\n",
            "Loading dataset from disk.\n",
            "TIMING: dataset construction took 0.019 s\n",
            "Loading dataset from disk.\n",
            "TIMING: dataset construction took 0.019 s\n",
            "Loading dataset from disk.\n"
          ],
          "name": "stdout"
        },
        {
          "output_type": "stream",
          "text": [
            "2021-04-03 21:25:57,310 Wrote model metadata to file ampl_output/merge1/RF_ecfp_scaffold_regression/54a81236-0f3f-4633-8318-617a4e6cb7d8/model_metadata.json\n",
            "2021-04-03 21:25:57,514 Wrote model metrics to file ampl_output/merge1/RF_ecfp_scaffold_regression/54a81236-0f3f-4633-8318-617a4e6cb7d8/model_metrics.json\n"
          ],
          "name": "stderr"
        },
        {
          "output_type": "stream",
          "text": [
            "Wrote model tarball to ampl_output/merge1_model_54a81236-0f3f-4633-8318-617a4e6cb7d8.tar.gz\n",
            "rf_estimators: 128, rf_max_depth: 32, rf_max_features: 32, valid_r2: 0.5236215771201334\n",
            "number of features: 1024\n"
          ],
          "name": "stdout"
        },
        {
          "output_type": "stream",
          "text": [
            "2021-04-03 21:26:09,912 Previous dataset split restored\n"
          ],
          "name": "stderr"
        },
        {
          "output_type": "stream",
          "text": [
            "n_cnt [3119.]\n",
            "y_means [6.72793403]\n",
            "y_stds [1.18825005]\n",
            "TIMING: dataset construction took 0.118 s\n",
            "Loading dataset from disk.\n",
            "TIMING: dataset construction took 0.019 s\n",
            "Loading dataset from disk.\n",
            "TIMING: dataset construction took 0.019 s\n",
            "Loading dataset from disk.\n"
          ],
          "name": "stdout"
        },
        {
          "output_type": "stream",
          "text": [
            "2021-04-03 21:26:12,535 Wrote model metadata to file ampl_output/merge1/RF_ecfp_scaffold_regression/ce9dbc2e-d70b-424e-9759-a7219cda22ab/model_metadata.json\n",
            "2021-04-03 21:26:12,735 Wrote model metrics to file ampl_output/merge1/RF_ecfp_scaffold_regression/ce9dbc2e-d70b-424e-9759-a7219cda22ab/model_metrics.json\n"
          ],
          "name": "stderr"
        },
        {
          "output_type": "stream",
          "text": [
            "Wrote model tarball to ampl_output/merge1_model_ce9dbc2e-d70b-424e-9759-a7219cda22ab.tar.gz\n",
            "rf_estimators: 128, rf_max_depth: 32, rf_max_features: 64, valid_r2: 0.5307439277932264\n",
            "number of features: 1024\n"
          ],
          "name": "stdout"
        },
        {
          "output_type": "stream",
          "text": [
            "2021-04-03 21:26:25,234 Previous dataset split restored\n"
          ],
          "name": "stderr"
        },
        {
          "output_type": "stream",
          "text": [
            "n_cnt [3119.]\n",
            "y_means [6.72793403]\n",
            "y_stds [1.18825005]\n",
            "TIMING: dataset construction took 0.115 s\n",
            "Loading dataset from disk.\n",
            "TIMING: dataset construction took 0.018 s\n",
            "Loading dataset from disk.\n",
            "TIMING: dataset construction took 0.018 s\n",
            "Loading dataset from disk.\n"
          ],
          "name": "stdout"
        },
        {
          "output_type": "stream",
          "text": [
            "2021-04-03 21:26:28,371 Wrote model metadata to file ampl_output/merge1/RF_ecfp_scaffold_regression/ff7ea524-9202-4622-b7ec-670b99d317db/model_metadata.json\n",
            "2021-04-03 21:26:28,569 Wrote model metrics to file ampl_output/merge1/RF_ecfp_scaffold_regression/ff7ea524-9202-4622-b7ec-670b99d317db/model_metrics.json\n"
          ],
          "name": "stderr"
        },
        {
          "output_type": "stream",
          "text": [
            "Wrote model tarball to ampl_output/merge1_model_ff7ea524-9202-4622-b7ec-670b99d317db.tar.gz\n",
            "rf_estimators: 128, rf_max_depth: 32, rf_max_features: 128, valid_r2: 0.5442478150614833\n",
            "number of features: 1024\n"
          ],
          "name": "stdout"
        },
        {
          "output_type": "stream",
          "text": [
            "2021-04-03 21:26:41,032 Previous dataset split restored\n"
          ],
          "name": "stderr"
        },
        {
          "output_type": "stream",
          "text": [
            "n_cnt [3119.]\n",
            "y_means [6.72793403]\n",
            "y_stds [1.18825005]\n",
            "TIMING: dataset construction took 0.117 s\n",
            "Loading dataset from disk.\n",
            "TIMING: dataset construction took 0.019 s\n",
            "Loading dataset from disk.\n",
            "TIMING: dataset construction took 0.019 s\n",
            "Loading dataset from disk.\n"
          ],
          "name": "stdout"
        },
        {
          "output_type": "stream",
          "text": [
            "2021-04-03 21:26:43,430 Wrote model metadata to file ampl_output/merge1/RF_ecfp_scaffold_regression/c5b13c32-e5c0-469e-87d8-d142b4478782/model_metadata.json\n",
            "2021-04-03 21:26:43,674 Wrote model metrics to file ampl_output/merge1/RF_ecfp_scaffold_regression/c5b13c32-e5c0-469e-87d8-d142b4478782/model_metrics.json\n"
          ],
          "name": "stderr"
        },
        {
          "output_type": "stream",
          "text": [
            "Wrote model tarball to ampl_output/merge1_model_c5b13c32-e5c0-469e-87d8-d142b4478782.tar.gz\n",
            "rf_estimators: 128, rf_max_depth: 64, rf_max_features: 16, valid_r2: 0.5196094362933681\n",
            "number of features: 1024\n"
          ],
          "name": "stdout"
        },
        {
          "output_type": "stream",
          "text": [
            "2021-04-03 21:26:56,212 Previous dataset split restored\n"
          ],
          "name": "stderr"
        },
        {
          "output_type": "stream",
          "text": [
            "n_cnt [3119.]\n",
            "y_means [6.72793403]\n",
            "y_stds [1.18825005]\n",
            "TIMING: dataset construction took 0.117 s\n",
            "Loading dataset from disk.\n",
            "TIMING: dataset construction took 0.019 s\n",
            "Loading dataset from disk.\n",
            "TIMING: dataset construction took 0.018 s\n",
            "Loading dataset from disk.\n"
          ],
          "name": "stdout"
        },
        {
          "output_type": "stream",
          "text": [
            "2021-04-03 21:26:58,849 Wrote model metadata to file ampl_output/merge1/RF_ecfp_scaffold_regression/8e3689ba-5f1c-438b-b407-2c1c7d28bdf6/model_metadata.json\n",
            "2021-04-03 21:26:59,093 Wrote model metrics to file ampl_output/merge1/RF_ecfp_scaffold_regression/8e3689ba-5f1c-438b-b407-2c1c7d28bdf6/model_metrics.json\n"
          ],
          "name": "stderr"
        },
        {
          "output_type": "stream",
          "text": [
            "Wrote model tarball to ampl_output/merge1_model_8e3689ba-5f1c-438b-b407-2c1c7d28bdf6.tar.gz\n",
            "rf_estimators: 128, rf_max_depth: 64, rf_max_features: 32, valid_r2: 0.5366444713650439\n",
            "number of features: 1024\n"
          ],
          "name": "stdout"
        },
        {
          "output_type": "stream",
          "text": [
            "2021-04-03 21:27:11,479 Previous dataset split restored\n"
          ],
          "name": "stderr"
        },
        {
          "output_type": "stream",
          "text": [
            "n_cnt [3119.]\n",
            "y_means [6.72793403]\n",
            "y_stds [1.18825005]\n",
            "TIMING: dataset construction took 0.117 s\n",
            "Loading dataset from disk.\n",
            "TIMING: dataset construction took 0.019 s\n",
            "Loading dataset from disk.\n",
            "TIMING: dataset construction took 0.018 s\n",
            "Loading dataset from disk.\n"
          ],
          "name": "stdout"
        },
        {
          "output_type": "stream",
          "text": [
            "2021-04-03 21:27:14,267 Wrote model metadata to file ampl_output/merge1/RF_ecfp_scaffold_regression/b872a903-21f9-4d00-8c92-5fbd1c1fd292/model_metadata.json\n",
            "2021-04-03 21:27:14,508 Wrote model metrics to file ampl_output/merge1/RF_ecfp_scaffold_regression/b872a903-21f9-4d00-8c92-5fbd1c1fd292/model_metrics.json\n"
          ],
          "name": "stderr"
        },
        {
          "output_type": "stream",
          "text": [
            "Wrote model tarball to ampl_output/merge1_model_b872a903-21f9-4d00-8c92-5fbd1c1fd292.tar.gz\n",
            "rf_estimators: 128, rf_max_depth: 64, rf_max_features: 64, valid_r2: 0.536833442026132\n",
            "number of features: 1024\n"
          ],
          "name": "stdout"
        },
        {
          "output_type": "stream",
          "text": [
            "2021-04-03 21:27:26,982 Previous dataset split restored\n"
          ],
          "name": "stderr"
        },
        {
          "output_type": "stream",
          "text": [
            "n_cnt [3119.]\n",
            "y_means [6.72793403]\n",
            "y_stds [1.18825005]\n",
            "TIMING: dataset construction took 0.118 s\n",
            "Loading dataset from disk.\n",
            "TIMING: dataset construction took 0.019 s\n",
            "Loading dataset from disk.\n",
            "TIMING: dataset construction took 0.018 s\n",
            "Loading dataset from disk.\n"
          ],
          "name": "stdout"
        },
        {
          "output_type": "stream",
          "text": [
            "2021-04-03 21:27:30,277 Wrote model metadata to file ampl_output/merge1/RF_ecfp_scaffold_regression/c241800d-0b1b-4792-9126-c9abeb296377/model_metadata.json\n",
            "2021-04-03 21:27:30,516 Wrote model metrics to file ampl_output/merge1/RF_ecfp_scaffold_regression/c241800d-0b1b-4792-9126-c9abeb296377/model_metrics.json\n"
          ],
          "name": "stderr"
        },
        {
          "output_type": "stream",
          "text": [
            "Wrote model tarball to ampl_output/merge1_model_c241800d-0b1b-4792-9126-c9abeb296377.tar.gz\n",
            "rf_estimators: 128, rf_max_depth: 64, rf_max_features: 128, valid_r2: 0.5456126461860751\n",
            "number of features: 1024\n"
          ],
          "name": "stdout"
        },
        {
          "output_type": "stream",
          "text": [
            "2021-04-03 21:27:42,890 Previous dataset split restored\n"
          ],
          "name": "stderr"
        },
        {
          "output_type": "stream",
          "text": [
            "n_cnt [3119.]\n",
            "y_means [6.72793403]\n",
            "y_stds [1.18825005]\n",
            "TIMING: dataset construction took 0.122 s\n",
            "Loading dataset from disk.\n",
            "TIMING: dataset construction took 0.019 s\n",
            "Loading dataset from disk.\n",
            "TIMING: dataset construction took 0.019 s\n",
            "Loading dataset from disk.\n"
          ],
          "name": "stdout"
        },
        {
          "output_type": "stream",
          "text": [
            "2021-04-03 21:27:45,280 Wrote model metadata to file ampl_output/merge1/RF_ecfp_scaffold_regression/9d1a8ada-b131-4175-b195-e33840043828/model_metadata.json\n",
            "2021-04-03 21:27:45,523 Wrote model metrics to file ampl_output/merge1/RF_ecfp_scaffold_regression/9d1a8ada-b131-4175-b195-e33840043828/model_metrics.json\n"
          ],
          "name": "stderr"
        },
        {
          "output_type": "stream",
          "text": [
            "Wrote model tarball to ampl_output/merge1_model_9d1a8ada-b131-4175-b195-e33840043828.tar.gz\n",
            "rf_estimators: 128, rf_max_depth: 128, rf_max_features: 16, valid_r2: 0.5317527549325818\n",
            "number of features: 1024\n"
          ],
          "name": "stdout"
        },
        {
          "output_type": "stream",
          "text": [
            "2021-04-03 21:27:57,981 Previous dataset split restored\n"
          ],
          "name": "stderr"
        },
        {
          "output_type": "stream",
          "text": [
            "n_cnt [3119.]\n",
            "y_means [6.72793403]\n",
            "y_stds [1.18825005]\n",
            "TIMING: dataset construction took 0.118 s\n",
            "Loading dataset from disk.\n",
            "TIMING: dataset construction took 0.020 s\n",
            "Loading dataset from disk.\n",
            "TIMING: dataset construction took 0.018 s\n",
            "Loading dataset from disk.\n"
          ],
          "name": "stdout"
        },
        {
          "output_type": "stream",
          "text": [
            "2021-04-03 21:28:00,582 Wrote model metadata to file ampl_output/merge1/RF_ecfp_scaffold_regression/a8f8963b-1523-4605-8109-2b78420b89a0/model_metadata.json\n",
            "2021-04-03 21:28:00,827 Wrote model metrics to file ampl_output/merge1/RF_ecfp_scaffold_regression/a8f8963b-1523-4605-8109-2b78420b89a0/model_metrics.json\n"
          ],
          "name": "stderr"
        },
        {
          "output_type": "stream",
          "text": [
            "Wrote model tarball to ampl_output/merge1_model_a8f8963b-1523-4605-8109-2b78420b89a0.tar.gz\n",
            "rf_estimators: 128, rf_max_depth: 128, rf_max_features: 32, valid_r2: 0.5375484326558061\n",
            "number of features: 1024\n"
          ],
          "name": "stdout"
        },
        {
          "output_type": "stream",
          "text": [
            "2021-04-03 21:28:13,223 Previous dataset split restored\n"
          ],
          "name": "stderr"
        },
        {
          "output_type": "stream",
          "text": [
            "n_cnt [3119.]\n",
            "y_means [6.72793403]\n",
            "y_stds [1.18825005]\n",
            "TIMING: dataset construction took 0.116 s\n",
            "Loading dataset from disk.\n",
            "TIMING: dataset construction took 0.019 s\n",
            "Loading dataset from disk.\n",
            "TIMING: dataset construction took 0.018 s\n",
            "Loading dataset from disk.\n"
          ],
          "name": "stdout"
        },
        {
          "output_type": "stream",
          "text": [
            "2021-04-03 21:28:16,005 Wrote model metadata to file ampl_output/merge1/RF_ecfp_scaffold_regression/5cf13e9e-25aa-4646-bf5d-afac7dfbbb8d/model_metadata.json\n",
            "2021-04-03 21:28:16,251 Wrote model metrics to file ampl_output/merge1/RF_ecfp_scaffold_regression/5cf13e9e-25aa-4646-bf5d-afac7dfbbb8d/model_metrics.json\n"
          ],
          "name": "stderr"
        },
        {
          "output_type": "stream",
          "text": [
            "Wrote model tarball to ampl_output/merge1_model_5cf13e9e-25aa-4646-bf5d-afac7dfbbb8d.tar.gz\n",
            "rf_estimators: 128, rf_max_depth: 128, rf_max_features: 64, valid_r2: 0.5454743880289505\n",
            "number of features: 1024\n"
          ],
          "name": "stdout"
        },
        {
          "output_type": "stream",
          "text": [
            "2021-04-03 21:28:28,726 Previous dataset split restored\n"
          ],
          "name": "stderr"
        },
        {
          "output_type": "stream",
          "text": [
            "n_cnt [3119.]\n",
            "y_means [6.72793403]\n",
            "y_stds [1.18825005]\n",
            "TIMING: dataset construction took 0.116 s\n",
            "Loading dataset from disk.\n",
            "TIMING: dataset construction took 0.019 s\n",
            "Loading dataset from disk.\n",
            "TIMING: dataset construction took 0.019 s\n",
            "Loading dataset from disk.\n"
          ],
          "name": "stdout"
        },
        {
          "output_type": "stream",
          "text": [
            "2021-04-03 21:28:32,119 Wrote model metadata to file ampl_output/merge1/RF_ecfp_scaffold_regression/8adcb1e9-7da8-47ba-af5c-275be795c5b9/model_metadata.json\n",
            "2021-04-03 21:28:32,360 Wrote model metrics to file ampl_output/merge1/RF_ecfp_scaffold_regression/8adcb1e9-7da8-47ba-af5c-275be795c5b9/model_metrics.json\n"
          ],
          "name": "stderr"
        },
        {
          "output_type": "stream",
          "text": [
            "Wrote model tarball to ampl_output/merge1_model_8adcb1e9-7da8-47ba-af5c-275be795c5b9.tar.gz\n",
            "rf_estimators: 128, rf_max_depth: 128, rf_max_features: 128, valid_r2: 0.5331208397994567\n"
          ],
          "name": "stdout"
        }
      ]
    },
    {
      "cell_type": "code",
      "metadata": {
        "id": "XSDa2HTH6wbD",
        "colab": {
          "base_uri": "https://localhost:8080/",
          "height": 419
        },
        "outputId": "88c2a5fc-3981-4896-9152-6a33367c03cb"
      },
      "source": [
        "perf_df = pd.DataFrame({\"rf_estimators\": rfe_list, \"rf_max_depth\": rfd_list, \"rf_max_features\": rff_list, \"valid_r2_score\": valid_r2_list})\n",
        "perf_df.sort_values(by=\"valid_r2_score\", ascending=False)"
      ],
      "execution_count": 40,
      "outputs": [
        {
          "output_type": "execute_result",
          "data": {
            "text/html": [
              "<div>\n",
              "<style scoped>\n",
              "    .dataframe tbody tr th:only-of-type {\n",
              "        vertical-align: middle;\n",
              "    }\n",
              "\n",
              "    .dataframe tbody tr th {\n",
              "        vertical-align: top;\n",
              "    }\n",
              "\n",
              "    .dataframe thead th {\n",
              "        text-align: right;\n",
              "    }\n",
              "</style>\n",
              "<table border=\"1\" class=\"dataframe\">\n",
              "  <thead>\n",
              "    <tr style=\"text-align: right;\">\n",
              "      <th></th>\n",
              "      <th>rf_estimators</th>\n",
              "      <th>rf_max_depth</th>\n",
              "      <th>rf_max_features</th>\n",
              "      <th>valid_r2_score</th>\n",
              "    </tr>\n",
              "  </thead>\n",
              "  <tbody>\n",
              "    <tr>\n",
              "      <th>11</th>\n",
              "      <td>16</td>\n",
              "      <td>64</td>\n",
              "      <td>128</td>\n",
              "      <td>0.561499</td>\n",
              "    </tr>\n",
              "    <tr>\n",
              "      <th>29</th>\n",
              "      <td>32</td>\n",
              "      <td>128</td>\n",
              "      <td>32</td>\n",
              "      <td>0.554530</td>\n",
              "    </tr>\n",
              "    <tr>\n",
              "      <th>31</th>\n",
              "      <td>32</td>\n",
              "      <td>128</td>\n",
              "      <td>128</td>\n",
              "      <td>0.554216</td>\n",
              "    </tr>\n",
              "    <tr>\n",
              "      <th>47</th>\n",
              "      <td>64</td>\n",
              "      <td>128</td>\n",
              "      <td>128</td>\n",
              "      <td>0.551654</td>\n",
              "    </tr>\n",
              "    <tr>\n",
              "      <th>14</th>\n",
              "      <td>16</td>\n",
              "      <td>128</td>\n",
              "      <td>64</td>\n",
              "      <td>0.551423</td>\n",
              "    </tr>\n",
              "    <tr>\n",
              "      <th>...</th>\n",
              "      <td>...</td>\n",
              "      <td>...</td>\n",
              "      <td>...</td>\n",
              "      <td>...</td>\n",
              "    </tr>\n",
              "    <tr>\n",
              "      <th>2</th>\n",
              "      <td>16</td>\n",
              "      <td>16</td>\n",
              "      <td>64</td>\n",
              "      <td>0.453310</td>\n",
              "    </tr>\n",
              "    <tr>\n",
              "      <th>48</th>\n",
              "      <td>128</td>\n",
              "      <td>16</td>\n",
              "      <td>16</td>\n",
              "      <td>0.435021</td>\n",
              "    </tr>\n",
              "    <tr>\n",
              "      <th>32</th>\n",
              "      <td>64</td>\n",
              "      <td>16</td>\n",
              "      <td>16</td>\n",
              "      <td>0.429458</td>\n",
              "    </tr>\n",
              "    <tr>\n",
              "      <th>1</th>\n",
              "      <td>16</td>\n",
              "      <td>16</td>\n",
              "      <td>32</td>\n",
              "      <td>0.422779</td>\n",
              "    </tr>\n",
              "    <tr>\n",
              "      <th>0</th>\n",
              "      <td>16</td>\n",
              "      <td>16</td>\n",
              "      <td>16</td>\n",
              "      <td>0.395790</td>\n",
              "    </tr>\n",
              "  </tbody>\n",
              "</table>\n",
              "<p>64 rows × 4 columns</p>\n",
              "</div>"
            ],
            "text/plain": [
              "    rf_estimators  rf_max_depth  rf_max_features  valid_r2_score\n",
              "11             16            64              128        0.561499\n",
              "29             32           128               32        0.554530\n",
              "31             32           128              128        0.554216\n",
              "47             64           128              128        0.551654\n",
              "14             16           128               64        0.551423\n",
              "..            ...           ...              ...             ...\n",
              "2              16            16               64        0.453310\n",
              "48            128            16               16        0.435021\n",
              "32             64            16               16        0.429458\n",
              "1              16            16               32        0.422779\n",
              "0              16            16               16        0.395790\n",
              "\n",
              "[64 rows x 4 columns]"
            ]
          },
          "metadata": {
            "tags": []
          },
          "execution_count": 40
        }
      ]
    },
    {
      "cell_type": "code",
      "metadata": {
        "id": "9bVXltSu6z0f",
        "colab": {
          "base_uri": "https://localhost:8080/",
          "height": 483
        },
        "outputId": "bd8a393d-df4a-464c-d778-167534a09a08"
      },
      "source": [
        "fig, ax = plt.subplots(1,3,figsize=(21,7))\n",
        "sns.boxplot(data=perf_df, x=\"rf_estimators\", y=\"valid_r2_score\", ax=ax[0])\n",
        "sns.boxplot(data=perf_df, x=\"rf_max_depth\", y=\"valid_r2_score\", ax=ax[1])\n",
        "sns.boxplot(data=perf_df, x=\"rf_max_features\", y=\"valid_r2_score\", ax=ax[2])\n",
        "fig.tight_layout()"
      ],
      "execution_count": 41,
      "outputs": [
        {
          "output_type": "display_data",
          "data": {
            "image/png": "[encoded data removed]",
            "text/plain": [
              "<Figure size 1512x504 with 3 Axes>"
            ]
          },
          "metadata": {
            "tags": []
          }
        }
      ]
    },
    {
      "cell_type": "markdown",
      "metadata": {
        "id": "qpAq__JA61wy"
      },
      "source": [
        "### Random search"
      ]
    },
    {
      "cell_type": "code",
      "metadata": {
        "id": "LMNkU4rs648c",
        "colab": {
          "base_uri": "https://localhost:8080/"
        },
        "outputId": "9c487353-43a6-4ce5-8a80-3f224bc3c095"
      },
      "source": [
        "rfe_list = []\n",
        "rfd_list = []\n",
        "rff_list = []\n",
        "valid_r2_list = []\n",
        "\n",
        "num_trials = 50\n",
        "\n",
        "for i in range(num_trials):\n",
        "    params[\"rf_estimators\"] = np.random.randint(8,256)\n",
        "    params[\"rf_max_depth\"] = np.random.randint(8,256)\n",
        "    params[\"rf_max_features\"] = np.random.randint(8,256)\n",
        "    rfe_list.append(params[\"rf_estimators\"])\n",
        "    rfd_list.append(params[\"rf_max_depth\"])\n",
        "    rff_list.append(params[\"rf_max_features\"])\n",
        "    tp = parse.wrapper(params)\n",
        "    pl = mp.ModelPipeline(tp)\n",
        "    pl.train_model()\n",
        "    pred_data = pl.model_wrapper.get_perf_data(subset=\"valid\", epoch_label=\"best\")\n",
        "    pred_results = pred_data.get_prediction_results()\n",
        "    valid_r2 = pred_results['r2_score']\n",
        "    valid_r2_list.append(valid_r2)\n",
        "    print(f\"rf_estimators: {rf_estimator}, rf_max_depth: {rf_depth}, rf_max_features: {rf_feature}, valid_r2: {valid_r2}\")"
      ],
      "execution_count": 42,
      "outputs": [
        {
          "output_type": "stream",
          "text": [
            "number of features: 1024\n"
          ],
          "name": "stdout"
        },
        {
          "output_type": "stream",
          "text": [
            "2021-04-03 21:29:44,616 Previous dataset split restored\n"
          ],
          "name": "stderr"
        },
        {
          "output_type": "stream",
          "text": [
            "n_cnt [3119.]\n",
            "y_means [6.72793403]\n",
            "y_stds [1.18825005]\n",
            "TIMING: dataset construction took 0.113 s\n",
            "Loading dataset from disk.\n",
            "TIMING: dataset construction took 0.019 s\n",
            "Loading dataset from disk.\n",
            "TIMING: dataset construction took 0.019 s\n",
            "Loading dataset from disk.\n"
          ],
          "name": "stdout"
        },
        {
          "output_type": "stream",
          "text": [
            "2021-04-03 21:29:47,899 Wrote model metadata to file ampl_output/merge1/RF_ecfp_scaffold_regression/89c5ebad-c6aa-4e11-a2a7-245ec429bbd0/model_metadata.json\n",
            "2021-04-03 21:29:48,152 Wrote model metrics to file ampl_output/merge1/RF_ecfp_scaffold_regression/89c5ebad-c6aa-4e11-a2a7-245ec429bbd0/model_metrics.json\n"
          ],
          "name": "stderr"
        },
        {
          "output_type": "stream",
          "text": [
            "Wrote model tarball to ampl_output/merge1_model_89c5ebad-c6aa-4e11-a2a7-245ec429bbd0.tar.gz\n",
            "rf_estimators: 128, rf_max_depth: 128, rf_max_features: 128, valid_r2: 0.5399257743321209\n",
            "number of features: 1024\n"
          ],
          "name": "stdout"
        },
        {
          "output_type": "stream",
          "text": [
            "2021-04-03 21:30:00,492 Previous dataset split restored\n"
          ],
          "name": "stderr"
        },
        {
          "output_type": "stream",
          "text": [
            "n_cnt [3119.]\n",
            "y_means [6.72793403]\n",
            "y_stds [1.18825005]\n",
            "TIMING: dataset construction took 0.118 s\n",
            "Loading dataset from disk.\n",
            "TIMING: dataset construction took 0.019 s\n",
            "Loading dataset from disk.\n",
            "TIMING: dataset construction took 0.018 s\n",
            "Loading dataset from disk.\n"
          ],
          "name": "stdout"
        },
        {
          "output_type": "stream",
          "text": [
            "2021-04-03 21:30:02,114 Wrote model metadata to file ampl_output/merge1/RF_ecfp_scaffold_regression/1b98e075-58d4-4ae6-91db-9f24f1f0940a/model_metadata.json\n",
            "2021-04-03 21:30:02,155 Wrote model metrics to file ampl_output/merge1/RF_ecfp_scaffold_regression/1b98e075-58d4-4ae6-91db-9f24f1f0940a/model_metrics.json\n"
          ],
          "name": "stderr"
        },
        {
          "output_type": "stream",
          "text": [
            "Wrote model tarball to ampl_output/merge1_model_1b98e075-58d4-4ae6-91db-9f24f1f0940a.tar.gz\n",
            "rf_estimators: 128, rf_max_depth: 128, rf_max_features: 128, valid_r2: 0.5168543082865975\n",
            "number of features: 1024\n"
          ],
          "name": "stdout"
        },
        {
          "output_type": "stream",
          "text": [
            "2021-04-03 21:30:14,584 Previous dataset split restored\n"
          ],
          "name": "stderr"
        },
        {
          "output_type": "stream",
          "text": [
            "n_cnt [3119.]\n",
            "y_means [6.72793403]\n",
            "y_stds [1.18825005]\n",
            "TIMING: dataset construction took 0.113 s\n",
            "Loading dataset from disk.\n",
            "TIMING: dataset construction took 0.018 s\n",
            "Loading dataset from disk.\n",
            "TIMING: dataset construction took 0.017 s\n",
            "Loading dataset from disk.\n"
          ],
          "name": "stdout"
        },
        {
          "output_type": "stream",
          "text": [
            "2021-04-03 21:30:16,557 Wrote model metadata to file ampl_output/merge1/RF_ecfp_scaffold_regression/c65c11c4-3f6b-49a6-a5f6-0579a3b18759/model_metadata.json\n",
            "2021-04-03 21:30:16,631 Wrote model metrics to file ampl_output/merge1/RF_ecfp_scaffold_regression/c65c11c4-3f6b-49a6-a5f6-0579a3b18759/model_metrics.json\n"
          ],
          "name": "stderr"
        },
        {
          "output_type": "stream",
          "text": [
            "Wrote model tarball to ampl_output/merge1_model_c65c11c4-3f6b-49a6-a5f6-0579a3b18759.tar.gz\n",
            "rf_estimators: 128, rf_max_depth: 128, rf_max_features: 128, valid_r2: 0.5159157399848586\n",
            "number of features: 1024\n"
          ],
          "name": "stdout"
        },
        {
          "output_type": "stream",
          "text": [
            "2021-04-03 21:30:28,962 Previous dataset split restored\n"
          ],
          "name": "stderr"
        },
        {
          "output_type": "stream",
          "text": [
            "n_cnt [3119.]\n",
            "y_means [6.72793403]\n",
            "y_stds [1.18825005]\n",
            "TIMING: dataset construction took 0.116 s\n",
            "Loading dataset from disk.\n",
            "TIMING: dataset construction took 0.018 s\n",
            "Loading dataset from disk.\n",
            "TIMING: dataset construction took 0.018 s\n",
            "Loading dataset from disk.\n"
          ],
          "name": "stdout"
        },
        {
          "output_type": "stream",
          "text": [
            "2021-04-03 21:30:33,259 Wrote model metadata to file ampl_output/merge1/RF_ecfp_scaffold_regression/d57cb075-159b-41f9-bca2-2fe0db3a62a6/model_metadata.json\n",
            "2021-04-03 21:30:33,685 Wrote model metrics to file ampl_output/merge1/RF_ecfp_scaffold_regression/d57cb075-159b-41f9-bca2-2fe0db3a62a6/model_metrics.json\n"
          ],
          "name": "stderr"
        },
        {
          "output_type": "stream",
          "text": [
            "Wrote model tarball to ampl_output/merge1_model_d57cb075-159b-41f9-bca2-2fe0db3a62a6.tar.gz\n",
            "rf_estimators: 128, rf_max_depth: 128, rf_max_features: 128, valid_r2: 0.5527271231684758\n",
            "number of features: 1024\n"
          ],
          "name": "stdout"
        },
        {
          "output_type": "stream",
          "text": [
            "2021-04-03 21:30:46,145 Previous dataset split restored\n"
          ],
          "name": "stderr"
        },
        {
          "output_type": "stream",
          "text": [
            "n_cnt [3119.]\n",
            "y_means [6.72793403]\n",
            "y_stds [1.18825005]\n",
            "TIMING: dataset construction took 0.112 s\n",
            "Loading dataset from disk.\n",
            "TIMING: dataset construction took 0.018 s\n",
            "Loading dataset from disk.\n",
            "TIMING: dataset construction took 0.017 s\n",
            "Loading dataset from disk.\n"
          ],
          "name": "stdout"
        },
        {
          "output_type": "stream",
          "text": [
            "2021-04-03 21:30:49,678 Wrote model metadata to file ampl_output/merge1/RF_ecfp_scaffold_regression/92a9349d-3561-4576-8165-a3023cfa4397/model_metadata.json\n",
            "2021-04-03 21:30:49,961 Wrote model metrics to file ampl_output/merge1/RF_ecfp_scaffold_regression/92a9349d-3561-4576-8165-a3023cfa4397/model_metrics.json\n"
          ],
          "name": "stderr"
        },
        {
          "output_type": "stream",
          "text": [
            "Wrote model tarball to ampl_output/merge1_model_92a9349d-3561-4576-8165-a3023cfa4397.tar.gz\n",
            "rf_estimators: 128, rf_max_depth: 128, rf_max_features: 128, valid_r2: 0.5453047673622642\n",
            "number of features: 1024\n"
          ],
          "name": "stdout"
        },
        {
          "output_type": "stream",
          "text": [
            "2021-04-03 21:31:02,551 Previous dataset split restored\n"
          ],
          "name": "stderr"
        },
        {
          "output_type": "stream",
          "text": [
            "n_cnt [3119.]\n",
            "y_means [6.72793403]\n",
            "y_stds [1.18825005]\n",
            "TIMING: dataset construction took 0.117 s\n",
            "Loading dataset from disk.\n",
            "TIMING: dataset construction took 0.019 s\n",
            "Loading dataset from disk.\n",
            "TIMING: dataset construction took 0.018 s\n",
            "Loading dataset from disk.\n"
          ],
          "name": "stdout"
        },
        {
          "output_type": "stream",
          "text": [
            "2021-04-03 21:31:03,947 Wrote model metadata to file ampl_output/merge1/RF_ecfp_scaffold_regression/146bb265-d4a1-45d4-85b4-d62c20eac1f8/model_metadata.json\n",
            "2021-04-03 21:31:03,973 Wrote model metrics to file ampl_output/merge1/RF_ecfp_scaffold_regression/146bb265-d4a1-45d4-85b4-d62c20eac1f8/model_metrics.json\n"
          ],
          "name": "stderr"
        },
        {
          "output_type": "stream",
          "text": [
            "Wrote model tarball to ampl_output/merge1_model_146bb265-d4a1-45d4-85b4-d62c20eac1f8.tar.gz\n",
            "rf_estimators: 128, rf_max_depth: 128, rf_max_features: 128, valid_r2: 0.491966806493348\n",
            "number of features: 1024\n"
          ],
          "name": "stdout"
        },
        {
          "output_type": "stream",
          "text": [
            "2021-04-03 21:31:16,388 Previous dataset split restored\n"
          ],
          "name": "stderr"
        },
        {
          "output_type": "stream",
          "text": [
            "n_cnt [3119.]\n",
            "y_means [6.72793403]\n",
            "y_stds [1.18825005]\n",
            "TIMING: dataset construction took 0.116 s\n",
            "Loading dataset from disk.\n",
            "TIMING: dataset construction took 0.018 s\n",
            "Loading dataset from disk.\n",
            "TIMING: dataset construction took 0.018 s\n",
            "Loading dataset from disk.\n"
          ],
          "name": "stdout"
        },
        {
          "output_type": "stream",
          "text": [
            "2021-04-03 21:31:19,423 Wrote model metadata to file ampl_output/merge1/RF_ecfp_scaffold_regression/36c2e75a-68e2-4033-b03c-2324c720179b/model_metadata.json\n",
            "2021-04-03 21:31:19,583 Wrote model metrics to file ampl_output/merge1/RF_ecfp_scaffold_regression/36c2e75a-68e2-4033-b03c-2324c720179b/model_metrics.json\n"
          ],
          "name": "stderr"
        },
        {
          "output_type": "stream",
          "text": [
            "Wrote model tarball to ampl_output/merge1_model_36c2e75a-68e2-4033-b03c-2324c720179b.tar.gz\n",
            "rf_estimators: 128, rf_max_depth: 128, rf_max_features: 128, valid_r2: 0.5302367727303999\n",
            "number of features: 1024\n"
          ],
          "name": "stdout"
        },
        {
          "output_type": "stream",
          "text": [
            "2021-04-03 21:31:31,898 Previous dataset split restored\n"
          ],
          "name": "stderr"
        },
        {
          "output_type": "stream",
          "text": [
            "n_cnt [3119.]\n",
            "y_means [6.72793403]\n",
            "y_stds [1.18825005]\n",
            "TIMING: dataset construction took 0.112 s\n",
            "Loading dataset from disk.\n",
            "TIMING: dataset construction took 0.018 s\n",
            "Loading dataset from disk.\n",
            "TIMING: dataset construction took 0.017 s\n",
            "Loading dataset from disk.\n"
          ],
          "name": "stdout"
        },
        {
          "output_type": "stream",
          "text": [
            "2021-04-03 21:31:33,730 Wrote model metadata to file ampl_output/merge1/RF_ecfp_scaffold_regression/1b3caa29-bcf6-4356-9314-c7f15eb86df9/model_metadata.json\n",
            "2021-04-03 21:31:33,799 Wrote model metrics to file ampl_output/merge1/RF_ecfp_scaffold_regression/1b3caa29-bcf6-4356-9314-c7f15eb86df9/model_metrics.json\n"
          ],
          "name": "stderr"
        },
        {
          "output_type": "stream",
          "text": [
            "Wrote model tarball to ampl_output/merge1_model_1b3caa29-bcf6-4356-9314-c7f15eb86df9.tar.gz\n",
            "rf_estimators: 128, rf_max_depth: 128, rf_max_features: 128, valid_r2: 0.5199380661755431\n",
            "number of features: 1024\n"
          ],
          "name": "stdout"
        },
        {
          "output_type": "stream",
          "text": [
            "2021-04-03 21:31:46,181 Previous dataset split restored\n"
          ],
          "name": "stderr"
        },
        {
          "output_type": "stream",
          "text": [
            "n_cnt [3119.]\n",
            "y_means [6.72793403]\n",
            "y_stds [1.18825005]\n",
            "TIMING: dataset construction took 0.114 s\n",
            "Loading dataset from disk.\n",
            "TIMING: dataset construction took 0.018 s\n",
            "Loading dataset from disk.\n",
            "TIMING: dataset construction took 0.018 s\n",
            "Loading dataset from disk.\n"
          ],
          "name": "stdout"
        },
        {
          "output_type": "stream",
          "text": [
            "2021-04-03 21:31:48,166 Wrote model metadata to file ampl_output/merge1/RF_ecfp_scaffold_regression/e0c89e23-2b7e-4aac-ba1d-0343513f97c2/model_metadata.json\n",
            "2021-04-03 21:31:48,302 Wrote model metrics to file ampl_output/merge1/RF_ecfp_scaffold_regression/e0c89e23-2b7e-4aac-ba1d-0343513f97c2/model_metrics.json\n"
          ],
          "name": "stderr"
        },
        {
          "output_type": "stream",
          "text": [
            "Wrote model tarball to ampl_output/merge1_model_e0c89e23-2b7e-4aac-ba1d-0343513f97c2.tar.gz\n",
            "rf_estimators: 128, rf_max_depth: 128, rf_max_features: 128, valid_r2: 0.5381739401710149\n",
            "number of features: 1024\n"
          ],
          "name": "stdout"
        },
        {
          "output_type": "stream",
          "text": [
            "2021-04-03 21:32:00,775 Previous dataset split restored\n"
          ],
          "name": "stderr"
        },
        {
          "output_type": "stream",
          "text": [
            "n_cnt [3119.]\n",
            "y_means [6.72793403]\n",
            "y_stds [1.18825005]\n",
            "TIMING: dataset construction took 0.119 s\n",
            "Loading dataset from disk.\n",
            "TIMING: dataset construction took 0.019 s\n",
            "Loading dataset from disk.\n",
            "TIMING: dataset construction took 0.018 s\n",
            "Loading dataset from disk.\n"
          ],
          "name": "stdout"
        },
        {
          "output_type": "stream",
          "text": [
            "2021-04-03 21:32:04,953 Wrote model metadata to file ampl_output/merge1/RF_ecfp_scaffold_regression/d3514af8-39a4-4abb-a8ec-64c9d279675e/model_metadata.json\n",
            "2021-04-03 21:32:05,317 Wrote model metrics to file ampl_output/merge1/RF_ecfp_scaffold_regression/d3514af8-39a4-4abb-a8ec-64c9d279675e/model_metrics.json\n"
          ],
          "name": "stderr"
        },
        {
          "output_type": "stream",
          "text": [
            "Wrote model tarball to ampl_output/merge1_model_d3514af8-39a4-4abb-a8ec-64c9d279675e.tar.gz\n",
            "rf_estimators: 128, rf_max_depth: 128, rf_max_features: 128, valid_r2: 0.5511359418276771\n",
            "number of features: 1024\n"
          ],
          "name": "stdout"
        },
        {
          "output_type": "stream",
          "text": [
            "2021-04-03 21:32:17,736 Previous dataset split restored\n"
          ],
          "name": "stderr"
        },
        {
          "output_type": "stream",
          "text": [
            "n_cnt [3119.]\n",
            "y_means [6.72793403]\n",
            "y_stds [1.18825005]\n",
            "TIMING: dataset construction took 0.119 s\n",
            "Loading dataset from disk.\n",
            "TIMING: dataset construction took 0.019 s\n",
            "Loading dataset from disk.\n",
            "TIMING: dataset construction took 0.018 s\n",
            "Loading dataset from disk.\n"
          ],
          "name": "stdout"
        },
        {
          "output_type": "stream",
          "text": [
            "2021-04-03 21:32:22,193 Wrote model metadata to file ampl_output/merge1/RF_ecfp_scaffold_regression/1d501412-2317-4d89-9212-73e73cfa752b/model_metadata.json\n",
            "2021-04-03 21:32:22,582 Wrote model metrics to file ampl_output/merge1/RF_ecfp_scaffold_regression/1d501412-2317-4d89-9212-73e73cfa752b/model_metrics.json\n"
          ],
          "name": "stderr"
        },
        {
          "output_type": "stream",
          "text": [
            "Wrote model tarball to ampl_output/merge1_model_1d501412-2317-4d89-9212-73e73cfa752b.tar.gz\n",
            "rf_estimators: 128, rf_max_depth: 128, rf_max_features: 128, valid_r2: 0.5531450789065202\n",
            "number of features: 1024\n"
          ],
          "name": "stdout"
        },
        {
          "output_type": "stream",
          "text": [
            "2021-04-03 21:32:34,940 Previous dataset split restored\n"
          ],
          "name": "stderr"
        },
        {
          "output_type": "stream",
          "text": [
            "n_cnt [3119.]\n",
            "y_means [6.72793403]\n",
            "y_stds [1.18825005]\n",
            "TIMING: dataset construction took 0.117 s\n",
            "Loading dataset from disk.\n",
            "TIMING: dataset construction took 0.018 s\n",
            "Loading dataset from disk.\n",
            "TIMING: dataset construction took 0.018 s\n",
            "Loading dataset from disk.\n"
          ],
          "name": "stdout"
        },
        {
          "output_type": "stream",
          "text": [
            "2021-04-03 21:32:39,323 Wrote model metadata to file ampl_output/merge1/RF_ecfp_scaffold_regression/001fc3ec-26a2-44bf-bbe3-8fc72bb9f09a/model_metadata.json\n",
            "2021-04-03 21:32:39,622 Wrote model metrics to file ampl_output/merge1/RF_ecfp_scaffold_regression/001fc3ec-26a2-44bf-bbe3-8fc72bb9f09a/model_metrics.json\n"
          ],
          "name": "stderr"
        },
        {
          "output_type": "stream",
          "text": [
            "Wrote model tarball to ampl_output/merge1_model_001fc3ec-26a2-44bf-bbe3-8fc72bb9f09a.tar.gz\n",
            "rf_estimators: 128, rf_max_depth: 128, rf_max_features: 128, valid_r2: 0.5403352595798345\n",
            "number of features: 1024\n"
          ],
          "name": "stdout"
        },
        {
          "output_type": "stream",
          "text": [
            "2021-04-03 21:32:52,007 Previous dataset split restored\n"
          ],
          "name": "stderr"
        },
        {
          "output_type": "stream",
          "text": [
            "n_cnt [3119.]\n",
            "y_means [6.72793403]\n",
            "y_stds [1.18825005]\n",
            "TIMING: dataset construction took 0.114 s\n",
            "Loading dataset from disk.\n",
            "TIMING: dataset construction took 0.019 s\n",
            "Loading dataset from disk.\n",
            "TIMING: dataset construction took 0.018 s\n",
            "Loading dataset from disk.\n"
          ],
          "name": "stdout"
        },
        {
          "output_type": "stream",
          "text": [
            "2021-04-03 21:32:53,300 Wrote model metadata to file ampl_output/merge1/RF_ecfp_scaffold_regression/3ac26ba0-c535-413b-8df9-4732cf54795f/model_metadata.json\n",
            "2021-04-03 21:32:53,322 Wrote model metrics to file ampl_output/merge1/RF_ecfp_scaffold_regression/3ac26ba0-c535-413b-8df9-4732cf54795f/model_metrics.json\n"
          ],
          "name": "stderr"
        },
        {
          "output_type": "stream",
          "text": [
            "Wrote model tarball to ampl_output/merge1_model_3ac26ba0-c535-413b-8df9-4732cf54795f.tar.gz\n",
            "rf_estimators: 128, rf_max_depth: 128, rf_max_features: 128, valid_r2: 0.4704753594833435\n",
            "number of features: 1024\n"
          ],
          "name": "stdout"
        },
        {
          "output_type": "stream",
          "text": [
            "2021-04-03 21:33:05,676 Previous dataset split restored\n"
          ],
          "name": "stderr"
        },
        {
          "output_type": "stream",
          "text": [
            "n_cnt [3119.]\n",
            "y_means [6.72793403]\n",
            "y_stds [1.18825005]\n",
            "TIMING: dataset construction took 0.117 s\n",
            "Loading dataset from disk.\n",
            "TIMING: dataset construction took 0.019 s\n",
            "Loading dataset from disk.\n",
            "TIMING: dataset construction took 0.018 s\n",
            "Loading dataset from disk.\n"
          ],
          "name": "stdout"
        },
        {
          "output_type": "stream",
          "text": [
            "2021-04-03 21:33:09,528 Wrote model metadata to file ampl_output/merge1/RF_ecfp_scaffold_regression/70a46f41-8cfd-4d26-b545-b52c5cbb0c22/model_metadata.json\n",
            "2021-04-03 21:33:09,751 Wrote model metrics to file ampl_output/merge1/RF_ecfp_scaffold_regression/70a46f41-8cfd-4d26-b545-b52c5cbb0c22/model_metrics.json\n"
          ],
          "name": "stderr"
        },
        {
          "output_type": "stream",
          "text": [
            "Wrote model tarball to ampl_output/merge1_model_70a46f41-8cfd-4d26-b545-b52c5cbb0c22.tar.gz\n",
            "rf_estimators: 128, rf_max_depth: 128, rf_max_features: 128, valid_r2: 0.5437510499019437\n",
            "number of features: 1024\n"
          ],
          "name": "stdout"
        },
        {
          "output_type": "stream",
          "text": [
            "2021-04-03 21:33:22,152 Previous dataset split restored\n"
          ],
          "name": "stderr"
        },
        {
          "output_type": "stream",
          "text": [
            "n_cnt [3119.]\n",
            "y_means [6.72793403]\n",
            "y_stds [1.18825005]\n",
            "TIMING: dataset construction took 0.124 s\n",
            "Loading dataset from disk.\n",
            "TIMING: dataset construction took 0.019 s\n",
            "Loading dataset from disk.\n",
            "TIMING: dataset construction took 0.018 s\n",
            "Loading dataset from disk.\n"
          ],
          "name": "stdout"
        },
        {
          "output_type": "stream",
          "text": [
            "2021-04-03 21:33:24,781 Wrote model metadata to file ampl_output/merge1/RF_ecfp_scaffold_regression/5dc293d4-3317-4aff-a8c1-b90aefea1a59/model_metadata.json\n",
            "2021-04-03 21:33:24,916 Wrote model metrics to file ampl_output/merge1/RF_ecfp_scaffold_regression/5dc293d4-3317-4aff-a8c1-b90aefea1a59/model_metrics.json\n"
          ],
          "name": "stderr"
        },
        {
          "output_type": "stream",
          "text": [
            "Wrote model tarball to ampl_output/merge1_model_5dc293d4-3317-4aff-a8c1-b90aefea1a59.tar.gz\n",
            "rf_estimators: 128, rf_max_depth: 128, rf_max_features: 128, valid_r2: 0.5489645230637513\n",
            "number of features: 1024\n"
          ],
          "name": "stdout"
        },
        {
          "output_type": "stream",
          "text": [
            "2021-04-03 21:33:37,248 Previous dataset split restored\n"
          ],
          "name": "stderr"
        },
        {
          "output_type": "stream",
          "text": [
            "n_cnt [3119.]\n",
            "y_means [6.72793403]\n",
            "y_stds [1.18825005]\n",
            "TIMING: dataset construction took 0.116 s\n",
            "Loading dataset from disk.\n",
            "TIMING: dataset construction took 0.018 s\n",
            "Loading dataset from disk.\n",
            "TIMING: dataset construction took 0.018 s\n",
            "Loading dataset from disk.\n"
          ],
          "name": "stdout"
        },
        {
          "output_type": "stream",
          "text": [
            "2021-04-03 21:33:42,606 Wrote model metadata to file ampl_output/merge1/RF_ecfp_scaffold_regression/49843b83-a227-4db8-ba29-8895376cdfae/model_metadata.json\n",
            "2021-04-03 21:33:42,942 Wrote model metrics to file ampl_output/merge1/RF_ecfp_scaffold_regression/49843b83-a227-4db8-ba29-8895376cdfae/model_metrics.json\n"
          ],
          "name": "stderr"
        },
        {
          "output_type": "stream",
          "text": [
            "Wrote model tarball to ampl_output/merge1_model_49843b83-a227-4db8-ba29-8895376cdfae.tar.gz\n",
            "rf_estimators: 128, rf_max_depth: 128, rf_max_features: 128, valid_r2: 0.5281462026670887\n",
            "number of features: 1024\n"
          ],
          "name": "stdout"
        },
        {
          "output_type": "stream",
          "text": [
            "2021-04-03 21:33:55,327 Previous dataset split restored\n"
          ],
          "name": "stderr"
        },
        {
          "output_type": "stream",
          "text": [
            "n_cnt [3119.]\n",
            "y_means [6.72793403]\n",
            "y_stds [1.18825005]\n",
            "TIMING: dataset construction took 0.120 s\n",
            "Loading dataset from disk.\n",
            "TIMING: dataset construction took 0.020 s\n",
            "Loading dataset from disk.\n",
            "TIMING: dataset construction took 0.019 s\n",
            "Loading dataset from disk.\n"
          ],
          "name": "stdout"
        },
        {
          "output_type": "stream",
          "text": [
            "2021-04-03 21:33:58,873 Wrote model metadata to file ampl_output/merge1/RF_ecfp_scaffold_regression/4c225b51-86d5-447a-ae95-ed56966ec699/model_metadata.json\n",
            "2021-04-03 21:33:59,292 Wrote model metrics to file ampl_output/merge1/RF_ecfp_scaffold_regression/4c225b51-86d5-447a-ae95-ed56966ec699/model_metrics.json\n"
          ],
          "name": "stderr"
        },
        {
          "output_type": "stream",
          "text": [
            "Wrote model tarball to ampl_output/merge1_model_4c225b51-86d5-447a-ae95-ed56966ec699.tar.gz\n",
            "rf_estimators: 128, rf_max_depth: 128, rf_max_features: 128, valid_r2: 0.5383692805559122\n",
            "number of features: 1024\n"
          ],
          "name": "stdout"
        },
        {
          "output_type": "stream",
          "text": [
            "2021-04-03 21:34:11,706 Previous dataset split restored\n"
          ],
          "name": "stderr"
        },
        {
          "output_type": "stream",
          "text": [
            "n_cnt [3119.]\n",
            "y_means [6.72793403]\n",
            "y_stds [1.18825005]\n",
            "TIMING: dataset construction took 0.111 s\n",
            "Loading dataset from disk.\n",
            "TIMING: dataset construction took 0.017 s\n",
            "Loading dataset from disk.\n",
            "TIMING: dataset construction took 0.017 s\n",
            "Loading dataset from disk.\n"
          ],
          "name": "stdout"
        },
        {
          "output_type": "stream",
          "text": [
            "2021-04-03 21:34:16,094 Wrote model metadata to file ampl_output/merge1/RF_ecfp_scaffold_regression/f279dc09-947f-418a-9583-ee83a844b498/model_metadata.json\n",
            "2021-04-03 21:34:16,477 Wrote model metrics to file ampl_output/merge1/RF_ecfp_scaffold_regression/f279dc09-947f-418a-9583-ee83a844b498/model_metrics.json\n"
          ],
          "name": "stderr"
        },
        {
          "output_type": "stream",
          "text": [
            "Wrote model tarball to ampl_output/merge1_model_f279dc09-947f-418a-9583-ee83a844b498.tar.gz\n",
            "rf_estimators: 128, rf_max_depth: 128, rf_max_features: 128, valid_r2: 0.5517213324187076\n",
            "number of features: 1024\n"
          ],
          "name": "stdout"
        },
        {
          "output_type": "stream",
          "text": [
            "2021-04-03 21:34:28,821 Previous dataset split restored\n"
          ],
          "name": "stderr"
        },
        {
          "output_type": "stream",
          "text": [
            "n_cnt [3119.]\n",
            "y_means [6.72793403]\n",
            "y_stds [1.18825005]\n",
            "TIMING: dataset construction took 0.115 s\n",
            "Loading dataset from disk.\n",
            "TIMING: dataset construction took 0.019 s\n",
            "Loading dataset from disk.\n",
            "TIMING: dataset construction took 0.018 s\n",
            "Loading dataset from disk.\n"
          ],
          "name": "stdout"
        },
        {
          "output_type": "stream",
          "text": [
            "2021-04-03 21:34:32,967 Wrote model metadata to file ampl_output/merge1/RF_ecfp_scaffold_regression/f9956074-3fe4-4d4d-a943-2b19487e2b6d/model_metadata.json\n",
            "2021-04-03 21:34:33,355 Wrote model metrics to file ampl_output/merge1/RF_ecfp_scaffold_regression/f9956074-3fe4-4d4d-a943-2b19487e2b6d/model_metrics.json\n"
          ],
          "name": "stderr"
        },
        {
          "output_type": "stream",
          "text": [
            "Wrote model tarball to ampl_output/merge1_model_f9956074-3fe4-4d4d-a943-2b19487e2b6d.tar.gz\n",
            "rf_estimators: 128, rf_max_depth: 128, rf_max_features: 128, valid_r2: 0.5619703061984116\n",
            "number of features: 1024\n"
          ],
          "name": "stdout"
        },
        {
          "output_type": "stream",
          "text": [
            "2021-04-03 21:34:45,766 Previous dataset split restored\n"
          ],
          "name": "stderr"
        },
        {
          "output_type": "stream",
          "text": [
            "n_cnt [3119.]\n",
            "y_means [6.72793403]\n",
            "y_stds [1.18825005]\n",
            "TIMING: dataset construction took 0.116 s\n",
            "Loading dataset from disk.\n",
            "TIMING: dataset construction took 0.019 s\n",
            "Loading dataset from disk.\n",
            "TIMING: dataset construction took 0.018 s\n",
            "Loading dataset from disk.\n"
          ],
          "name": "stdout"
        },
        {
          "output_type": "stream",
          "text": [
            "2021-04-03 21:34:50,173 Wrote model metadata to file ampl_output/merge1/RF_ecfp_scaffold_regression/316376e4-14bf-44b4-afd2-3a23052e6285/model_metadata.json\n",
            "2021-04-03 21:34:50,537 Wrote model metrics to file ampl_output/merge1/RF_ecfp_scaffold_regression/316376e4-14bf-44b4-afd2-3a23052e6285/model_metrics.json\n"
          ],
          "name": "stderr"
        },
        {
          "output_type": "stream",
          "text": [
            "Wrote model tarball to ampl_output/merge1_model_316376e4-14bf-44b4-afd2-3a23052e6285.tar.gz\n",
            "rf_estimators: 128, rf_max_depth: 128, rf_max_features: 128, valid_r2: 0.5522680901369279\n",
            "number of features: 1024\n"
          ],
          "name": "stdout"
        },
        {
          "output_type": "stream",
          "text": [
            "2021-04-03 21:35:03,117 Previous dataset split restored\n"
          ],
          "name": "stderr"
        },
        {
          "output_type": "stream",
          "text": [
            "n_cnt [3119.]\n",
            "y_means [6.72793403]\n",
            "y_stds [1.18825005]\n",
            "TIMING: dataset construction took 0.119 s\n",
            "Loading dataset from disk.\n",
            "TIMING: dataset construction took 0.020 s\n",
            "Loading dataset from disk.\n",
            "TIMING: dataset construction took 0.018 s\n",
            "Loading dataset from disk.\n"
          ],
          "name": "stdout"
        },
        {
          "output_type": "stream",
          "text": [
            "2021-04-03 21:35:05,534 Wrote model metadata to file ampl_output/merge1/RF_ecfp_scaffold_regression/ce862356-5a08-4cf6-8f0c-5f3ec2561f2d/model_metadata.json\n",
            "2021-04-03 21:35:05,777 Wrote model metrics to file ampl_output/merge1/RF_ecfp_scaffold_regression/ce862356-5a08-4cf6-8f0c-5f3ec2561f2d/model_metrics.json\n"
          ],
          "name": "stderr"
        },
        {
          "output_type": "stream",
          "text": [
            "Wrote model tarball to ampl_output/merge1_model_ce862356-5a08-4cf6-8f0c-5f3ec2561f2d.tar.gz\n",
            "rf_estimators: 128, rf_max_depth: 128, rf_max_features: 128, valid_r2: 0.5110101263028242\n",
            "number of features: 1024\n"
          ],
          "name": "stdout"
        },
        {
          "output_type": "stream",
          "text": [
            "2021-04-03 21:35:18,064 Previous dataset split restored\n"
          ],
          "name": "stderr"
        },
        {
          "output_type": "stream",
          "text": [
            "n_cnt [3119.]\n",
            "y_means [6.72793403]\n",
            "y_stds [1.18825005]\n",
            "TIMING: dataset construction took 0.115 s\n",
            "Loading dataset from disk.\n",
            "TIMING: dataset construction took 0.019 s\n",
            "Loading dataset from disk.\n",
            "TIMING: dataset construction took 0.017 s\n",
            "Loading dataset from disk.\n"
          ],
          "name": "stdout"
        },
        {
          "output_type": "stream",
          "text": [
            "2021-04-03 21:35:23,958 Wrote model metadata to file ampl_output/merge1/RF_ecfp_scaffold_regression/661c5cca-f048-40e6-aa9c-eea435e60536/model_metadata.json\n",
            "2021-04-03 21:35:24,371 Wrote model metrics to file ampl_output/merge1/RF_ecfp_scaffold_regression/661c5cca-f048-40e6-aa9c-eea435e60536/model_metrics.json\n"
          ],
          "name": "stderr"
        },
        {
          "output_type": "stream",
          "text": [
            "Wrote model tarball to ampl_output/merge1_model_661c5cca-f048-40e6-aa9c-eea435e60536.tar.gz\n",
            "rf_estimators: 128, rf_max_depth: 128, rf_max_features: 128, valid_r2: 0.5421677522554624\n",
            "number of features: 1024\n"
          ],
          "name": "stdout"
        },
        {
          "output_type": "stream",
          "text": [
            "2021-04-03 21:35:36,814 Previous dataset split restored\n"
          ],
          "name": "stderr"
        },
        {
          "output_type": "stream",
          "text": [
            "n_cnt [3119.]\n",
            "y_means [6.72793403]\n",
            "y_stds [1.18825005]\n",
            "TIMING: dataset construction took 0.113 s\n",
            "Loading dataset from disk.\n",
            "TIMING: dataset construction took 0.020 s\n",
            "Loading dataset from disk.\n",
            "TIMING: dataset construction took 0.018 s\n",
            "Loading dataset from disk.\n"
          ],
          "name": "stdout"
        },
        {
          "output_type": "stream",
          "text": [
            "2021-04-03 21:35:38,273 Wrote model metadata to file ampl_output/merge1/RF_ecfp_scaffold_regression/ff02a77f-ca15-48cb-97b4-7575d18e1bf4/model_metadata.json\n",
            "2021-04-03 21:35:38,317 Wrote model metrics to file ampl_output/merge1/RF_ecfp_scaffold_regression/ff02a77f-ca15-48cb-97b4-7575d18e1bf4/model_metrics.json\n"
          ],
          "name": "stderr"
        },
        {
          "output_type": "stream",
          "text": [
            "Wrote model tarball to ampl_output/merge1_model_ff02a77f-ca15-48cb-97b4-7575d18e1bf4.tar.gz\n",
            "rf_estimators: 128, rf_max_depth: 128, rf_max_features: 128, valid_r2: 0.3651672008252256\n",
            "number of features: 1024\n"
          ],
          "name": "stdout"
        },
        {
          "output_type": "stream",
          "text": [
            "2021-04-03 21:35:50,632 Previous dataset split restored\n"
          ],
          "name": "stderr"
        },
        {
          "output_type": "stream",
          "text": [
            "n_cnt [3119.]\n",
            "y_means [6.72793403]\n",
            "y_stds [1.18825005]\n",
            "TIMING: dataset construction took 0.119 s\n",
            "Loading dataset from disk.\n",
            "TIMING: dataset construction took 0.019 s\n",
            "Loading dataset from disk.\n",
            "TIMING: dataset construction took 0.018 s\n",
            "Loading dataset from disk.\n"
          ],
          "name": "stdout"
        },
        {
          "output_type": "stream",
          "text": [
            "2021-04-03 21:35:52,825 Wrote model metadata to file ampl_output/merge1/RF_ecfp_scaffold_regression/3e749305-9ac0-417e-b150-2be442ef9d9e/model_metadata.json\n",
            "2021-04-03 21:35:53,024 Wrote model metrics to file ampl_output/merge1/RF_ecfp_scaffold_regression/3e749305-9ac0-417e-b150-2be442ef9d9e/model_metrics.json\n"
          ],
          "name": "stderr"
        },
        {
          "output_type": "stream",
          "text": [
            "Wrote model tarball to ampl_output/merge1_model_3e749305-9ac0-417e-b150-2be442ef9d9e.tar.gz\n",
            "rf_estimators: 128, rf_max_depth: 128, rf_max_features: 128, valid_r2: 0.5065637731455119\n",
            "number of features: 1024\n"
          ],
          "name": "stdout"
        },
        {
          "output_type": "stream",
          "text": [
            "2021-04-03 21:36:05,565 Previous dataset split restored\n"
          ],
          "name": "stderr"
        },
        {
          "output_type": "stream",
          "text": [
            "n_cnt [3119.]\n",
            "y_means [6.72793403]\n",
            "y_stds [1.18825005]\n",
            "TIMING: dataset construction took 0.123 s\n",
            "Loading dataset from disk.\n",
            "TIMING: dataset construction took 0.021 s\n",
            "Loading dataset from disk.\n",
            "TIMING: dataset construction took 0.022 s\n",
            "Loading dataset from disk.\n"
          ],
          "name": "stdout"
        },
        {
          "output_type": "stream",
          "text": [
            "2021-04-03 21:36:08,659 Wrote model metadata to file ampl_output/merge1/RF_ecfp_scaffold_regression/45f83f95-1cd5-4f30-9b93-ed58487cb43a/model_metadata.json\n",
            "2021-04-03 21:36:08,844 Wrote model metrics to file ampl_output/merge1/RF_ecfp_scaffold_regression/45f83f95-1cd5-4f30-9b93-ed58487cb43a/model_metrics.json\n"
          ],
          "name": "stderr"
        },
        {
          "output_type": "stream",
          "text": [
            "Wrote model tarball to ampl_output/merge1_model_45f83f95-1cd5-4f30-9b93-ed58487cb43a.tar.gz\n",
            "rf_estimators: 128, rf_max_depth: 128, rf_max_features: 128, valid_r2: 0.5353348730391125\n",
            "number of features: 1024\n"
          ],
          "name": "stdout"
        },
        {
          "output_type": "stream",
          "text": [
            "2021-04-03 21:36:21,324 Previous dataset split restored\n"
          ],
          "name": "stderr"
        },
        {
          "output_type": "stream",
          "text": [
            "n_cnt [3119.]\n",
            "y_means [6.72793403]\n",
            "y_stds [1.18825005]\n",
            "TIMING: dataset construction took 0.117 s\n",
            "Loading dataset from disk.\n",
            "TIMING: dataset construction took 0.019 s\n",
            "Loading dataset from disk.\n",
            "TIMING: dataset construction took 0.018 s\n",
            "Loading dataset from disk.\n"
          ],
          "name": "stdout"
        },
        {
          "output_type": "stream",
          "text": [
            "2021-04-03 21:36:27,290 Wrote model metadata to file ampl_output/merge1/RF_ecfp_scaffold_regression/4a61fe0c-3958-4671-9196-277f14674eae/model_metadata.json\n",
            "2021-04-03 21:36:27,745 Wrote model metrics to file ampl_output/merge1/RF_ecfp_scaffold_regression/4a61fe0c-3958-4671-9196-277f14674eae/model_metrics.json\n"
          ],
          "name": "stderr"
        },
        {
          "output_type": "stream",
          "text": [
            "Wrote model tarball to ampl_output/merge1_model_4a61fe0c-3958-4671-9196-277f14674eae.tar.gz\n",
            "rf_estimators: 128, rf_max_depth: 128, rf_max_features: 128, valid_r2: 0.5443418816232657\n",
            "number of features: 1024\n"
          ],
          "name": "stdout"
        },
        {
          "output_type": "stream",
          "text": [
            "2021-04-03 21:36:40,130 Previous dataset split restored\n"
          ],
          "name": "stderr"
        },
        {
          "output_type": "stream",
          "text": [
            "n_cnt [3119.]\n",
            "y_means [6.72793403]\n",
            "y_stds [1.18825005]\n",
            "TIMING: dataset construction took 0.113 s\n",
            "Loading dataset from disk.\n",
            "TIMING: dataset construction took 0.020 s\n",
            "Loading dataset from disk.\n",
            "TIMING: dataset construction took 0.018 s\n",
            "Loading dataset from disk.\n"
          ],
          "name": "stdout"
        },
        {
          "output_type": "stream",
          "text": [
            "2021-04-03 21:36:43,693 Wrote model metadata to file ampl_output/merge1/RF_ecfp_scaffold_regression/6f4df0a5-2a3c-46ef-8a2c-8e5099d361e3/model_metadata.json\n",
            "2021-04-03 21:36:43,921 Wrote model metrics to file ampl_output/merge1/RF_ecfp_scaffold_regression/6f4df0a5-2a3c-46ef-8a2c-8e5099d361e3/model_metrics.json\n"
          ],
          "name": "stderr"
        },
        {
          "output_type": "stream",
          "text": [
            "Wrote model tarball to ampl_output/merge1_model_6f4df0a5-2a3c-46ef-8a2c-8e5099d361e3.tar.gz\n",
            "rf_estimators: 128, rf_max_depth: 128, rf_max_features: 128, valid_r2: 0.5421975762236944\n",
            "number of features: 1024\n"
          ],
          "name": "stdout"
        },
        {
          "output_type": "stream",
          "text": [
            "2021-04-03 21:36:56,338 Previous dataset split restored\n"
          ],
          "name": "stderr"
        },
        {
          "output_type": "stream",
          "text": [
            "n_cnt [3119.]\n",
            "y_means [6.72793403]\n",
            "y_stds [1.18825005]\n",
            "TIMING: dataset construction took 0.116 s\n",
            "Loading dataset from disk.\n",
            "TIMING: dataset construction took 0.019 s\n",
            "Loading dataset from disk.\n",
            "TIMING: dataset construction took 0.018 s\n",
            "Loading dataset from disk.\n"
          ],
          "name": "stdout"
        },
        {
          "output_type": "stream",
          "text": [
            "2021-04-03 21:36:58,505 Wrote model metadata to file ampl_output/merge1/RF_ecfp_scaffold_regression/f252e784-01e3-4b4a-8f36-f62fa136794f/model_metadata.json\n",
            "2021-04-03 21:36:58,565 Wrote model metrics to file ampl_output/merge1/RF_ecfp_scaffold_regression/f252e784-01e3-4b4a-8f36-f62fa136794f/model_metrics.json\n"
          ],
          "name": "stderr"
        },
        {
          "output_type": "stream",
          "text": [
            "Wrote model tarball to ampl_output/merge1_model_f252e784-01e3-4b4a-8f36-f62fa136794f.tar.gz\n",
            "rf_estimators: 128, rf_max_depth: 128, rf_max_features: 128, valid_r2: 0.41396011252577336\n",
            "number of features: 1024\n"
          ],
          "name": "stdout"
        },
        {
          "output_type": "stream",
          "text": [
            "2021-04-03 21:37:11,034 Previous dataset split restored\n"
          ],
          "name": "stderr"
        },
        {
          "output_type": "stream",
          "text": [
            "n_cnt [3119.]\n",
            "y_means [6.72793403]\n",
            "y_stds [1.18825005]\n",
            "TIMING: dataset construction took 0.116 s\n",
            "Loading dataset from disk.\n",
            "TIMING: dataset construction took 0.019 s\n",
            "Loading dataset from disk.\n",
            "TIMING: dataset construction took 0.018 s\n",
            "Loading dataset from disk.\n"
          ],
          "name": "stdout"
        },
        {
          "output_type": "stream",
          "text": [
            "2021-04-03 21:37:14,890 Wrote model metadata to file ampl_output/merge1/RF_ecfp_scaffold_regression/d4e25209-6669-4339-ad7b-fa4f8fb8027c/model_metadata.json\n",
            "2021-04-03 21:37:15,173 Wrote model metrics to file ampl_output/merge1/RF_ecfp_scaffold_regression/d4e25209-6669-4339-ad7b-fa4f8fb8027c/model_metrics.json\n"
          ],
          "name": "stderr"
        },
        {
          "output_type": "stream",
          "text": [
            "Wrote model tarball to ampl_output/merge1_model_d4e25209-6669-4339-ad7b-fa4f8fb8027c.tar.gz\n",
            "rf_estimators: 128, rf_max_depth: 128, rf_max_features: 128, valid_r2: 0.5442492201501881\n",
            "number of features: 1024\n"
          ],
          "name": "stdout"
        },
        {
          "output_type": "stream",
          "text": [
            "2021-04-03 21:37:27,662 Previous dataset split restored\n"
          ],
          "name": "stderr"
        },
        {
          "output_type": "stream",
          "text": [
            "n_cnt [3119.]\n",
            "y_means [6.72793403]\n",
            "y_stds [1.18825005]\n",
            "TIMING: dataset construction took 0.122 s\n",
            "Loading dataset from disk.\n",
            "TIMING: dataset construction took 0.018 s\n",
            "Loading dataset from disk.\n",
            "TIMING: dataset construction took 0.019 s\n",
            "Loading dataset from disk.\n"
          ],
          "name": "stdout"
        },
        {
          "output_type": "stream",
          "text": [
            "2021-04-03 21:37:31,374 Wrote model metadata to file ampl_output/merge1/RF_ecfp_scaffold_regression/4872a1e7-8ced-4055-97ce-d33830f4cca5/model_metadata.json\n",
            "2021-04-03 21:37:31,791 Wrote model metrics to file ampl_output/merge1/RF_ecfp_scaffold_regression/4872a1e7-8ced-4055-97ce-d33830f4cca5/model_metrics.json\n"
          ],
          "name": "stderr"
        },
        {
          "output_type": "stream",
          "text": [
            "Wrote model tarball to ampl_output/merge1_model_4872a1e7-8ced-4055-97ce-d33830f4cca5.tar.gz\n",
            "rf_estimators: 128, rf_max_depth: 128, rf_max_features: 128, valid_r2: 0.5449849605019161\n",
            "number of features: 1024\n"
          ],
          "name": "stdout"
        },
        {
          "output_type": "stream",
          "text": [
            "2021-04-03 21:37:44,172 Previous dataset split restored\n"
          ],
          "name": "stderr"
        },
        {
          "output_type": "stream",
          "text": [
            "n_cnt [3119.]\n",
            "y_means [6.72793403]\n",
            "y_stds [1.18825005]\n",
            "TIMING: dataset construction took 0.116 s\n",
            "Loading dataset from disk.\n",
            "TIMING: dataset construction took 0.018 s\n",
            "Loading dataset from disk.\n",
            "TIMING: dataset construction took 0.017 s\n",
            "Loading dataset from disk.\n"
          ],
          "name": "stdout"
        },
        {
          "output_type": "stream",
          "text": [
            "2021-04-03 21:37:49,069 Wrote model metadata to file ampl_output/merge1/RF_ecfp_scaffold_regression/e0f528a2-fc05-4f5d-9135-b4c7e90e87ac/model_metadata.json\n",
            "2021-04-03 21:37:49,384 Wrote model metrics to file ampl_output/merge1/RF_ecfp_scaffold_regression/e0f528a2-fc05-4f5d-9135-b4c7e90e87ac/model_metrics.json\n"
          ],
          "name": "stderr"
        },
        {
          "output_type": "stream",
          "text": [
            "Wrote model tarball to ampl_output/merge1_model_e0f528a2-fc05-4f5d-9135-b4c7e90e87ac.tar.gz\n",
            "rf_estimators: 128, rf_max_depth: 128, rf_max_features: 128, valid_r2: 0.5421388302558385\n",
            "number of features: 1024\n"
          ],
          "name": "stdout"
        },
        {
          "output_type": "stream",
          "text": [
            "2021-04-03 21:38:01,811 Previous dataset split restored\n"
          ],
          "name": "stderr"
        },
        {
          "output_type": "stream",
          "text": [
            "n_cnt [3119.]\n",
            "y_means [6.72793403]\n",
            "y_stds [1.18825005]\n",
            "TIMING: dataset construction took 0.114 s\n",
            "Loading dataset from disk.\n",
            "TIMING: dataset construction took 0.019 s\n",
            "Loading dataset from disk.\n",
            "TIMING: dataset construction took 0.017 s\n",
            "Loading dataset from disk.\n"
          ],
          "name": "stdout"
        },
        {
          "output_type": "stream",
          "text": [
            "2021-04-03 21:38:08,367 Wrote model metadata to file ampl_output/merge1/RF_ecfp_scaffold_regression/e095cad9-6285-4d83-be25-2c1f3f8a2fa5/model_metadata.json\n",
            "2021-04-03 21:38:08,816 Wrote model metrics to file ampl_output/merge1/RF_ecfp_scaffold_regression/e095cad9-6285-4d83-be25-2c1f3f8a2fa5/model_metrics.json\n"
          ],
          "name": "stderr"
        },
        {
          "output_type": "stream",
          "text": [
            "Wrote model tarball to ampl_output/merge1_model_e095cad9-6285-4d83-be25-2c1f3f8a2fa5.tar.gz\n",
            "rf_estimators: 128, rf_max_depth: 128, rf_max_features: 128, valid_r2: 0.5378231719081056\n",
            "number of features: 1024\n"
          ],
          "name": "stdout"
        },
        {
          "output_type": "stream",
          "text": [
            "2021-04-03 21:38:21,192 Previous dataset split restored\n"
          ],
          "name": "stderr"
        },
        {
          "output_type": "stream",
          "text": [
            "n_cnt [3119.]\n",
            "y_means [6.72793403]\n",
            "y_stds [1.18825005]\n",
            "TIMING: dataset construction took 0.113 s\n",
            "Loading dataset from disk.\n",
            "TIMING: dataset construction took 0.019 s\n",
            "Loading dataset from disk.\n",
            "TIMING: dataset construction took 0.020 s\n",
            "Loading dataset from disk.\n"
          ],
          "name": "stdout"
        },
        {
          "output_type": "stream",
          "text": [
            "2021-04-03 21:38:23,620 Wrote model metadata to file ampl_output/merge1/RF_ecfp_scaffold_regression/1b15c0ef-7376-44ae-b478-0deda0ccb9d2/model_metadata.json\n",
            "2021-04-03 21:38:23,719 Wrote model metrics to file ampl_output/merge1/RF_ecfp_scaffold_regression/1b15c0ef-7376-44ae-b478-0deda0ccb9d2/model_metrics.json\n"
          ],
          "name": "stderr"
        },
        {
          "output_type": "stream",
          "text": [
            "Wrote model tarball to ampl_output/merge1_model_1b15c0ef-7376-44ae-b478-0deda0ccb9d2.tar.gz\n",
            "rf_estimators: 128, rf_max_depth: 128, rf_max_features: 128, valid_r2: 0.5389143442093577\n",
            "number of features: 1024\n"
          ],
          "name": "stdout"
        },
        {
          "output_type": "stream",
          "text": [
            "2021-04-03 21:38:36,090 Previous dataset split restored\n"
          ],
          "name": "stderr"
        },
        {
          "output_type": "stream",
          "text": [
            "n_cnt [3119.]\n",
            "y_means [6.72793403]\n",
            "y_stds [1.18825005]\n",
            "TIMING: dataset construction took 0.114 s\n",
            "Loading dataset from disk.\n",
            "TIMING: dataset construction took 0.018 s\n",
            "Loading dataset from disk.\n",
            "TIMING: dataset construction took 0.017 s\n",
            "Loading dataset from disk.\n"
          ],
          "name": "stdout"
        },
        {
          "output_type": "stream",
          "text": [
            "2021-04-03 21:38:38,023 Wrote model metadata to file ampl_output/merge1/RF_ecfp_scaffold_regression/d50cfdcd-9c92-4e9e-b730-5b1e44427236/model_metadata.json\n",
            "2021-04-03 21:38:38,131 Wrote model metrics to file ampl_output/merge1/RF_ecfp_scaffold_regression/d50cfdcd-9c92-4e9e-b730-5b1e44427236/model_metrics.json\n"
          ],
          "name": "stderr"
        },
        {
          "output_type": "stream",
          "text": [
            "Wrote model tarball to ampl_output/merge1_model_d50cfdcd-9c92-4e9e-b730-5b1e44427236.tar.gz\n",
            "rf_estimators: 128, rf_max_depth: 128, rf_max_features: 128, valid_r2: 0.5438124177383756\n",
            "number of features: 1024\n"
          ],
          "name": "stdout"
        },
        {
          "output_type": "stream",
          "text": [
            "2021-04-03 21:38:50,597 Previous dataset split restored\n"
          ],
          "name": "stderr"
        },
        {
          "output_type": "stream",
          "text": [
            "n_cnt [3119.]\n",
            "y_means [6.72793403]\n",
            "y_stds [1.18825005]\n",
            "TIMING: dataset construction took 0.113 s\n",
            "Loading dataset from disk.\n",
            "TIMING: dataset construction took 0.019 s\n",
            "Loading dataset from disk.\n",
            "TIMING: dataset construction took 0.019 s\n",
            "Loading dataset from disk.\n"
          ],
          "name": "stdout"
        },
        {
          "output_type": "stream",
          "text": [
            "2021-04-03 21:38:53,133 Wrote model metadata to file ampl_output/merge1/RF_ecfp_scaffold_regression/1b22380e-dc35-4438-b50e-8d1d791dd494/model_metadata.json\n",
            "2021-04-03 21:38:53,298 Wrote model metrics to file ampl_output/merge1/RF_ecfp_scaffold_regression/1b22380e-dc35-4438-b50e-8d1d791dd494/model_metrics.json\n"
          ],
          "name": "stderr"
        },
        {
          "output_type": "stream",
          "text": [
            "Wrote model tarball to ampl_output/merge1_model_1b22380e-dc35-4438-b50e-8d1d791dd494.tar.gz\n",
            "rf_estimators: 128, rf_max_depth: 128, rf_max_features: 128, valid_r2: 0.5427288191409657\n",
            "number of features: 1024\n"
          ],
          "name": "stdout"
        },
        {
          "output_type": "stream",
          "text": [
            "2021-04-03 21:39:05,701 Previous dataset split restored\n"
          ],
          "name": "stderr"
        },
        {
          "output_type": "stream",
          "text": [
            "n_cnt [3119.]\n",
            "y_means [6.72793403]\n",
            "y_stds [1.18825005]\n",
            "TIMING: dataset construction took 0.112 s\n",
            "Loading dataset from disk.\n",
            "TIMING: dataset construction took 0.018 s\n",
            "Loading dataset from disk.\n",
            "TIMING: dataset construction took 0.019 s\n",
            "Loading dataset from disk.\n"
          ],
          "name": "stdout"
        },
        {
          "output_type": "stream",
          "text": [
            "2021-04-03 21:39:08,182 Wrote model metadata to file ampl_output/merge1/RF_ecfp_scaffold_regression/9fdc9628-bc99-4133-8920-da8e4822694a/model_metadata.json\n",
            "2021-04-03 21:39:08,241 Wrote model metrics to file ampl_output/merge1/RF_ecfp_scaffold_regression/9fdc9628-bc99-4133-8920-da8e4822694a/model_metrics.json\n"
          ],
          "name": "stderr"
        },
        {
          "output_type": "stream",
          "text": [
            "Wrote model tarball to ampl_output/merge1_model_9fdc9628-bc99-4133-8920-da8e4822694a.tar.gz\n",
            "rf_estimators: 128, rf_max_depth: 128, rf_max_features: 128, valid_r2: 0.5133825564776883\n",
            "number of features: 1024\n"
          ],
          "name": "stdout"
        },
        {
          "output_type": "stream",
          "text": [
            "2021-04-03 21:39:20,704 Previous dataset split restored\n"
          ],
          "name": "stderr"
        },
        {
          "output_type": "stream",
          "text": [
            "n_cnt [3119.]\n",
            "y_means [6.72793403]\n",
            "y_stds [1.18825005]\n",
            "TIMING: dataset construction took 0.114 s\n",
            "Loading dataset from disk.\n",
            "TIMING: dataset construction took 0.019 s\n",
            "Loading dataset from disk.\n",
            "TIMING: dataset construction took 0.018 s\n",
            "Loading dataset from disk.\n"
          ],
          "name": "stdout"
        },
        {
          "output_type": "stream",
          "text": [
            "2021-04-03 21:39:25,189 Wrote model metadata to file ampl_output/merge1/RF_ecfp_scaffold_regression/13df2466-5dc0-4ed2-a0ef-58c215ea2015/model_metadata.json\n",
            "2021-04-03 21:39:25,660 Wrote model metrics to file ampl_output/merge1/RF_ecfp_scaffold_regression/13df2466-5dc0-4ed2-a0ef-58c215ea2015/model_metrics.json\n"
          ],
          "name": "stderr"
        },
        {
          "output_type": "stream",
          "text": [
            "Wrote model tarball to ampl_output/merge1_model_13df2466-5dc0-4ed2-a0ef-58c215ea2015.tar.gz\n",
            "rf_estimators: 128, rf_max_depth: 128, rf_max_features: 128, valid_r2: 0.5453166655465551\n",
            "number of features: 1024\n"
          ],
          "name": "stdout"
        },
        {
          "output_type": "stream",
          "text": [
            "2021-04-03 21:39:38,002 Previous dataset split restored\n"
          ],
          "name": "stderr"
        },
        {
          "output_type": "stream",
          "text": [
            "n_cnt [3119.]\n",
            "y_means [6.72793403]\n",
            "y_stds [1.18825005]\n",
            "TIMING: dataset construction took 0.115 s\n",
            "Loading dataset from disk.\n",
            "TIMING: dataset construction took 0.019 s\n",
            "Loading dataset from disk.\n",
            "TIMING: dataset construction took 0.018 s\n",
            "Loading dataset from disk.\n"
          ],
          "name": "stdout"
        },
        {
          "output_type": "stream",
          "text": [
            "2021-04-03 21:39:39,897 Wrote model metadata to file ampl_output/merge1/RF_ecfp_scaffold_regression/f3fbc9d2-59ad-4855-bbac-c8bee5c8ccb2/model_metadata.json\n",
            "2021-04-03 21:39:39,988 Wrote model metrics to file ampl_output/merge1/RF_ecfp_scaffold_regression/f3fbc9d2-59ad-4855-bbac-c8bee5c8ccb2/model_metrics.json\n"
          ],
          "name": "stderr"
        },
        {
          "output_type": "stream",
          "text": [
            "Wrote model tarball to ampl_output/merge1_model_f3fbc9d2-59ad-4855-bbac-c8bee5c8ccb2.tar.gz\n",
            "rf_estimators: 128, rf_max_depth: 128, rf_max_features: 128, valid_r2: 0.5508213558366712\n",
            "number of features: 1024\n"
          ],
          "name": "stdout"
        },
        {
          "output_type": "stream",
          "text": [
            "2021-04-03 21:39:52,241 Previous dataset split restored\n"
          ],
          "name": "stderr"
        },
        {
          "output_type": "stream",
          "text": [
            "n_cnt [3119.]\n",
            "y_means [6.72793403]\n",
            "y_stds [1.18825005]\n",
            "TIMING: dataset construction took 0.117 s\n",
            "Loading dataset from disk.\n",
            "TIMING: dataset construction took 0.019 s\n",
            "Loading dataset from disk.\n",
            "TIMING: dataset construction took 0.017 s\n",
            "Loading dataset from disk.\n"
          ],
          "name": "stdout"
        },
        {
          "output_type": "stream",
          "text": [
            "2021-04-03 21:39:55,150 Wrote model metadata to file ampl_output/merge1/RF_ecfp_scaffold_regression/068ce52f-9fc9-4412-b892-2daed9caa388/model_metadata.json\n",
            "2021-04-03 21:39:55,263 Wrote model metrics to file ampl_output/merge1/RF_ecfp_scaffold_regression/068ce52f-9fc9-4412-b892-2daed9caa388/model_metrics.json\n"
          ],
          "name": "stderr"
        },
        {
          "output_type": "stream",
          "text": [
            "Wrote model tarball to ampl_output/merge1_model_068ce52f-9fc9-4412-b892-2daed9caa388.tar.gz\n",
            "rf_estimators: 128, rf_max_depth: 128, rf_max_features: 128, valid_r2: 0.5135833445426923\n",
            "number of features: 1024\n"
          ],
          "name": "stdout"
        },
        {
          "output_type": "stream",
          "text": [
            "2021-04-03 21:40:07,972 Previous dataset split restored\n"
          ],
          "name": "stderr"
        },
        {
          "output_type": "stream",
          "text": [
            "n_cnt [3119.]\n",
            "y_means [6.72793403]\n",
            "y_stds [1.18825005]\n",
            "TIMING: dataset construction took 0.114 s\n",
            "Loading dataset from disk.\n",
            "TIMING: dataset construction took 0.018 s\n",
            "Loading dataset from disk.\n",
            "TIMING: dataset construction took 0.018 s\n",
            "Loading dataset from disk.\n"
          ],
          "name": "stdout"
        },
        {
          "output_type": "stream",
          "text": [
            "2021-04-03 21:40:13,323 Wrote model metadata to file ampl_output/merge1/RF_ecfp_scaffold_regression/010546f2-3649-44ec-9731-06ef0bdb63d9/model_metadata.json\n",
            "2021-04-03 21:40:13,725 Wrote model metrics to file ampl_output/merge1/RF_ecfp_scaffold_regression/010546f2-3649-44ec-9731-06ef0bdb63d9/model_metrics.json\n"
          ],
          "name": "stderr"
        },
        {
          "output_type": "stream",
          "text": [
            "Wrote model tarball to ampl_output/merge1_model_010546f2-3649-44ec-9731-06ef0bdb63d9.tar.gz\n",
            "rf_estimators: 128, rf_max_depth: 128, rf_max_features: 128, valid_r2: 0.5457725395986721\n",
            "number of features: 1024\n"
          ],
          "name": "stdout"
        },
        {
          "output_type": "stream",
          "text": [
            "2021-04-03 21:40:26,085 Previous dataset split restored\n"
          ],
          "name": "stderr"
        },
        {
          "output_type": "stream",
          "text": [
            "n_cnt [3119.]\n",
            "y_means [6.72793403]\n",
            "y_stds [1.18825005]\n",
            "TIMING: dataset construction took 0.115 s\n",
            "Loading dataset from disk.\n",
            "TIMING: dataset construction took 0.018 s\n",
            "Loading dataset from disk.\n",
            "TIMING: dataset construction took 0.018 s\n",
            "Loading dataset from disk.\n"
          ],
          "name": "stdout"
        },
        {
          "output_type": "stream",
          "text": [
            "2021-04-03 21:40:31,199 Wrote model metadata to file ampl_output/merge1/RF_ecfp_scaffold_regression/1ceddbec-b6c5-471a-9bb4-cd19a5cbf165/model_metadata.json\n",
            "2021-04-03 21:40:31,565 Wrote model metrics to file ampl_output/merge1/RF_ecfp_scaffold_regression/1ceddbec-b6c5-471a-9bb4-cd19a5cbf165/model_metrics.json\n"
          ],
          "name": "stderr"
        },
        {
          "output_type": "stream",
          "text": [
            "Wrote model tarball to ampl_output/merge1_model_1ceddbec-b6c5-471a-9bb4-cd19a5cbf165.tar.gz\n",
            "rf_estimators: 128, rf_max_depth: 128, rf_max_features: 128, valid_r2: 0.5359969736113586\n",
            "number of features: 1024\n"
          ],
          "name": "stdout"
        },
        {
          "output_type": "stream",
          "text": [
            "2021-04-03 21:40:44,065 Previous dataset split restored\n"
          ],
          "name": "stderr"
        },
        {
          "output_type": "stream",
          "text": [
            "n_cnt [3119.]\n",
            "y_means [6.72793403]\n",
            "y_stds [1.18825005]\n",
            "TIMING: dataset construction took 0.113 s\n",
            "Loading dataset from disk.\n",
            "TIMING: dataset construction took 0.019 s\n",
            "Loading dataset from disk.\n",
            "TIMING: dataset construction took 0.018 s\n",
            "Loading dataset from disk.\n"
          ],
          "name": "stdout"
        },
        {
          "output_type": "stream",
          "text": [
            "2021-04-03 21:40:47,226 Wrote model metadata to file ampl_output/merge1/RF_ecfp_scaffold_regression/c256c92f-50bb-48d3-9f5a-d2e01768f6cc/model_metadata.json\n",
            "2021-04-03 21:40:47,579 Wrote model metrics to file ampl_output/merge1/RF_ecfp_scaffold_regression/c256c92f-50bb-48d3-9f5a-d2e01768f6cc/model_metrics.json\n"
          ],
          "name": "stderr"
        },
        {
          "output_type": "stream",
          "text": [
            "Wrote model tarball to ampl_output/merge1_model_c256c92f-50bb-48d3-9f5a-d2e01768f6cc.tar.gz\n",
            "rf_estimators: 128, rf_max_depth: 128, rf_max_features: 128, valid_r2: 0.5340886566935412\n",
            "number of features: 1024\n"
          ],
          "name": "stdout"
        },
        {
          "output_type": "stream",
          "text": [
            "2021-04-03 21:41:00,059 Previous dataset split restored\n"
          ],
          "name": "stderr"
        },
        {
          "output_type": "stream",
          "text": [
            "n_cnt [3119.]\n",
            "y_means [6.72793403]\n",
            "y_stds [1.18825005]\n",
            "TIMING: dataset construction took 0.113 s\n",
            "Loading dataset from disk.\n",
            "TIMING: dataset construction took 0.019 s\n",
            "Loading dataset from disk.\n",
            "TIMING: dataset construction took 0.017 s\n",
            "Loading dataset from disk.\n"
          ],
          "name": "stdout"
        },
        {
          "output_type": "stream",
          "text": [
            "2021-04-03 21:41:04,916 Wrote model metadata to file ampl_output/merge1/RF_ecfp_scaffold_regression/44842233-9f44-44ef-aab9-ba31b7a70128/model_metadata.json\n",
            "2021-04-03 21:41:05,282 Wrote model metrics to file ampl_output/merge1/RF_ecfp_scaffold_regression/44842233-9f44-44ef-aab9-ba31b7a70128/model_metrics.json\n"
          ],
          "name": "stderr"
        },
        {
          "output_type": "stream",
          "text": [
            "Wrote model tarball to ampl_output/merge1_model_44842233-9f44-44ef-aab9-ba31b7a70128.tar.gz\n",
            "rf_estimators: 128, rf_max_depth: 128, rf_max_features: 128, valid_r2: 0.5383191879173745\n",
            "number of features: 1024\n"
          ],
          "name": "stdout"
        },
        {
          "output_type": "stream",
          "text": [
            "2021-04-03 21:41:17,740 Previous dataset split restored\n"
          ],
          "name": "stderr"
        },
        {
          "output_type": "stream",
          "text": [
            "n_cnt [3119.]\n",
            "y_means [6.72793403]\n",
            "y_stds [1.18825005]\n",
            "TIMING: dataset construction took 0.126 s\n",
            "Loading dataset from disk.\n",
            "TIMING: dataset construction took 0.022 s\n",
            "Loading dataset from disk.\n",
            "TIMING: dataset construction took 0.020 s\n",
            "Loading dataset from disk.\n"
          ],
          "name": "stdout"
        },
        {
          "output_type": "stream",
          "text": [
            "2021-04-03 21:41:20,325 Wrote model metadata to file ampl_output/merge1/RF_ecfp_scaffold_regression/bc07ef3e-2206-40a6-b163-d33ff068be4a/model_metadata.json\n",
            "2021-04-03 21:41:20,433 Wrote model metrics to file ampl_output/merge1/RF_ecfp_scaffold_regression/bc07ef3e-2206-40a6-b163-d33ff068be4a/model_metrics.json\n"
          ],
          "name": "stderr"
        },
        {
          "output_type": "stream",
          "text": [
            "Wrote model tarball to ampl_output/merge1_model_bc07ef3e-2206-40a6-b163-d33ff068be4a.tar.gz\n",
            "rf_estimators: 128, rf_max_depth: 128, rf_max_features: 128, valid_r2: 0.5433835318336702\n",
            "number of features: 1024\n"
          ],
          "name": "stdout"
        },
        {
          "output_type": "stream",
          "text": [
            "2021-04-03 21:41:32,974 Previous dataset split restored\n"
          ],
          "name": "stderr"
        },
        {
          "output_type": "stream",
          "text": [
            "n_cnt [3119.]\n",
            "y_means [6.72793403]\n",
            "y_stds [1.18825005]\n",
            "TIMING: dataset construction took 0.113 s\n",
            "Loading dataset from disk.\n",
            "TIMING: dataset construction took 0.019 s\n",
            "Loading dataset from disk.\n",
            "TIMING: dataset construction took 0.018 s\n",
            "Loading dataset from disk.\n"
          ],
          "name": "stdout"
        },
        {
          "output_type": "stream",
          "text": [
            "2021-04-03 21:41:38,329 Wrote model metadata to file ampl_output/merge1/RF_ecfp_scaffold_regression/c5f2dd0d-6c49-44ec-81c2-c0d8d6510a81/model_metadata.json\n",
            "2021-04-03 21:41:38,712 Wrote model metrics to file ampl_output/merge1/RF_ecfp_scaffold_regression/c5f2dd0d-6c49-44ec-81c2-c0d8d6510a81/model_metrics.json\n"
          ],
          "name": "stderr"
        },
        {
          "output_type": "stream",
          "text": [
            "Wrote model tarball to ampl_output/merge1_model_c5f2dd0d-6c49-44ec-81c2-c0d8d6510a81.tar.gz\n",
            "rf_estimators: 128, rf_max_depth: 128, rf_max_features: 128, valid_r2: 0.5423475438068976\n",
            "number of features: 1024\n"
          ],
          "name": "stdout"
        },
        {
          "output_type": "stream",
          "text": [
            "2021-04-03 21:41:51,059 Previous dataset split restored\n"
          ],
          "name": "stderr"
        },
        {
          "output_type": "stream",
          "text": [
            "n_cnt [3119.]\n",
            "y_means [6.72793403]\n",
            "y_stds [1.18825005]\n",
            "TIMING: dataset construction took 0.112 s\n",
            "Loading dataset from disk.\n",
            "TIMING: dataset construction took 0.020 s\n",
            "Loading dataset from disk.\n",
            "TIMING: dataset construction took 0.018 s\n",
            "Loading dataset from disk.\n"
          ],
          "name": "stdout"
        },
        {
          "output_type": "stream",
          "text": [
            "2021-04-03 21:41:53,734 Wrote model metadata to file ampl_output/merge1/RF_ecfp_scaffold_regression/d8eb4d96-cd44-4466-9920-be24a82729eb/model_metadata.json\n",
            "2021-04-03 21:41:54,031 Wrote model metrics to file ampl_output/merge1/RF_ecfp_scaffold_regression/d8eb4d96-cd44-4466-9920-be24a82729eb/model_metrics.json\n"
          ],
          "name": "stderr"
        },
        {
          "output_type": "stream",
          "text": [
            "Wrote model tarball to ampl_output/merge1_model_d8eb4d96-cd44-4466-9920-be24a82729eb.tar.gz\n",
            "rf_estimators: 128, rf_max_depth: 128, rf_max_features: 128, valid_r2: 0.5213777006860014\n",
            "number of features: 1024\n"
          ],
          "name": "stdout"
        },
        {
          "output_type": "stream",
          "text": [
            "2021-04-03 21:42:06,420 Previous dataset split restored\n"
          ],
          "name": "stderr"
        },
        {
          "output_type": "stream",
          "text": [
            "n_cnt [3119.]\n",
            "y_means [6.72793403]\n",
            "y_stds [1.18825005]\n",
            "TIMING: dataset construction took 0.114 s\n",
            "Loading dataset from disk.\n",
            "TIMING: dataset construction took 0.019 s\n",
            "Loading dataset from disk.\n",
            "TIMING: dataset construction took 0.018 s\n",
            "Loading dataset from disk.\n"
          ],
          "name": "stdout"
        },
        {
          "output_type": "stream",
          "text": [
            "2021-04-03 21:42:07,978 Wrote model metadata to file ampl_output/merge1/RF_ecfp_scaffold_regression/6428f7e2-1004-4ef0-bffb-68baed5a80eb/model_metadata.json\n",
            "2021-04-03 21:42:08,051 Wrote model metrics to file ampl_output/merge1/RF_ecfp_scaffold_regression/6428f7e2-1004-4ef0-bffb-68baed5a80eb/model_metrics.json\n"
          ],
          "name": "stderr"
        },
        {
          "output_type": "stream",
          "text": [
            "Wrote model tarball to ampl_output/merge1_model_6428f7e2-1004-4ef0-bffb-68baed5a80eb.tar.gz\n",
            "rf_estimators: 128, rf_max_depth: 128, rf_max_features: 128, valid_r2: 0.5056975617042583\n",
            "number of features: 1024\n"
          ],
          "name": "stdout"
        },
        {
          "output_type": "stream",
          "text": [
            "2021-04-03 21:42:20,548 Previous dataset split restored\n"
          ],
          "name": "stderr"
        },
        {
          "output_type": "stream",
          "text": [
            "n_cnt [3119.]\n",
            "y_means [6.72793403]\n",
            "y_stds [1.18825005]\n",
            "TIMING: dataset construction took 0.113 s\n",
            "Loading dataset from disk.\n",
            "TIMING: dataset construction took 0.018 s\n",
            "Loading dataset from disk.\n",
            "TIMING: dataset construction took 0.017 s\n",
            "Loading dataset from disk.\n"
          ],
          "name": "stdout"
        },
        {
          "output_type": "stream",
          "text": [
            "2021-04-03 21:42:22,223 Wrote model metadata to file ampl_output/merge1/RF_ecfp_scaffold_regression/9caf95e0-b01a-46a2-ba54-b72d533712de/model_metadata.json\n",
            "2021-04-03 21:42:22,310 Wrote model metrics to file ampl_output/merge1/RF_ecfp_scaffold_regression/9caf95e0-b01a-46a2-ba54-b72d533712de/model_metrics.json\n"
          ],
          "name": "stderr"
        },
        {
          "output_type": "stream",
          "text": [
            "Wrote model tarball to ampl_output/merge1_model_9caf95e0-b01a-46a2-ba54-b72d533712de.tar.gz\n",
            "rf_estimators: 128, rf_max_depth: 128, rf_max_features: 128, valid_r2: 0.533462936811389\n",
            "number of features: 1024\n"
          ],
          "name": "stdout"
        },
        {
          "output_type": "stream",
          "text": [
            "2021-04-03 21:42:34,646 Previous dataset split restored\n"
          ],
          "name": "stderr"
        },
        {
          "output_type": "stream",
          "text": [
            "n_cnt [3119.]\n",
            "y_means [6.72793403]\n",
            "y_stds [1.18825005]\n",
            "TIMING: dataset construction took 0.112 s\n",
            "Loading dataset from disk.\n",
            "TIMING: dataset construction took 0.018 s\n",
            "Loading dataset from disk.\n",
            "TIMING: dataset construction took 0.018 s\n",
            "Loading dataset from disk.\n"
          ],
          "name": "stdout"
        },
        {
          "output_type": "stream",
          "text": [
            "2021-04-03 21:42:37,974 Wrote model metadata to file ampl_output/merge1/RF_ecfp_scaffold_regression/cbe242e4-8451-49cd-80c5-749e651935cd/model_metadata.json\n",
            "2021-04-03 21:42:38,200 Wrote model metrics to file ampl_output/merge1/RF_ecfp_scaffold_regression/cbe242e4-8451-49cd-80c5-749e651935cd/model_metrics.json\n"
          ],
          "name": "stderr"
        },
        {
          "output_type": "stream",
          "text": [
            "Wrote model tarball to ampl_output/merge1_model_cbe242e4-8451-49cd-80c5-749e651935cd.tar.gz\n",
            "rf_estimators: 128, rf_max_depth: 128, rf_max_features: 128, valid_r2: 0.5452064918061699\n",
            "number of features: 1024\n"
          ],
          "name": "stdout"
        },
        {
          "output_type": "stream",
          "text": [
            "2021-04-03 21:42:50,632 Previous dataset split restored\n"
          ],
          "name": "stderr"
        },
        {
          "output_type": "stream",
          "text": [
            "n_cnt [3119.]\n",
            "y_means [6.72793403]\n",
            "y_stds [1.18825005]\n",
            "TIMING: dataset construction took 0.118 s\n",
            "Loading dataset from disk.\n",
            "TIMING: dataset construction took 0.019 s\n",
            "Loading dataset from disk.\n",
            "TIMING: dataset construction took 0.018 s\n",
            "Loading dataset from disk.\n"
          ],
          "name": "stdout"
        },
        {
          "output_type": "stream",
          "text": [
            "2021-04-03 21:42:54,125 Wrote model metadata to file ampl_output/merge1/RF_ecfp_scaffold_regression/bfa8792e-95c6-4050-a7a8-8f81fe8c39e1/model_metadata.json\n",
            "2021-04-03 21:42:54,417 Wrote model metrics to file ampl_output/merge1/RF_ecfp_scaffold_regression/bfa8792e-95c6-4050-a7a8-8f81fe8c39e1/model_metrics.json\n"
          ],
          "name": "stderr"
        },
        {
          "output_type": "stream",
          "text": [
            "Wrote model tarball to ampl_output/merge1_model_bfa8792e-95c6-4050-a7a8-8f81fe8c39e1.tar.gz\n",
            "rf_estimators: 128, rf_max_depth: 128, rf_max_features: 128, valid_r2: 0.5400068731940441\n"
          ],
          "name": "stdout"
        }
      ]
    },
    {
      "cell_type": "code",
      "metadata": {
        "id": "EP7Oub5L67o_",
        "colab": {
          "base_uri": "https://localhost:8080/",
          "height": 1000
        },
        "outputId": "e0992bc4-75c6-4d15-b7af-21f8b5ccb6ef"
      },
      "source": [
        "perf_df = pd.DataFrame({\"rf_estimators\": rfe_list, \"rf_max_depth\": rfd_list, \"rf_max_features\": rff_list, \"valid_r2_score\": valid_r2_list})\n",
        "perf_df.sort_values(by=\"valid_r2_score\", ascending=False)"
      ],
      "execution_count": 43,
      "outputs": [
        {
          "output_type": "execute_result",
          "data": {
            "text/html": [
              "<div>\n",
              "<style scoped>\n",
              "    .dataframe tbody tr th:only-of-type {\n",
              "        vertical-align: middle;\n",
              "    }\n",
              "\n",
              "    .dataframe tbody tr th {\n",
              "        vertical-align: top;\n",
              "    }\n",
              "\n",
              "    .dataframe thead th {\n",
              "        text-align: right;\n",
              "    }\n",
              "</style>\n",
              "<table border=\"1\" class=\"dataframe\">\n",
              "  <thead>\n",
              "    <tr style=\"text-align: right;\">\n",
              "      <th></th>\n",
              "      <th>rf_estimators</th>\n",
              "      <th>rf_max_depth</th>\n",
              "      <th>rf_max_features</th>\n",
              "      <th>valid_r2_score</th>\n",
              "    </tr>\n",
              "  </thead>\n",
              "  <tbody>\n",
              "    <tr>\n",
              "      <th>18</th>\n",
              "      <td>206</td>\n",
              "      <td>223</td>\n",
              "      <td>94</td>\n",
              "      <td>0.561970</td>\n",
              "    </tr>\n",
              "    <tr>\n",
              "      <th>10</th>\n",
              "      <td>207</td>\n",
              "      <td>126</td>\n",
              "      <td>125</td>\n",
              "      <td>0.553145</td>\n",
              "    </tr>\n",
              "    <tr>\n",
              "      <th>3</th>\n",
              "      <td>226</td>\n",
              "      <td>100</td>\n",
              "      <td>86</td>\n",
              "      <td>0.552727</td>\n",
              "    </tr>\n",
              "    <tr>\n",
              "      <th>19</th>\n",
              "      <td>194</td>\n",
              "      <td>167</td>\n",
              "      <td>130</td>\n",
              "      <td>0.552268</td>\n",
              "    </tr>\n",
              "    <tr>\n",
              "      <th>17</th>\n",
              "      <td>204</td>\n",
              "      <td>210</td>\n",
              "      <td>125</td>\n",
              "      <td>0.551721</td>\n",
              "    </tr>\n",
              "    <tr>\n",
              "      <th>9</th>\n",
              "      <td>185</td>\n",
              "      <td>60</td>\n",
              "      <td>123</td>\n",
              "      <td>0.551136</td>\n",
              "    </tr>\n",
              "    <tr>\n",
              "      <th>37</th>\n",
              "      <td>47</td>\n",
              "      <td>138</td>\n",
              "      <td>115</td>\n",
              "      <td>0.550821</td>\n",
              "    </tr>\n",
              "    <tr>\n",
              "      <th>14</th>\n",
              "      <td>94</td>\n",
              "      <td>27</td>\n",
              "      <td>141</td>\n",
              "      <td>0.548965</td>\n",
              "    </tr>\n",
              "    <tr>\n",
              "      <th>39</th>\n",
              "      <td>215</td>\n",
              "      <td>92</td>\n",
              "      <td>179</td>\n",
              "      <td>0.545773</td>\n",
              "    </tr>\n",
              "    <tr>\n",
              "      <th>36</th>\n",
              "      <td>247</td>\n",
              "      <td>193</td>\n",
              "      <td>81</td>\n",
              "      <td>0.545317</td>\n",
              "    </tr>\n",
              "    <tr>\n",
              "      <th>4</th>\n",
              "      <td>147</td>\n",
              "      <td>149</td>\n",
              "      <td>118</td>\n",
              "      <td>0.545305</td>\n",
              "    </tr>\n",
              "    <tr>\n",
              "      <th>48</th>\n",
              "      <td>117</td>\n",
              "      <td>235</td>\n",
              "      <td>168</td>\n",
              "      <td>0.545206</td>\n",
              "    </tr>\n",
              "    <tr>\n",
              "      <th>29</th>\n",
              "      <td>222</td>\n",
              "      <td>149</td>\n",
              "      <td>46</td>\n",
              "      <td>0.544985</td>\n",
              "    </tr>\n",
              "    <tr>\n",
              "      <th>25</th>\n",
              "      <td>244</td>\n",
              "      <td>100</td>\n",
              "      <td>188</td>\n",
              "      <td>0.544342</td>\n",
              "    </tr>\n",
              "    <tr>\n",
              "      <th>28</th>\n",
              "      <td>143</td>\n",
              "      <td>248</td>\n",
              "      <td>167</td>\n",
              "      <td>0.544249</td>\n",
              "    </tr>\n",
              "    <tr>\n",
              "      <th>33</th>\n",
              "      <td>62</td>\n",
              "      <td>37</td>\n",
              "      <td>64</td>\n",
              "      <td>0.543812</td>\n",
              "    </tr>\n",
              "    <tr>\n",
              "      <th>13</th>\n",
              "      <td>118</td>\n",
              "      <td>233</td>\n",
              "      <td>221</td>\n",
              "      <td>0.543751</td>\n",
              "    </tr>\n",
              "    <tr>\n",
              "      <th>43</th>\n",
              "      <td>56</td>\n",
              "      <td>100</td>\n",
              "      <td>238</td>\n",
              "      <td>0.543384</td>\n",
              "    </tr>\n",
              "    <tr>\n",
              "      <th>34</th>\n",
              "      <td>85</td>\n",
              "      <td>62</td>\n",
              "      <td>116</td>\n",
              "      <td>0.542729</td>\n",
              "    </tr>\n",
              "    <tr>\n",
              "      <th>44</th>\n",
              "      <td>198</td>\n",
              "      <td>198</td>\n",
              "      <td>208</td>\n",
              "      <td>0.542348</td>\n",
              "    </tr>\n",
              "    <tr>\n",
              "      <th>26</th>\n",
              "      <td>119</td>\n",
              "      <td>171</td>\n",
              "      <td>174</td>\n",
              "      <td>0.542198</td>\n",
              "    </tr>\n",
              "    <tr>\n",
              "      <th>21</th>\n",
              "      <td>222</td>\n",
              "      <td>222</td>\n",
              "      <td>208</td>\n",
              "      <td>0.542168</td>\n",
              "    </tr>\n",
              "    <tr>\n",
              "      <th>30</th>\n",
              "      <td>166</td>\n",
              "      <td>107</td>\n",
              "      <td>228</td>\n",
              "      <td>0.542139</td>\n",
              "    </tr>\n",
              "    <tr>\n",
              "      <th>11</th>\n",
              "      <td>165</td>\n",
              "      <td>53</td>\n",
              "      <td>188</td>\n",
              "      <td>0.540335</td>\n",
              "    </tr>\n",
              "    <tr>\n",
              "      <th>49</th>\n",
              "      <td>199</td>\n",
              "      <td>29</td>\n",
              "      <td>83</td>\n",
              "      <td>0.540007</td>\n",
              "    </tr>\n",
              "    <tr>\n",
              "      <th>0</th>\n",
              "      <td>132</td>\n",
              "      <td>227</td>\n",
              "      <td>122</td>\n",
              "      <td>0.539926</td>\n",
              "    </tr>\n",
              "    <tr>\n",
              "      <th>32</th>\n",
              "      <td>74</td>\n",
              "      <td>25</td>\n",
              "      <td>193</td>\n",
              "      <td>0.538914</td>\n",
              "    </tr>\n",
              "    <tr>\n",
              "      <th>16</th>\n",
              "      <td>216</td>\n",
              "      <td>160</td>\n",
              "      <td>31</td>\n",
              "      <td>0.538369</td>\n",
              "    </tr>\n",
              "    <tr>\n",
              "      <th>42</th>\n",
              "      <td>184</td>\n",
              "      <td>56</td>\n",
              "      <td>187</td>\n",
              "      <td>0.538319</td>\n",
              "    </tr>\n",
              "    <tr>\n",
              "      <th>8</th>\n",
              "      <td>71</td>\n",
              "      <td>60</td>\n",
              "      <td>51</td>\n",
              "      <td>0.538174</td>\n",
              "    </tr>\n",
              "    <tr>\n",
              "      <th>31</th>\n",
              "      <td>244</td>\n",
              "      <td>180</td>\n",
              "      <td>224</td>\n",
              "      <td>0.537823</td>\n",
              "    </tr>\n",
              "    <tr>\n",
              "      <th>40</th>\n",
              "      <td>185</td>\n",
              "      <td>77</td>\n",
              "      <td>201</td>\n",
              "      <td>0.535997</td>\n",
              "    </tr>\n",
              "    <tr>\n",
              "      <th>24</th>\n",
              "      <td>94</td>\n",
              "      <td>188</td>\n",
              "      <td>195</td>\n",
              "      <td>0.535335</td>\n",
              "    </tr>\n",
              "    <tr>\n",
              "      <th>41</th>\n",
              "      <td>187</td>\n",
              "      <td>94</td>\n",
              "      <td>34</td>\n",
              "      <td>0.534089</td>\n",
              "    </tr>\n",
              "    <tr>\n",
              "      <th>47</th>\n",
              "      <td>44</td>\n",
              "      <td>75</td>\n",
              "      <td>54</td>\n",
              "      <td>0.533463</td>\n",
              "    </tr>\n",
              "    <tr>\n",
              "      <th>6</th>\n",
              "      <td>93</td>\n",
              "      <td>40</td>\n",
              "      <td>194</td>\n",
              "      <td>0.530237</td>\n",
              "    </tr>\n",
              "    <tr>\n",
              "      <th>15</th>\n",
              "      <td>180</td>\n",
              "      <td>250</td>\n",
              "      <td>238</td>\n",
              "      <td>0.528146</td>\n",
              "    </tr>\n",
              "    <tr>\n",
              "      <th>45</th>\n",
              "      <td>156</td>\n",
              "      <td>77</td>\n",
              "      <td>9</td>\n",
              "      <td>0.521378</td>\n",
              "    </tr>\n",
              "    <tr>\n",
              "      <th>7</th>\n",
              "      <td>35</td>\n",
              "      <td>240</td>\n",
              "      <td>173</td>\n",
              "      <td>0.519938</td>\n",
              "    </tr>\n",
              "    <tr>\n",
              "      <th>1</th>\n",
              "      <td>19</td>\n",
              "      <td>166</td>\n",
              "      <td>235</td>\n",
              "      <td>0.516854</td>\n",
              "    </tr>\n",
              "    <tr>\n",
              "      <th>2</th>\n",
              "      <td>38</td>\n",
              "      <td>71</td>\n",
              "      <td>198</td>\n",
              "      <td>0.515916</td>\n",
              "    </tr>\n",
              "    <tr>\n",
              "      <th>38</th>\n",
              "      <td>151</td>\n",
              "      <td>16</td>\n",
              "      <td>162</td>\n",
              "      <td>0.513583</td>\n",
              "    </tr>\n",
              "    <tr>\n",
              "      <th>35</th>\n",
              "      <td>92</td>\n",
              "      <td>14</td>\n",
              "      <td>231</td>\n",
              "      <td>0.513383</td>\n",
              "    </tr>\n",
              "    <tr>\n",
              "      <th>20</th>\n",
              "      <td>129</td>\n",
              "      <td>116</td>\n",
              "      <td>8</td>\n",
              "      <td>0.511010</td>\n",
              "    </tr>\n",
              "    <tr>\n",
              "      <th>23</th>\n",
              "      <td>102</td>\n",
              "      <td>100</td>\n",
              "      <td>14</td>\n",
              "      <td>0.506564</td>\n",
              "    </tr>\n",
              "    <tr>\n",
              "      <th>46</th>\n",
              "      <td>42</td>\n",
              "      <td>37</td>\n",
              "      <td>32</td>\n",
              "      <td>0.505698</td>\n",
              "    </tr>\n",
              "    <tr>\n",
              "      <th>5</th>\n",
              "      <td>12</td>\n",
              "      <td>38</td>\n",
              "      <td>182</td>\n",
              "      <td>0.491967</td>\n",
              "    </tr>\n",
              "    <tr>\n",
              "      <th>12</th>\n",
              "      <td>9</td>\n",
              "      <td>198</td>\n",
              "      <td>20</td>\n",
              "      <td>0.470475</td>\n",
              "    </tr>\n",
              "    <tr>\n",
              "      <th>27</th>\n",
              "      <td>213</td>\n",
              "      <td>9</td>\n",
              "      <td>77</td>\n",
              "      <td>0.413960</td>\n",
              "    </tr>\n",
              "    <tr>\n",
              "      <th>22</th>\n",
              "      <td>88</td>\n",
              "      <td>15</td>\n",
              "      <td>8</td>\n",
              "      <td>0.365167</td>\n",
              "    </tr>\n",
              "  </tbody>\n",
              "</table>\n",
              "</div>"
            ],
            "text/plain": [
              "    rf_estimators  rf_max_depth  rf_max_features  valid_r2_score\n",
              "18            206           223               94        0.561970\n",
              "10            207           126              125        0.553145\n",
              "3             226           100               86        0.552727\n",
              "19            194           167              130        0.552268\n",
              "17            204           210              125        0.551721\n",
              "9             185            60              123        0.551136\n",
              "37             47           138              115        0.550821\n",
              "14             94            27              141        0.548965\n",
              "39            215            92              179        0.545773\n",
              "36            247           193               81        0.545317\n",
              "4             147           149              118        0.545305\n",
              "48            117           235              168        0.545206\n",
              "29            222           149               46        0.544985\n",
              "25            244           100              188        0.544342\n",
              "28            143           248              167        0.544249\n",
              "33             62            37               64        0.543812\n",
              "13            118           233              221        0.543751\n",
              "43             56           100              238        0.543384\n",
              "34             85            62              116        0.542729\n",
              "44            198           198              208        0.542348\n",
              "26            119           171              174        0.542198\n",
              "21            222           222              208        0.542168\n",
              "30            166           107              228        0.542139\n",
              "11            165            53              188        0.540335\n",
              "49            199            29               83        0.540007\n",
              "0             132           227              122        0.539926\n",
              "32             74            25              193        0.538914\n",
              "16            216           160               31        0.538369\n",
              "42            184            56              187        0.538319\n",
              "8              71            60               51        0.538174\n",
              "31            244           180              224        0.537823\n",
              "40            185            77              201        0.535997\n",
              "24             94           188              195        0.535335\n",
              "41            187            94               34        0.534089\n",
              "47             44            75               54        0.533463\n",
              "6              93            40              194        0.530237\n",
              "15            180           250              238        0.528146\n",
              "45            156            77                9        0.521378\n",
              "7              35           240              173        0.519938\n",
              "1              19           166              235        0.516854\n",
              "2              38            71              198        0.515916\n",
              "38            151            16              162        0.513583\n",
              "35             92            14              231        0.513383\n",
              "20            129           116                8        0.511010\n",
              "23            102           100               14        0.506564\n",
              "46             42            37               32        0.505698\n",
              "5              12            38              182        0.491967\n",
              "12              9           198               20        0.470475\n",
              "27            213             9               77        0.413960\n",
              "22             88            15                8        0.365167"
            ]
          },
          "metadata": {
            "tags": []
          },
          "execution_count": 43
        }
      ]
    },
    {
      "cell_type": "markdown",
      "metadata": {
        "id": "-Jc4higsuY8i"
      },
      "source": [
        ""
      ]
    },
    {
      "cell_type": "markdown",
      "metadata": {
        "id": "DtpxAxlGuY6t"
      },
      "source": [
        ""
      ]
    },
    {
      "cell_type": "markdown",
      "metadata": {
        "id": "2VPUJvVQuY34"
      },
      "source": [
        ""
      ]
    },
    {
      "cell_type": "code",
      "metadata": {
        "id": "hL40_7KF6-BT",
        "colab": {
          "base_uri": "https://localhost:8080/",
          "height": 483
        },
        "outputId": "7f3f925c-68cc-4b80-97b8-d8e226b703b6"
      },
      "source": [
        "fig, ax = plt.subplots(1,3,figsize=(21,7))\n",
        "sns.scatterplot(data=perf_df, x=\"rf_estimators\", y=\"valid_r2_score\", ax=ax[0])\n",
        "sns.scatterplot(data=perf_df, x=\"rf_max_depth\", y=\"valid_r2_score\", ax=ax[1])\n",
        "sns.scatterplot(data=perf_df, x=\"rf_max_features\", y=\"valid_r2_score\", ax=ax[2])\n",
        "fig.tight_layout()"
      ],
      "execution_count": 44,
      "outputs": [
        {
          "output_type": "display_data",
          "data": {
            "image/png": "[encoded data removed]",
            "text/plain": [
              "<Figure size 1512x504 with 3 Axes>"
            ]
          },
          "metadata": {
            "tags": []
          }
        }
      ]
    },
    {
      "cell_type": "markdown",
      "metadata": {
        "id": "Za2roo8B7AfH"
      },
      "source": [
        "### Bayesian search"
      ]
    },
    {
      "cell_type": "code",
      "metadata": {
        "id": "iIHILV2R7Fz4"
      },
      "source": [
        "#define loss function\n",
        "def lossfn(p):\n",
        "    params[\"rf_estimators\"] = int(p[\"rf_estimator\"])\n",
        "    params[\"rf_max_depth\"] = int(p[\"rf_depth\"])\n",
        "    params[\"rf_max_features\"] = int(p[\"rf_feature\"])\n",
        "    \n",
        "    tparam = parse.wrapper(params)\n",
        "    pl = mp.ModelPipeline(tparam)\n",
        "    pl.train_model()\n",
        "    perf_data = pl.model_wrapper.get_perf_data(subset=\"valid\", epoch_label=\"best\")\n",
        "    pred_results = perf_data.get_prediction_results()\n",
        "    r2 = pred_results['r2_score']\n",
        "    return {'loss': 1-r2, \n",
        "            'status': STATUS_OK, \n",
        "            'model': tparam.model_tarball_path, \n",
        "            'rf_estimator': params[\"rf_estimators\"],\n",
        "            'rf_depth': params[\"rf_max_depth\"],\n",
        "            'rf_feature': params[\"rf_max_features\"]}\n",
        "\n",
        "space = {\n",
        "    \"rf_estimator\": hp.uniform(\"rf_estimator\", 8, 256),\n",
        "    \"rf_depth\": hp.uniform(\"rf_depth\", 8, 256),\n",
        "    \"rf_feature\": hp.uniform(\"rf_feature\", 8, 256)\n",
        "}"
      ],
      "execution_count": 45,
      "outputs": []
    },
    {
      "cell_type": "code",
      "metadata": {
        "id": "ndFs9n6f7G-Y",
        "colab": {
          "base_uri": "https://localhost:8080/"
        },
        "outputId": "d444d342-1d75-48ab-9e8d-ea58a1fea5e2"
      },
      "source": [
        "trials = Trials()\n",
        "best = fmin(lossfn, space, algo=tpe.suggest, max_evals=5, trials=trials)"
      ],
      "execution_count": 46,
      "outputs": [
        {
          "output_type": "stream",
          "text": [
            "number of features: 1024\n",
            "  0%|          | 0/5 [00:11<?, ?it/s, best loss: ?]"
          ],
          "name": "stdout"
        },
        {
          "output_type": "stream",
          "text": [
            "2021-04-03 21:53:35,789 Previous dataset split restored\n"
          ],
          "name": "stderr"
        },
        {
          "output_type": "stream",
          "text": [
            "n_cnt\n",
            "[3119.]\n",
            "y_means\n",
            "[6.72793403]\n",
            "y_stds\n",
            "[1.18825005]\n",
            "TIMING: dataset construction took 0.117 s\n",
            "Loading dataset from disk.\n",
            "TIMING: dataset construction took 0.019 s\n",
            "Loading dataset from disk.\n",
            "TIMING: dataset construction took 0.020 s\n",
            "Loading dataset from disk.\n",
            "  0%|          | 0/5 [00:12<?, ?it/s, best loss: ?]"
          ],
          "name": "stdout"
        },
        {
          "output_type": "stream",
          "text": [
            "2021-04-03 21:53:39,526 Wrote model metadata to file ampl_output/merge1/RF_ecfp_scaffold_regression/a066eba2-54fd-43b5-8bb7-d93ea6920bab/model_metadata.json\n"
          ],
          "name": "stderr"
        },
        {
          "output_type": "stream",
          "text": [
            "Wrote model tarball to ampl_output/merge1_model_a066eba2-54fd-43b5-8bb7-d93ea6920bab.tar.gz\n",
            "  0%|          | 0/5 [00:16<?, ?it/s, best loss: ?]"
          ],
          "name": "stdout"
        },
        {
          "output_type": "stream",
          "text": [
            "2021-04-03 21:53:39,919 Wrote model metrics to file ampl_output/merge1/RF_ecfp_scaffold_regression/a066eba2-54fd-43b5-8bb7-d93ea6920bab/model_metrics.json\n"
          ],
          "name": "stderr"
        },
        {
          "output_type": "stream",
          "text": [
            "number of features: 1024\n",
            " 20%|██        | 1/5 [00:28<01:06, 16.59s/it, best loss: 0.45176627022367266]"
          ],
          "name": "stdout"
        },
        {
          "output_type": "stream",
          "text": [
            "2021-04-03 21:53:52,450 Previous dataset split restored\n"
          ],
          "name": "stderr"
        },
        {
          "output_type": "stream",
          "text": [
            "n_cnt\n",
            "[3119.]\n",
            "y_means\n",
            "[6.72793403]\n",
            "y_stds\n",
            "[1.18825005]\n",
            "TIMING: dataset construction took 0.118 s\n",
            "Loading dataset from disk.\n",
            "TIMING: dataset construction took 0.019 s\n",
            "Loading dataset from disk.\n",
            "TIMING: dataset construction took 0.020 s\n",
            "Loading dataset from disk.\n",
            " 20%|██        | 1/5 [00:29<01:06, 16.59s/it, best loss: 0.45176627022367266]"
          ],
          "name": "stdout"
        },
        {
          "output_type": "stream",
          "text": [
            "2021-04-03 21:53:55,153 Wrote model metadata to file ampl_output/merge1/RF_ecfp_scaffold_regression/8335898d-00aa-4e73-9bab-e7e6151980dd/model_metadata.json\n"
          ],
          "name": "stderr"
        },
        {
          "output_type": "stream",
          "text": [
            "Wrote model tarball to ampl_output/merge1_model_8335898d-00aa-4e73-9bab-e7e6151980dd.tar.gz\n",
            " 20%|██        | 1/5 [00:32<01:06, 16.59s/it, best loss: 0.45176627022367266]"
          ],
          "name": "stdout"
        },
        {
          "output_type": "stream",
          "text": [
            "2021-04-03 21:53:55,416 Wrote model metrics to file ampl_output/merge1/RF_ecfp_scaffold_regression/8335898d-00aa-4e73-9bab-e7e6151980dd/model_metrics.json\n"
          ],
          "name": "stderr"
        },
        {
          "output_type": "stream",
          "text": [
            "number of features: 1024\n",
            " 40%|████      | 2/5 [00:43<00:48, 16.26s/it, best loss: 0.45176627022367266]"
          ],
          "name": "stdout"
        },
        {
          "output_type": "stream",
          "text": [
            "2021-04-03 21:54:07,934 Previous dataset split restored\n"
          ],
          "name": "stderr"
        },
        {
          "output_type": "stream",
          "text": [
            "n_cnt\n",
            "[3119.]\n",
            "y_means\n",
            "[6.72793403]\n",
            "y_stds\n",
            "[1.18825005]\n",
            "TIMING: dataset construction took 0.116 s\n",
            "Loading dataset from disk.\n",
            "TIMING: dataset construction took 0.019 s\n",
            "Loading dataset from disk.\n",
            "TIMING: dataset construction took 0.019 s\n",
            "Loading dataset from disk.\n",
            " 40%|████      | 2/5 [00:44<00:48, 16.26s/it, best loss: 0.45176627022367266]"
          ],
          "name": "stdout"
        },
        {
          "output_type": "stream",
          "text": [
            "2021-04-03 21:54:11,349 Wrote model metadata to file ampl_output/merge1/RF_ecfp_scaffold_regression/4157c833-40fd-435f-9104-2ad05e95f2e5/model_metadata.json\n"
          ],
          "name": "stderr"
        },
        {
          "output_type": "stream",
          "text": [
            "Wrote model tarball to ampl_output/merge1_model_4157c833-40fd-435f-9104-2ad05e95f2e5.tar.gz\n",
            " 40%|████      | 2/5 [00:48<00:48, 16.26s/it, best loss: 0.45176627022367266]"
          ],
          "name": "stdout"
        },
        {
          "output_type": "stream",
          "text": [
            "2021-04-03 21:54:11,677 Wrote model metrics to file ampl_output/merge1/RF_ecfp_scaffold_regression/4157c833-40fd-435f-9104-2ad05e95f2e5/model_metrics.json\n"
          ],
          "name": "stderr"
        },
        {
          "output_type": "stream",
          "text": [
            "number of features: 1024\n",
            " 60%|██████    | 3/5 [01:00<00:32, 16.26s/it, best loss: 0.45176627022367266]"
          ],
          "name": "stdout"
        },
        {
          "output_type": "stream",
          "text": [
            "2021-04-03 21:54:24,191 Previous dataset split restored\n"
          ],
          "name": "stderr"
        },
        {
          "output_type": "stream",
          "text": [
            "n_cnt\n",
            "[3119.]\n",
            "y_means\n",
            "[6.72793403]\n",
            "y_stds\n",
            "[1.18825005]\n",
            "TIMING: dataset construction took 0.118 s\n",
            "Loading dataset from disk.\n",
            "TIMING: dataset construction took 0.020 s\n",
            "Loading dataset from disk.\n",
            "TIMING: dataset construction took 0.022 s\n",
            "Loading dataset from disk.\n",
            " 60%|██████    | 3/5 [01:01<00:32, 16.26s/it, best loss: 0.45176627022367266]"
          ],
          "name": "stdout"
        },
        {
          "output_type": "stream",
          "text": [
            "2021-04-03 21:54:27,149 Wrote model metadata to file ampl_output/merge1/RF_ecfp_scaffold_regression/f00a327b-3099-43b0-b60f-c44dfa3c9b7d/model_metadata.json\n"
          ],
          "name": "stderr"
        },
        {
          "output_type": "stream",
          "text": [
            "Wrote model tarball to ampl_output/merge1_model_f00a327b-3099-43b0-b60f-c44dfa3c9b7d.tar.gz\n",
            " 60%|██████    | 3/5 [01:04<00:32, 16.26s/it, best loss: 0.45176627022367266]"
          ],
          "name": "stdout"
        },
        {
          "output_type": "stream",
          "text": [
            "2021-04-03 21:54:27,386 Wrote model metrics to file ampl_output/merge1/RF_ecfp_scaffold_regression/f00a327b-3099-43b0-b60f-c44dfa3c9b7d/model_metrics.json\n"
          ],
          "name": "stderr"
        },
        {
          "output_type": "stream",
          "text": [
            "number of features: 1024\n",
            " 80%|████████  | 4/5 [01:15<00:16, 16.10s/it, best loss: 0.45176627022367266]"
          ],
          "name": "stdout"
        },
        {
          "output_type": "stream",
          "text": [
            "2021-04-03 21:54:39,894 Previous dataset split restored\n"
          ],
          "name": "stderr"
        },
        {
          "output_type": "stream",
          "text": [
            "n_cnt\n",
            "[3119.]\n",
            "y_means\n",
            "[6.72793403]\n",
            "y_stds\n",
            "[1.18825005]\n",
            "TIMING: dataset construction took 0.128 s\n",
            "Loading dataset from disk.\n",
            "TIMING: dataset construction took 0.020 s\n",
            "Loading dataset from disk.\n",
            "TIMING: dataset construction took 0.020 s\n",
            "Loading dataset from disk.\n",
            " 80%|████████  | 4/5 [01:16<00:16, 16.10s/it, best loss: 0.45176627022367266]"
          ],
          "name": "stdout"
        },
        {
          "output_type": "stream",
          "text": [
            "2021-04-03 21:54:42,568 Wrote model metadata to file ampl_output/merge1/RF_ecfp_scaffold_regression/f657d08c-d69b-45c9-b871-52b56ca41937/model_metadata.json\n"
          ],
          "name": "stderr"
        },
        {
          "output_type": "stream",
          "text": [
            "Wrote model tarball to ampl_output/merge1_model_f657d08c-d69b-45c9-b871-52b56ca41937.tar.gz\n",
            " 80%|████████  | 4/5 [01:19<00:16, 16.10s/it, best loss: 0.45176627022367266]"
          ],
          "name": "stdout"
        },
        {
          "output_type": "stream",
          "text": [
            "2021-04-03 21:54:42,699 Wrote model metrics to file ampl_output/merge1/RF_ecfp_scaffold_regression/f657d08c-d69b-45c9-b871-52b56ca41937/model_metrics.json\n"
          ],
          "name": "stderr"
        },
        {
          "output_type": "stream",
          "text": [
            "100%|██████████| 5/5 [01:19<00:00, 15.87s/it, best loss: 0.45176627022367266]\n"
          ],
          "name": "stdout"
        }
      ]
    },
    {
      "cell_type": "code",
      "metadata": {
        "id": "sC-LVt3VtPDc",
        "colab": {
          "base_uri": "https://localhost:8080/",
          "height": 635
        },
        "outputId": "eef1e9f1-1977-4855-ff9c-30ef3e6757e3"
      },
      "source": [
        "r2_list = [1-trials.trials[i][\"result\"][\"loss\"] for i in range(len(trials.trials))]\n",
        "fig, ax = plt.subplots(1,1,figsize=(10,10))\n",
        "sns.lineplot(x=list(range(1,len(trials.trials)+1)), y=r2_list, ax=ax)\n",
        "ax.set_ylim(0.2,0.6)"
      ],
      "execution_count": 47,
      "outputs": [
        {
          "output_type": "execute_result",
          "data": {
            "text/plain": [
              "(0.2, 0.6)"
            ]
          },
          "metadata": {
            "tags": []
          },
          "execution_count": 47
        },
        {
          "output_type": "display_data",
          "data": {
            "image/png": "[encoded data removed]",
            "text/plain": [
              "<Figure size 720x720 with 1 Axes>"
            ]
          },
          "metadata": {
            "tags": []
          }
        }
      ]
    },
    {
      "cell_type": "code",
      "metadata": {
        "id": "-2_z-vFLtUYb"
      },
      "source": [
        "rfe_list = [trials.trials[i][\"result\"][\"rf_estimator\"] for i in range(len(trials.trials))]\n",
        "rfd_list = [trials.trials[i][\"result\"][\"rf_depth\"] for i in range(len(trials.trials))]\n",
        "rff_list = [trials.trials[i][\"result\"][\"rf_feature\"] for i in range(len(trials.trials))]"
      ],
      "execution_count": 48,
      "outputs": []
    },
    {
      "cell_type": "code",
      "metadata": {
        "id": "sDMxDhM5tXHa",
        "colab": {
          "base_uri": "https://localhost:8080/",
          "height": 204
        },
        "outputId": "cfd6b531-f63b-4cc9-9915-e146328ccba5"
      },
      "source": [
        "perf_df = pd.DataFrame({\"rf_estimators\": rfe_list, \"rf_max_depth\": rfd_list, \"rf_max_features\": rff_list, \"valid_r2_score\": r2_list})\n",
        "perf_df.sort_values(by=\"valid_r2_score\", ascending=False)"
      ],
      "execution_count": 49,
      "outputs": [
        {
          "output_type": "execute_result",
          "data": {
            "text/html": [
              "<div>\n",
              "<style scoped>\n",
              "    .dataframe tbody tr th:only-of-type {\n",
              "        vertical-align: middle;\n",
              "    }\n",
              "\n",
              "    .dataframe tbody tr th {\n",
              "        vertical-align: top;\n",
              "    }\n",
              "\n",
              "    .dataframe thead th {\n",
              "        text-align: right;\n",
              "    }\n",
              "</style>\n",
              "<table border=\"1\" class=\"dataframe\">\n",
              "  <thead>\n",
              "    <tr style=\"text-align: right;\">\n",
              "      <th></th>\n",
              "      <th>rf_estimators</th>\n",
              "      <th>rf_max_depth</th>\n",
              "      <th>rf_max_features</th>\n",
              "      <th>valid_r2_score</th>\n",
              "    </tr>\n",
              "  </thead>\n",
              "  <tbody>\n",
              "    <tr>\n",
              "      <th>0</th>\n",
              "      <td>204</td>\n",
              "      <td>253</td>\n",
              "      <td>55</td>\n",
              "      <td>0.548234</td>\n",
              "    </tr>\n",
              "    <tr>\n",
              "      <th>2</th>\n",
              "      <td>172</td>\n",
              "      <td>91</td>\n",
              "      <td>60</td>\n",
              "      <td>0.545721</td>\n",
              "    </tr>\n",
              "    <tr>\n",
              "      <th>3</th>\n",
              "      <td>123</td>\n",
              "      <td>82</td>\n",
              "      <td>86</td>\n",
              "      <td>0.538919</td>\n",
              "    </tr>\n",
              "    <tr>\n",
              "      <th>1</th>\n",
              "      <td>137</td>\n",
              "      <td>65</td>\n",
              "      <td>37</td>\n",
              "      <td>0.532271</td>\n",
              "    </tr>\n",
              "    <tr>\n",
              "      <th>4</th>\n",
              "      <td>81</td>\n",
              "      <td>30</td>\n",
              "      <td>172</td>\n",
              "      <td>0.527280</td>\n",
              "    </tr>\n",
              "  </tbody>\n",
              "</table>\n",
              "</div>"
            ],
            "text/plain": [
              "   rf_estimators  rf_max_depth  rf_max_features  valid_r2_score\n",
              "0            204           253               55        0.548234\n",
              "2            172            91               60        0.545721\n",
              "3            123            82               86        0.538919\n",
              "1            137            65               37        0.532271\n",
              "4             81            30              172        0.527280"
            ]
          },
          "metadata": {
            "tags": []
          },
          "execution_count": 49
        }
      ]
    },
    {
      "cell_type": "markdown",
      "metadata": {
        "id": "XB0K5BimtYDS"
      },
      "source": [
        "#### Save Bayesian optimization trial object and continue later"
      ]
    },
    {
      "cell_type": "code",
      "metadata": {
        "id": "VzXDDEF_r8h8"
      },
      "source": [
        "# save the trial object\n",
        "trial_file = os.path.join(\"hp_trial.pkl\")\n",
        "with open(trial_file, \"wb\") as f:\n",
        "    pickle.dump(trials, f)"
      ],
      "execution_count": 50,
      "outputs": []
    },
    {
      "cell_type": "code",
      "metadata": {
        "id": "jSWVhsjfsINl"
      },
      "source": [
        "# load the trial object\n",
        "with open(trial_file, \"rb\") as f:\n",
        "    new_trials = pickle.load(f)"
      ],
      "execution_count": 51,
      "outputs": []
    },
    {
      "cell_type": "code",
      "metadata": {
        "id": "IXcOynF7sLMn"
      },
      "source": [
        "# continue HPO\n",
        "best = fmin(lossfn, space, algo=tpe.suggest, max_evals=50, trials=new_trials)"
      ],
      "execution_count": null,
      "outputs": []
    },
    {
      "cell_type": "code",
      "metadata": {
        "id": "2l-of-gh7Jaq"
      },
      "source": [
        "r2_list = [1-new_trials.trials[i][\"result\"][\"loss\"] for i in range(len(new_trials.trials))]\n",
        "fig, ax = plt.subplots(1,1,figsize=(10,10))\n",
        "sns.lineplot(x=list(range(1,len(new_trials.trials)+1)), y=r2_list, ax=ax)\n",
        "ax.set_ylim(0.2,0.6)"
      ],
      "execution_count": null,
      "outputs": []
    },
    {
      "cell_type": "code",
      "metadata": {
        "id": "lhvjj4tx7LQB"
      },
      "source": [
        "rfe_list = [new_trials.trials[i][\"result\"][\"rf_estimator\"] for i in range(len(new_trials.trials))]\n",
        "rfd_list = [new_trials.trials[i][\"result\"][\"rf_depth\"] for i in range(len(new_trials.trials))]\n",
        "rff_list = [new_trials.trials[i][\"result\"][\"rf_feature\"] for i in range(len(new_trials.trials))]"
      ],
      "execution_count": null,
      "outputs": []
    },
    {
      "cell_type": "code",
      "metadata": {
        "id": "1ELOR0Ij7OVJ"
      },
      "source": [
        "perf_df = pd.DataFrame({\"rf_estimators\": rfe_list, \"rf_max_depth\": rfd_list, \"rf_max_features\": rff_list, \"valid_r2_score\": r2_list})\n",
        "perf_df.sort_values(by=\"valid_r2_score\", ascending=False)"
      ],
      "execution_count": null,
      "outputs": []
    }
  ]
}